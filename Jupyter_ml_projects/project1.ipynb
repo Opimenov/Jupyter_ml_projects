{
 "cells": [
  {
   "cell_type": "markdown",
   "metadata": {},
   "source": [
    "# Project 1\n",
    "# House pricing prediction"
   ]
  },
  {
   "cell_type": "code",
   "execution_count": 1,
   "metadata": {
    "collapsed": true
   },
   "outputs": [],
   "source": [
    "import graphlab as gl"
   ]
  },
  {
   "cell_type": "markdown",
   "metadata": {},
   "source": [
    "## Load sales data "
   ]
  },
  {
   "cell_type": "code",
   "execution_count": 2,
   "metadata": {
    "collapsed": false
   },
   "outputs": [
    {
     "name": "stdout",
     "output_type": "stream",
     "text": [
      "This non-commercial license of GraphLab Create for academic use is assigned to pialgi@live.com and will expire on March 28, 2018.\n"
     ]
    },
    {
     "name": "stderr",
     "output_type": "stream",
     "text": [
      "[INFO] graphlab.cython.cy_server: GraphLab Create v2.1 started. Logging: /tmp/graphlab_server_1490909069.log\n"
     ]
    }
   ],
   "source": [
    "sales = gl.SFrame('../datasets/home_data.gl/')"
   ]
  },
  {
   "cell_type": "markdown",
   "metadata": {},
   "source": [
    "### Check what we got"
   ]
  },
  {
   "cell_type": "code",
   "execution_count": 3,
   "metadata": {
    "collapsed": false,
    "scrolled": true
   },
   "outputs": [
    {
     "data": {
      "text/html": [
       "<div style=\"max-height:1000px;max-width:1500px;overflow:auto;\"><table frame=\"box\" rules=\"cols\">\n",
       "    <tr>\n",
       "        <th style=\"padding-left: 1em; padding-right: 1em; text-align: center\">id</th>\n",
       "        <th style=\"padding-left: 1em; padding-right: 1em; text-align: center\">date</th>\n",
       "        <th style=\"padding-left: 1em; padding-right: 1em; text-align: center\">price</th>\n",
       "        <th style=\"padding-left: 1em; padding-right: 1em; text-align: center\">bedrooms</th>\n",
       "        <th style=\"padding-left: 1em; padding-right: 1em; text-align: center\">bathrooms</th>\n",
       "        <th style=\"padding-left: 1em; padding-right: 1em; text-align: center\">sqft_living</th>\n",
       "        <th style=\"padding-left: 1em; padding-right: 1em; text-align: center\">sqft_lot</th>\n",
       "        <th style=\"padding-left: 1em; padding-right: 1em; text-align: center\">floors</th>\n",
       "        <th style=\"padding-left: 1em; padding-right: 1em; text-align: center\">waterfront</th>\n",
       "    </tr>\n",
       "    <tr>\n",
       "        <td style=\"padding-left: 1em; padding-right: 1em; text-align: center; vertical-align: top\">7129300520</td>\n",
       "        <td style=\"padding-left: 1em; padding-right: 1em; text-align: center; vertical-align: top\">2014-10-13 00:00:00+00:00</td>\n",
       "        <td style=\"padding-left: 1em; padding-right: 1em; text-align: center; vertical-align: top\">221900</td>\n",
       "        <td style=\"padding-left: 1em; padding-right: 1em; text-align: center; vertical-align: top\">3</td>\n",
       "        <td style=\"padding-left: 1em; padding-right: 1em; text-align: center; vertical-align: top\">1</td>\n",
       "        <td style=\"padding-left: 1em; padding-right: 1em; text-align: center; vertical-align: top\">1180</td>\n",
       "        <td style=\"padding-left: 1em; padding-right: 1em; text-align: center; vertical-align: top\">5650</td>\n",
       "        <td style=\"padding-left: 1em; padding-right: 1em; text-align: center; vertical-align: top\">1</td>\n",
       "        <td style=\"padding-left: 1em; padding-right: 1em; text-align: center; vertical-align: top\">0</td>\n",
       "    </tr>\n",
       "    <tr>\n",
       "        <td style=\"padding-left: 1em; padding-right: 1em; text-align: center; vertical-align: top\">6414100192</td>\n",
       "        <td style=\"padding-left: 1em; padding-right: 1em; text-align: center; vertical-align: top\">2014-12-09 00:00:00+00:00</td>\n",
       "        <td style=\"padding-left: 1em; padding-right: 1em; text-align: center; vertical-align: top\">538000</td>\n",
       "        <td style=\"padding-left: 1em; padding-right: 1em; text-align: center; vertical-align: top\">3</td>\n",
       "        <td style=\"padding-left: 1em; padding-right: 1em; text-align: center; vertical-align: top\">2.25</td>\n",
       "        <td style=\"padding-left: 1em; padding-right: 1em; text-align: center; vertical-align: top\">2570</td>\n",
       "        <td style=\"padding-left: 1em; padding-right: 1em; text-align: center; vertical-align: top\">7242</td>\n",
       "        <td style=\"padding-left: 1em; padding-right: 1em; text-align: center; vertical-align: top\">2</td>\n",
       "        <td style=\"padding-left: 1em; padding-right: 1em; text-align: center; vertical-align: top\">0</td>\n",
       "    </tr>\n",
       "    <tr>\n",
       "        <td style=\"padding-left: 1em; padding-right: 1em; text-align: center; vertical-align: top\">5631500400</td>\n",
       "        <td style=\"padding-left: 1em; padding-right: 1em; text-align: center; vertical-align: top\">2015-02-25 00:00:00+00:00</td>\n",
       "        <td style=\"padding-left: 1em; padding-right: 1em; text-align: center; vertical-align: top\">180000</td>\n",
       "        <td style=\"padding-left: 1em; padding-right: 1em; text-align: center; vertical-align: top\">2</td>\n",
       "        <td style=\"padding-left: 1em; padding-right: 1em; text-align: center; vertical-align: top\">1</td>\n",
       "        <td style=\"padding-left: 1em; padding-right: 1em; text-align: center; vertical-align: top\">770</td>\n",
       "        <td style=\"padding-left: 1em; padding-right: 1em; text-align: center; vertical-align: top\">10000</td>\n",
       "        <td style=\"padding-left: 1em; padding-right: 1em; text-align: center; vertical-align: top\">1</td>\n",
       "        <td style=\"padding-left: 1em; padding-right: 1em; text-align: center; vertical-align: top\">0</td>\n",
       "    </tr>\n",
       "    <tr>\n",
       "        <td style=\"padding-left: 1em; padding-right: 1em; text-align: center; vertical-align: top\">2487200875</td>\n",
       "        <td style=\"padding-left: 1em; padding-right: 1em; text-align: center; vertical-align: top\">2014-12-09 00:00:00+00:00</td>\n",
       "        <td style=\"padding-left: 1em; padding-right: 1em; text-align: center; vertical-align: top\">604000</td>\n",
       "        <td style=\"padding-left: 1em; padding-right: 1em; text-align: center; vertical-align: top\">4</td>\n",
       "        <td style=\"padding-left: 1em; padding-right: 1em; text-align: center; vertical-align: top\">3</td>\n",
       "        <td style=\"padding-left: 1em; padding-right: 1em; text-align: center; vertical-align: top\">1960</td>\n",
       "        <td style=\"padding-left: 1em; padding-right: 1em; text-align: center; vertical-align: top\">5000</td>\n",
       "        <td style=\"padding-left: 1em; padding-right: 1em; text-align: center; vertical-align: top\">1</td>\n",
       "        <td style=\"padding-left: 1em; padding-right: 1em; text-align: center; vertical-align: top\">0</td>\n",
       "    </tr>\n",
       "    <tr>\n",
       "        <td style=\"padding-left: 1em; padding-right: 1em; text-align: center; vertical-align: top\">1954400510</td>\n",
       "        <td style=\"padding-left: 1em; padding-right: 1em; text-align: center; vertical-align: top\">2015-02-18 00:00:00+00:00</td>\n",
       "        <td style=\"padding-left: 1em; padding-right: 1em; text-align: center; vertical-align: top\">510000</td>\n",
       "        <td style=\"padding-left: 1em; padding-right: 1em; text-align: center; vertical-align: top\">3</td>\n",
       "        <td style=\"padding-left: 1em; padding-right: 1em; text-align: center; vertical-align: top\">2</td>\n",
       "        <td style=\"padding-left: 1em; padding-right: 1em; text-align: center; vertical-align: top\">1680</td>\n",
       "        <td style=\"padding-left: 1em; padding-right: 1em; text-align: center; vertical-align: top\">8080</td>\n",
       "        <td style=\"padding-left: 1em; padding-right: 1em; text-align: center; vertical-align: top\">1</td>\n",
       "        <td style=\"padding-left: 1em; padding-right: 1em; text-align: center; vertical-align: top\">0</td>\n",
       "    </tr>\n",
       "    <tr>\n",
       "        <td style=\"padding-left: 1em; padding-right: 1em; text-align: center; vertical-align: top\">7237550310</td>\n",
       "        <td style=\"padding-left: 1em; padding-right: 1em; text-align: center; vertical-align: top\">2014-05-12 00:00:00+00:00</td>\n",
       "        <td style=\"padding-left: 1em; padding-right: 1em; text-align: center; vertical-align: top\">1225000</td>\n",
       "        <td style=\"padding-left: 1em; padding-right: 1em; text-align: center; vertical-align: top\">4</td>\n",
       "        <td style=\"padding-left: 1em; padding-right: 1em; text-align: center; vertical-align: top\">4.5</td>\n",
       "        <td style=\"padding-left: 1em; padding-right: 1em; text-align: center; vertical-align: top\">5420</td>\n",
       "        <td style=\"padding-left: 1em; padding-right: 1em; text-align: center; vertical-align: top\">101930</td>\n",
       "        <td style=\"padding-left: 1em; padding-right: 1em; text-align: center; vertical-align: top\">1</td>\n",
       "        <td style=\"padding-left: 1em; padding-right: 1em; text-align: center; vertical-align: top\">0</td>\n",
       "    </tr>\n",
       "    <tr>\n",
       "        <td style=\"padding-left: 1em; padding-right: 1em; text-align: center; vertical-align: top\">1321400060</td>\n",
       "        <td style=\"padding-left: 1em; padding-right: 1em; text-align: center; vertical-align: top\">2014-06-27 00:00:00+00:00</td>\n",
       "        <td style=\"padding-left: 1em; padding-right: 1em; text-align: center; vertical-align: top\">257500</td>\n",
       "        <td style=\"padding-left: 1em; padding-right: 1em; text-align: center; vertical-align: top\">3</td>\n",
       "        <td style=\"padding-left: 1em; padding-right: 1em; text-align: center; vertical-align: top\">2.25</td>\n",
       "        <td style=\"padding-left: 1em; padding-right: 1em; text-align: center; vertical-align: top\">1715</td>\n",
       "        <td style=\"padding-left: 1em; padding-right: 1em; text-align: center; vertical-align: top\">6819</td>\n",
       "        <td style=\"padding-left: 1em; padding-right: 1em; text-align: center; vertical-align: top\">2</td>\n",
       "        <td style=\"padding-left: 1em; padding-right: 1em; text-align: center; vertical-align: top\">0</td>\n",
       "    </tr>\n",
       "    <tr>\n",
       "        <td style=\"padding-left: 1em; padding-right: 1em; text-align: center; vertical-align: top\">2008000270</td>\n",
       "        <td style=\"padding-left: 1em; padding-right: 1em; text-align: center; vertical-align: top\">2015-01-15 00:00:00+00:00</td>\n",
       "        <td style=\"padding-left: 1em; padding-right: 1em; text-align: center; vertical-align: top\">291850</td>\n",
       "        <td style=\"padding-left: 1em; padding-right: 1em; text-align: center; vertical-align: top\">3</td>\n",
       "        <td style=\"padding-left: 1em; padding-right: 1em; text-align: center; vertical-align: top\">1.5</td>\n",
       "        <td style=\"padding-left: 1em; padding-right: 1em; text-align: center; vertical-align: top\">1060</td>\n",
       "        <td style=\"padding-left: 1em; padding-right: 1em; text-align: center; vertical-align: top\">9711</td>\n",
       "        <td style=\"padding-left: 1em; padding-right: 1em; text-align: center; vertical-align: top\">1</td>\n",
       "        <td style=\"padding-left: 1em; padding-right: 1em; text-align: center; vertical-align: top\">0</td>\n",
       "    </tr>\n",
       "    <tr>\n",
       "        <td style=\"padding-left: 1em; padding-right: 1em; text-align: center; vertical-align: top\">2414600126</td>\n",
       "        <td style=\"padding-left: 1em; padding-right: 1em; text-align: center; vertical-align: top\">2015-04-15 00:00:00+00:00</td>\n",
       "        <td style=\"padding-left: 1em; padding-right: 1em; text-align: center; vertical-align: top\">229500</td>\n",
       "        <td style=\"padding-left: 1em; padding-right: 1em; text-align: center; vertical-align: top\">3</td>\n",
       "        <td style=\"padding-left: 1em; padding-right: 1em; text-align: center; vertical-align: top\">1</td>\n",
       "        <td style=\"padding-left: 1em; padding-right: 1em; text-align: center; vertical-align: top\">1780</td>\n",
       "        <td style=\"padding-left: 1em; padding-right: 1em; text-align: center; vertical-align: top\">7470</td>\n",
       "        <td style=\"padding-left: 1em; padding-right: 1em; text-align: center; vertical-align: top\">1</td>\n",
       "        <td style=\"padding-left: 1em; padding-right: 1em; text-align: center; vertical-align: top\">0</td>\n",
       "    </tr>\n",
       "    <tr>\n",
       "        <td style=\"padding-left: 1em; padding-right: 1em; text-align: center; vertical-align: top\">3793500160</td>\n",
       "        <td style=\"padding-left: 1em; padding-right: 1em; text-align: center; vertical-align: top\">2015-03-12 00:00:00+00:00</td>\n",
       "        <td style=\"padding-left: 1em; padding-right: 1em; text-align: center; vertical-align: top\">323000</td>\n",
       "        <td style=\"padding-left: 1em; padding-right: 1em; text-align: center; vertical-align: top\">3</td>\n",
       "        <td style=\"padding-left: 1em; padding-right: 1em; text-align: center; vertical-align: top\">2.5</td>\n",
       "        <td style=\"padding-left: 1em; padding-right: 1em; text-align: center; vertical-align: top\">1890</td>\n",
       "        <td style=\"padding-left: 1em; padding-right: 1em; text-align: center; vertical-align: top\">6560</td>\n",
       "        <td style=\"padding-left: 1em; padding-right: 1em; text-align: center; vertical-align: top\">2</td>\n",
       "        <td style=\"padding-left: 1em; padding-right: 1em; text-align: center; vertical-align: top\">0</td>\n",
       "    </tr>\n",
       "</table>\n",
       "<table frame=\"box\" rules=\"cols\">\n",
       "    <tr>\n",
       "        <th style=\"padding-left: 1em; padding-right: 1em; text-align: center\">view</th>\n",
       "        <th style=\"padding-left: 1em; padding-right: 1em; text-align: center\">condition</th>\n",
       "        <th style=\"padding-left: 1em; padding-right: 1em; text-align: center\">grade</th>\n",
       "        <th style=\"padding-left: 1em; padding-right: 1em; text-align: center\">sqft_above</th>\n",
       "        <th style=\"padding-left: 1em; padding-right: 1em; text-align: center\">sqft_basement</th>\n",
       "        <th style=\"padding-left: 1em; padding-right: 1em; text-align: center\">yr_built</th>\n",
       "        <th style=\"padding-left: 1em; padding-right: 1em; text-align: center\">yr_renovated</th>\n",
       "        <th style=\"padding-left: 1em; padding-right: 1em; text-align: center\">zipcode</th>\n",
       "        <th style=\"padding-left: 1em; padding-right: 1em; text-align: center\">lat</th>\n",
       "    </tr>\n",
       "    <tr>\n",
       "        <td style=\"padding-left: 1em; padding-right: 1em; text-align: center; vertical-align: top\">0</td>\n",
       "        <td style=\"padding-left: 1em; padding-right: 1em; text-align: center; vertical-align: top\">3</td>\n",
       "        <td style=\"padding-left: 1em; padding-right: 1em; text-align: center; vertical-align: top\">7</td>\n",
       "        <td style=\"padding-left: 1em; padding-right: 1em; text-align: center; vertical-align: top\">1180</td>\n",
       "        <td style=\"padding-left: 1em; padding-right: 1em; text-align: center; vertical-align: top\">0</td>\n",
       "        <td style=\"padding-left: 1em; padding-right: 1em; text-align: center; vertical-align: top\">1955</td>\n",
       "        <td style=\"padding-left: 1em; padding-right: 1em; text-align: center; vertical-align: top\">0</td>\n",
       "        <td style=\"padding-left: 1em; padding-right: 1em; text-align: center; vertical-align: top\">98178</td>\n",
       "        <td style=\"padding-left: 1em; padding-right: 1em; text-align: center; vertical-align: top\">47.51123398</td>\n",
       "    </tr>\n",
       "    <tr>\n",
       "        <td style=\"padding-left: 1em; padding-right: 1em; text-align: center; vertical-align: top\">0</td>\n",
       "        <td style=\"padding-left: 1em; padding-right: 1em; text-align: center; vertical-align: top\">3</td>\n",
       "        <td style=\"padding-left: 1em; padding-right: 1em; text-align: center; vertical-align: top\">7</td>\n",
       "        <td style=\"padding-left: 1em; padding-right: 1em; text-align: center; vertical-align: top\">2170</td>\n",
       "        <td style=\"padding-left: 1em; padding-right: 1em; text-align: center; vertical-align: top\">400</td>\n",
       "        <td style=\"padding-left: 1em; padding-right: 1em; text-align: center; vertical-align: top\">1951</td>\n",
       "        <td style=\"padding-left: 1em; padding-right: 1em; text-align: center; vertical-align: top\">1991</td>\n",
       "        <td style=\"padding-left: 1em; padding-right: 1em; text-align: center; vertical-align: top\">98125</td>\n",
       "        <td style=\"padding-left: 1em; padding-right: 1em; text-align: center; vertical-align: top\">47.72102274</td>\n",
       "    </tr>\n",
       "    <tr>\n",
       "        <td style=\"padding-left: 1em; padding-right: 1em; text-align: center; vertical-align: top\">0</td>\n",
       "        <td style=\"padding-left: 1em; padding-right: 1em; text-align: center; vertical-align: top\">3</td>\n",
       "        <td style=\"padding-left: 1em; padding-right: 1em; text-align: center; vertical-align: top\">6</td>\n",
       "        <td style=\"padding-left: 1em; padding-right: 1em; text-align: center; vertical-align: top\">770</td>\n",
       "        <td style=\"padding-left: 1em; padding-right: 1em; text-align: center; vertical-align: top\">0</td>\n",
       "        <td style=\"padding-left: 1em; padding-right: 1em; text-align: center; vertical-align: top\">1933</td>\n",
       "        <td style=\"padding-left: 1em; padding-right: 1em; text-align: center; vertical-align: top\">0</td>\n",
       "        <td style=\"padding-left: 1em; padding-right: 1em; text-align: center; vertical-align: top\">98028</td>\n",
       "        <td style=\"padding-left: 1em; padding-right: 1em; text-align: center; vertical-align: top\">47.73792661</td>\n",
       "    </tr>\n",
       "    <tr>\n",
       "        <td style=\"padding-left: 1em; padding-right: 1em; text-align: center; vertical-align: top\">0</td>\n",
       "        <td style=\"padding-left: 1em; padding-right: 1em; text-align: center; vertical-align: top\">5</td>\n",
       "        <td style=\"padding-left: 1em; padding-right: 1em; text-align: center; vertical-align: top\">7</td>\n",
       "        <td style=\"padding-left: 1em; padding-right: 1em; text-align: center; vertical-align: top\">1050</td>\n",
       "        <td style=\"padding-left: 1em; padding-right: 1em; text-align: center; vertical-align: top\">910</td>\n",
       "        <td style=\"padding-left: 1em; padding-right: 1em; text-align: center; vertical-align: top\">1965</td>\n",
       "        <td style=\"padding-left: 1em; padding-right: 1em; text-align: center; vertical-align: top\">0</td>\n",
       "        <td style=\"padding-left: 1em; padding-right: 1em; text-align: center; vertical-align: top\">98136</td>\n",
       "        <td style=\"padding-left: 1em; padding-right: 1em; text-align: center; vertical-align: top\">47.52082</td>\n",
       "    </tr>\n",
       "    <tr>\n",
       "        <td style=\"padding-left: 1em; padding-right: 1em; text-align: center; vertical-align: top\">0</td>\n",
       "        <td style=\"padding-left: 1em; padding-right: 1em; text-align: center; vertical-align: top\">3</td>\n",
       "        <td style=\"padding-left: 1em; padding-right: 1em; text-align: center; vertical-align: top\">8</td>\n",
       "        <td style=\"padding-left: 1em; padding-right: 1em; text-align: center; vertical-align: top\">1680</td>\n",
       "        <td style=\"padding-left: 1em; padding-right: 1em; text-align: center; vertical-align: top\">0</td>\n",
       "        <td style=\"padding-left: 1em; padding-right: 1em; text-align: center; vertical-align: top\">1987</td>\n",
       "        <td style=\"padding-left: 1em; padding-right: 1em; text-align: center; vertical-align: top\">0</td>\n",
       "        <td style=\"padding-left: 1em; padding-right: 1em; text-align: center; vertical-align: top\">98074</td>\n",
       "        <td style=\"padding-left: 1em; padding-right: 1em; text-align: center; vertical-align: top\">47.61681228</td>\n",
       "    </tr>\n",
       "    <tr>\n",
       "        <td style=\"padding-left: 1em; padding-right: 1em; text-align: center; vertical-align: top\">0</td>\n",
       "        <td style=\"padding-left: 1em; padding-right: 1em; text-align: center; vertical-align: top\">3</td>\n",
       "        <td style=\"padding-left: 1em; padding-right: 1em; text-align: center; vertical-align: top\">11</td>\n",
       "        <td style=\"padding-left: 1em; padding-right: 1em; text-align: center; vertical-align: top\">3890</td>\n",
       "        <td style=\"padding-left: 1em; padding-right: 1em; text-align: center; vertical-align: top\">1530</td>\n",
       "        <td style=\"padding-left: 1em; padding-right: 1em; text-align: center; vertical-align: top\">2001</td>\n",
       "        <td style=\"padding-left: 1em; padding-right: 1em; text-align: center; vertical-align: top\">0</td>\n",
       "        <td style=\"padding-left: 1em; padding-right: 1em; text-align: center; vertical-align: top\">98053</td>\n",
       "        <td style=\"padding-left: 1em; padding-right: 1em; text-align: center; vertical-align: top\">47.65611835</td>\n",
       "    </tr>\n",
       "    <tr>\n",
       "        <td style=\"padding-left: 1em; padding-right: 1em; text-align: center; vertical-align: top\">0</td>\n",
       "        <td style=\"padding-left: 1em; padding-right: 1em; text-align: center; vertical-align: top\">3</td>\n",
       "        <td style=\"padding-left: 1em; padding-right: 1em; text-align: center; vertical-align: top\">7</td>\n",
       "        <td style=\"padding-left: 1em; padding-right: 1em; text-align: center; vertical-align: top\">1715</td>\n",
       "        <td style=\"padding-left: 1em; padding-right: 1em; text-align: center; vertical-align: top\">0</td>\n",
       "        <td style=\"padding-left: 1em; padding-right: 1em; text-align: center; vertical-align: top\">1995</td>\n",
       "        <td style=\"padding-left: 1em; padding-right: 1em; text-align: center; vertical-align: top\">0</td>\n",
       "        <td style=\"padding-left: 1em; padding-right: 1em; text-align: center; vertical-align: top\">98003</td>\n",
       "        <td style=\"padding-left: 1em; padding-right: 1em; text-align: center; vertical-align: top\">47.30972002</td>\n",
       "    </tr>\n",
       "    <tr>\n",
       "        <td style=\"padding-left: 1em; padding-right: 1em; text-align: center; vertical-align: top\">0</td>\n",
       "        <td style=\"padding-left: 1em; padding-right: 1em; text-align: center; vertical-align: top\">3</td>\n",
       "        <td style=\"padding-left: 1em; padding-right: 1em; text-align: center; vertical-align: top\">7</td>\n",
       "        <td style=\"padding-left: 1em; padding-right: 1em; text-align: center; vertical-align: top\">1060</td>\n",
       "        <td style=\"padding-left: 1em; padding-right: 1em; text-align: center; vertical-align: top\">0</td>\n",
       "        <td style=\"padding-left: 1em; padding-right: 1em; text-align: center; vertical-align: top\">1963</td>\n",
       "        <td style=\"padding-left: 1em; padding-right: 1em; text-align: center; vertical-align: top\">0</td>\n",
       "        <td style=\"padding-left: 1em; padding-right: 1em; text-align: center; vertical-align: top\">98198</td>\n",
       "        <td style=\"padding-left: 1em; padding-right: 1em; text-align: center; vertical-align: top\">47.40949984</td>\n",
       "    </tr>\n",
       "    <tr>\n",
       "        <td style=\"padding-left: 1em; padding-right: 1em; text-align: center; vertical-align: top\">0</td>\n",
       "        <td style=\"padding-left: 1em; padding-right: 1em; text-align: center; vertical-align: top\">3</td>\n",
       "        <td style=\"padding-left: 1em; padding-right: 1em; text-align: center; vertical-align: top\">7</td>\n",
       "        <td style=\"padding-left: 1em; padding-right: 1em; text-align: center; vertical-align: top\">1050</td>\n",
       "        <td style=\"padding-left: 1em; padding-right: 1em; text-align: center; vertical-align: top\">730</td>\n",
       "        <td style=\"padding-left: 1em; padding-right: 1em; text-align: center; vertical-align: top\">1960</td>\n",
       "        <td style=\"padding-left: 1em; padding-right: 1em; text-align: center; vertical-align: top\">0</td>\n",
       "        <td style=\"padding-left: 1em; padding-right: 1em; text-align: center; vertical-align: top\">98146</td>\n",
       "        <td style=\"padding-left: 1em; padding-right: 1em; text-align: center; vertical-align: top\">47.51229381</td>\n",
       "    </tr>\n",
       "    <tr>\n",
       "        <td style=\"padding-left: 1em; padding-right: 1em; text-align: center; vertical-align: top\">0</td>\n",
       "        <td style=\"padding-left: 1em; padding-right: 1em; text-align: center; vertical-align: top\">3</td>\n",
       "        <td style=\"padding-left: 1em; padding-right: 1em; text-align: center; vertical-align: top\">7</td>\n",
       "        <td style=\"padding-left: 1em; padding-right: 1em; text-align: center; vertical-align: top\">1890</td>\n",
       "        <td style=\"padding-left: 1em; padding-right: 1em; text-align: center; vertical-align: top\">0</td>\n",
       "        <td style=\"padding-left: 1em; padding-right: 1em; text-align: center; vertical-align: top\">2003</td>\n",
       "        <td style=\"padding-left: 1em; padding-right: 1em; text-align: center; vertical-align: top\">0</td>\n",
       "        <td style=\"padding-left: 1em; padding-right: 1em; text-align: center; vertical-align: top\">98038</td>\n",
       "        <td style=\"padding-left: 1em; padding-right: 1em; text-align: center; vertical-align: top\">47.36840673</td>\n",
       "    </tr>\n",
       "</table>\n",
       "<table frame=\"box\" rules=\"cols\">\n",
       "    <tr>\n",
       "        <th style=\"padding-left: 1em; padding-right: 1em; text-align: center\">long</th>\n",
       "        <th style=\"padding-left: 1em; padding-right: 1em; text-align: center\">sqft_living15</th>\n",
       "        <th style=\"padding-left: 1em; padding-right: 1em; text-align: center\">sqft_lot15</th>\n",
       "    </tr>\n",
       "    <tr>\n",
       "        <td style=\"padding-left: 1em; padding-right: 1em; text-align: center; vertical-align: top\">-122.25677536</td>\n",
       "        <td style=\"padding-left: 1em; padding-right: 1em; text-align: center; vertical-align: top\">1340.0</td>\n",
       "        <td style=\"padding-left: 1em; padding-right: 1em; text-align: center; vertical-align: top\">5650.0</td>\n",
       "    </tr>\n",
       "    <tr>\n",
       "        <td style=\"padding-left: 1em; padding-right: 1em; text-align: center; vertical-align: top\">-122.3188624</td>\n",
       "        <td style=\"padding-left: 1em; padding-right: 1em; text-align: center; vertical-align: top\">1690.0</td>\n",
       "        <td style=\"padding-left: 1em; padding-right: 1em; text-align: center; vertical-align: top\">7639.0</td>\n",
       "    </tr>\n",
       "    <tr>\n",
       "        <td style=\"padding-left: 1em; padding-right: 1em; text-align: center; vertical-align: top\">-122.23319601</td>\n",
       "        <td style=\"padding-left: 1em; padding-right: 1em; text-align: center; vertical-align: top\">2720.0</td>\n",
       "        <td style=\"padding-left: 1em; padding-right: 1em; text-align: center; vertical-align: top\">8062.0</td>\n",
       "    </tr>\n",
       "    <tr>\n",
       "        <td style=\"padding-left: 1em; padding-right: 1em; text-align: center; vertical-align: top\">-122.39318505</td>\n",
       "        <td style=\"padding-left: 1em; padding-right: 1em; text-align: center; vertical-align: top\">1360.0</td>\n",
       "        <td style=\"padding-left: 1em; padding-right: 1em; text-align: center; vertical-align: top\">5000.0</td>\n",
       "    </tr>\n",
       "    <tr>\n",
       "        <td style=\"padding-left: 1em; padding-right: 1em; text-align: center; vertical-align: top\">-122.04490059</td>\n",
       "        <td style=\"padding-left: 1em; padding-right: 1em; text-align: center; vertical-align: top\">1800.0</td>\n",
       "        <td style=\"padding-left: 1em; padding-right: 1em; text-align: center; vertical-align: top\">7503.0</td>\n",
       "    </tr>\n",
       "    <tr>\n",
       "        <td style=\"padding-left: 1em; padding-right: 1em; text-align: center; vertical-align: top\">-122.00528655</td>\n",
       "        <td style=\"padding-left: 1em; padding-right: 1em; text-align: center; vertical-align: top\">4760.0</td>\n",
       "        <td style=\"padding-left: 1em; padding-right: 1em; text-align: center; vertical-align: top\">101930.0</td>\n",
       "    </tr>\n",
       "    <tr>\n",
       "        <td style=\"padding-left: 1em; padding-right: 1em; text-align: center; vertical-align: top\">-122.32704857</td>\n",
       "        <td style=\"padding-left: 1em; padding-right: 1em; text-align: center; vertical-align: top\">2238.0</td>\n",
       "        <td style=\"padding-left: 1em; padding-right: 1em; text-align: center; vertical-align: top\">6819.0</td>\n",
       "    </tr>\n",
       "    <tr>\n",
       "        <td style=\"padding-left: 1em; padding-right: 1em; text-align: center; vertical-align: top\">-122.31457273</td>\n",
       "        <td style=\"padding-left: 1em; padding-right: 1em; text-align: center; vertical-align: top\">1650.0</td>\n",
       "        <td style=\"padding-left: 1em; padding-right: 1em; text-align: center; vertical-align: top\">9711.0</td>\n",
       "    </tr>\n",
       "    <tr>\n",
       "        <td style=\"padding-left: 1em; padding-right: 1em; text-align: center; vertical-align: top\">-122.33659507</td>\n",
       "        <td style=\"padding-left: 1em; padding-right: 1em; text-align: center; vertical-align: top\">1780.0</td>\n",
       "        <td style=\"padding-left: 1em; padding-right: 1em; text-align: center; vertical-align: top\">8113.0</td>\n",
       "    </tr>\n",
       "    <tr>\n",
       "        <td style=\"padding-left: 1em; padding-right: 1em; text-align: center; vertical-align: top\">-122.0308176</td>\n",
       "        <td style=\"padding-left: 1em; padding-right: 1em; text-align: center; vertical-align: top\">2390.0</td>\n",
       "        <td style=\"padding-left: 1em; padding-right: 1em; text-align: center; vertical-align: top\">7570.0</td>\n",
       "    </tr>\n",
       "</table>\n",
       "[10 rows x 21 columns]<br/>\n",
       "</div>"
      ],
      "text/plain": [
       "Columns:\n",
       "\tid\tstr\n",
       "\tdate\tdatetime\n",
       "\tprice\tint\n",
       "\tbedrooms\tstr\n",
       "\tbathrooms\tstr\n",
       "\tsqft_living\tint\n",
       "\tsqft_lot\tint\n",
       "\tfloors\tstr\n",
       "\twaterfront\tint\n",
       "\tview\tint\n",
       "\tcondition\tint\n",
       "\tgrade\tint\n",
       "\tsqft_above\tint\n",
       "\tsqft_basement\tint\n",
       "\tyr_built\tint\n",
       "\tyr_renovated\tint\n",
       "\tzipcode\tstr\n",
       "\tlat\tfloat\n",
       "\tlong\tfloat\n",
       "\tsqft_living15\tfloat\n",
       "\tsqft_lot15\tfloat\n",
       "\n",
       "Rows: 10\n",
       "\n",
       "Data:\n",
       "+------------+---------------------------+---------+----------+-----------+-------------+\n",
       "|     id     |            date           |  price  | bedrooms | bathrooms | sqft_living |\n",
       "+------------+---------------------------+---------+----------+-----------+-------------+\n",
       "| 7129300520 | 2014-10-13 00:00:00+00:00 |  221900 |    3     |     1     |     1180    |\n",
       "| 6414100192 | 2014-12-09 00:00:00+00:00 |  538000 |    3     |    2.25   |     2570    |\n",
       "| 5631500400 | 2015-02-25 00:00:00+00:00 |  180000 |    2     |     1     |     770     |\n",
       "| 2487200875 | 2014-12-09 00:00:00+00:00 |  604000 |    4     |     3     |     1960    |\n",
       "| 1954400510 | 2015-02-18 00:00:00+00:00 |  510000 |    3     |     2     |     1680    |\n",
       "| 7237550310 | 2014-05-12 00:00:00+00:00 | 1225000 |    4     |    4.5    |     5420    |\n",
       "| 1321400060 | 2014-06-27 00:00:00+00:00 |  257500 |    3     |    2.25   |     1715    |\n",
       "| 2008000270 | 2015-01-15 00:00:00+00:00 |  291850 |    3     |    1.5    |     1060    |\n",
       "| 2414600126 | 2015-04-15 00:00:00+00:00 |  229500 |    3     |     1     |     1780    |\n",
       "| 3793500160 | 2015-03-12 00:00:00+00:00 |  323000 |    3     |    2.5    |     1890    |\n",
       "+------------+---------------------------+---------+----------+-----------+-------------+\n",
       "+----------+--------+------------+------+-----------+-------+------------+---------------+\n",
       "| sqft_lot | floors | waterfront | view | condition | grade | sqft_above | sqft_basement |\n",
       "+----------+--------+------------+------+-----------+-------+------------+---------------+\n",
       "|   5650   |   1    |     0      |  0   |     3     |   7   |    1180    |       0       |\n",
       "|   7242   |   2    |     0      |  0   |     3     |   7   |    2170    |      400      |\n",
       "|  10000   |   1    |     0      |  0   |     3     |   6   |    770     |       0       |\n",
       "|   5000   |   1    |     0      |  0   |     5     |   7   |    1050    |      910      |\n",
       "|   8080   |   1    |     0      |  0   |     3     |   8   |    1680    |       0       |\n",
       "|  101930  |   1    |     0      |  0   |     3     |   11  |    3890    |      1530     |\n",
       "|   6819   |   2    |     0      |  0   |     3     |   7   |    1715    |       0       |\n",
       "|   9711   |   1    |     0      |  0   |     3     |   7   |    1060    |       0       |\n",
       "|   7470   |   1    |     0      |  0   |     3     |   7   |    1050    |      730      |\n",
       "|   6560   |   2    |     0      |  0   |     3     |   7   |    1890    |       0       |\n",
       "+----------+--------+------------+------+-----------+-------+------------+---------------+\n",
       "+----------+--------------+---------+-------------+---------------+---------------+-----+\n",
       "| yr_built | yr_renovated | zipcode |     lat     |      long     | sqft_living15 | ... |\n",
       "+----------+--------------+---------+-------------+---------------+---------------+-----+\n",
       "|   1955   |      0       |  98178  | 47.51123398 | -122.25677536 |     1340.0    | ... |\n",
       "|   1951   |     1991     |  98125  | 47.72102274 |  -122.3188624 |     1690.0    | ... |\n",
       "|   1933   |      0       |  98028  | 47.73792661 | -122.23319601 |     2720.0    | ... |\n",
       "|   1965   |      0       |  98136  |   47.52082  | -122.39318505 |     1360.0    | ... |\n",
       "|   1987   |      0       |  98074  | 47.61681228 | -122.04490059 |     1800.0    | ... |\n",
       "|   2001   |      0       |  98053  | 47.65611835 | -122.00528655 |     4760.0    | ... |\n",
       "|   1995   |      0       |  98003  | 47.30972002 | -122.32704857 |     2238.0    | ... |\n",
       "|   1963   |      0       |  98198  | 47.40949984 | -122.31457273 |     1650.0    | ... |\n",
       "|   1960   |      0       |  98146  | 47.51229381 | -122.33659507 |     1780.0    | ... |\n",
       "|   2003   |      0       |  98038  | 47.36840673 |  -122.0308176 |     2390.0    | ... |\n",
       "+----------+--------------+---------+-------------+---------------+---------------+-----+\n",
       "[10 rows x 21 columns]"
      ]
     },
     "execution_count": 3,
     "metadata": {},
     "output_type": "execute_result"
    }
   ],
   "source": [
    "sales.head()"
   ]
  },
  {
   "cell_type": "code",
   "execution_count": 6,
   "metadata": {
    "collapsed": true
   },
   "outputs": [],
   "source": [
    "zip_houses = ['zipcode', 'price']\n",
    "gl.canvas.set_target('ipynb')"
   ]
  },
  {
   "cell_type": "code",
   "execution_count": 7,
   "metadata": {
    "collapsed": false
   },
   "outputs": [
    {
     "data": {
      "application/javascript": [
       "$(\"head\").append($(\"<link/>\").attr({\n",
       "  rel:  \"stylesheet\",\n",
       "  type: \"text/css\",\n",
       "  href: \"//cdnjs.cloudflare.com/ajax/libs/font-awesome/4.1.0/css/font-awesome.min.css\"\n",
       "}));\n",
       "$(\"head\").append($(\"<link/>\").attr({\n",
       "  rel:  \"stylesheet\",\n",
       "  type: \"text/css\",\n",
       "  href: \"https://static.turi.com/products/graphlab-create/2.1/canvas/css/canvas.css\"\n",
       "}));\n",
       "\n",
       "            (function(){\n",
       "\n",
       "                var e = null;\n",
       "                if (typeof element == 'undefined') {\n",
       "                    var scripts = document.getElementsByTagName('script');\n",
       "                    var thisScriptTag = scripts[scripts.length-1];\n",
       "                    var parentDiv = thisScriptTag.parentNode;\n",
       "                    e = document.createElement('div');\n",
       "                    parentDiv.appendChild(e);\n",
       "                } else {\n",
       "                    e = element[0];\n",
       "                }\n",
       "\n",
       "                if (typeof requirejs !== 'undefined') {\n",
       "                    // disable load timeout; ipython_app.js is large and can take a while to load.\n",
       "                    requirejs.config({waitSeconds: 0});\n",
       "                }\n",
       "\n",
       "                require(['https://static.turi.com/products/graphlab-create/2.1/canvas/js/ipython_app.js'], function(IPythonApp){\n",
       "                    var app = new IPythonApp();\n",
       "                    app.attachView('sframe','Summary', {\"ipython\": true, \"sketch\": {\"price\": {\"std\": 367118.70266704727, \"complete\": true, \"min\": 75000.0, \"max\": 7700000.0, \"quantile\": [75000.0, 152500.0, 175000.0, 190000.0, 202000.0, 210000.0, 219900.0, 225500.0, 234000.0, 240000.0, 245000.0, 250000.0, 255000.0, 260000.0, 266000.0, 271000.0, 275400.0, 280000.0, 286000.0, 291000.0, 298900.0, 300000.0, 306000.0, 311300.0, 316500.0, 322000.0, 325000.0, 330000.0, 335000.0, 340000.0, 345000.0, 350000.0, 355000.0, 360000.0, 365000.0, 370000.0, 375000.0, 380000.0, 387500.0, 393000.0, 399700.0, 402000.0, 409000.0, 415000.0, 420000.0, 425000.0, 430000.0, 435000.0, 440000.0, 445838.0, 450000.0, 455000.0, 463000.0, 470000.0, 475000.0, 482000.0, 490000.0, 497000.0, 500000.0, 510000.0, 518500.0, 525000.0, 531000.0, 539950.0, 546200.0, 550000.0, 560000.0, 568000.0, 575000.0, 585000.0, 595000.0, 600000.0, 611206.0, 622950.0, 631750.0, 645000.0, 651500.0, 665000.0, 677000.0, 690000.0, 700000.0, 718000.0, 730000.0, 749950.0, 760000.0, 779000.0, 799000.0, 815000.0, 835000.0, 858000.0, 885000.0, 915557.0, 950000.0, 998160.0, 1065000.0, 1160000.0, 1265000.0, 1398000.0, 1615000.0, 1987500.0, 7700000.0], \"median\": 450000.0, \"numeric\": true, \"num_unique\": 4038, \"num_undefined\": 0, \"var\": 134776141847.93587, \"progress\": 1.0, \"size\": 21613, \"frequent_items\": {\"2048000\": {\"frequency\": 1, \"value\": 2048000}, \"359800\": {\"frequency\": 3, \"value\": 359800}, \"311300\": {\"frequency\": 1, \"value\": 311300}, \"466950\": {\"frequency\": 1, \"value\": 466950}, \"213000\": {\"frequency\": 5, \"value\": 213000}, \"547500\": {\"frequency\": 5, \"value\": 547500}, \"319500\": {\"frequency\": 3, \"value\": 319500}, \"679950\": {\"frequency\": 3, \"value\": 679950}, \"1450000\": {\"frequency\": 16, \"value\": 1450000}, \"342888\": {\"frequency\": 1, \"value\": 342888}, \"532500\": {\"frequency\": 7, \"value\": 532500}, \"293550\": {\"frequency\": 2, \"value\": 293550}, \"639000\": {\"frequency\": 9, \"value\": 639000}, \"180250\": {\"frequency\": 1, \"value\": 180250}, \"335900\": {\"frequency\": 2, \"value\": 335900}, \"2900000\": {\"frequency\": 3, \"value\": 2900000}, \"142000\": {\"frequency\": 1, \"value\": 142000}, \"516130\": {\"frequency\": 1, \"value\": 516130}, \"294950\": {\"frequency\": 5, \"value\": 294950}, \"679975\": {\"frequency\": 1, \"value\": 679975}, \"1065000\": {\"frequency\": 9, \"value\": 1065000}, \"689500\": {\"frequency\": 1, \"value\": 689500}, \"147500\": {\"frequency\": 3, \"value\": 147500}, \"417838\": {\"frequency\": 1, \"value\": 417838}, \"1278000\": {\"frequency\": 1, \"value\": 1278000}, \"172040\": {\"frequency\": 1, \"value\": 172040}, \"360500\": {\"frequency\": 2, \"value\": 360500}, \"679990\": {\"frequency\": 1, \"value\": 679990}, \"467000\": {\"frequency\": 17, \"value\": 467000}, \"350900\": {\"frequency\": 1, \"value\": 350900}, \"573500\": {\"frequency\": 1, \"value\": 573500}, \"680000\": {\"frequency\": 52, \"value\": 680000}, \"488800\": {\"frequency\": 1, \"value\": 488800}, \"831500\": {\"frequency\": 1, \"value\": 831500}, \"385100\": {\"frequency\": 1, \"value\": 385100}, \"335950\": {\"frequency\": 1, \"value\": 335950}, \"82000\": {\"frequency\": 1, \"value\": 82000}, \"1212500\": {\"frequency\": 1, \"value\": 1212500}, \"319502\": {\"frequency\": 1, \"value\": 319502}, \"294999\": {\"frequency\": 1, \"value\": 294999}, \"295000\": {\"frequency\": 74, \"value\": 295000}, \"390500\": {\"frequency\": 2, \"value\": 390500}, \"475226\": {\"frequency\": 1, \"value\": 475226}, \"401500\": {\"frequency\": 3, \"value\": 401500}, \"508000\": {\"frequency\": 5, \"value\": 508000}, \"426000\": {\"frequency\": 10, \"value\": 426000}, \"204900\": {\"frequency\": 1, \"value\": 204900}, \"443750\": {\"frequency\": 1, \"value\": 443750}, \"721000\": {\"frequency\": 5, \"value\": 721000}, \"876650\": {\"frequency\": 1, \"value\": 876650}, \"827500\": {\"frequency\": 2, \"value\": 827500}, \"368750\": {\"frequency\": 1, \"value\": 368750}, \"524400\": {\"frequency\": 1, \"value\": 524400}, \"376950\": {\"frequency\": 1, \"value\": 376950}, \"123000\": {\"frequency\": 1, \"value\": 123000}, \"229500\": {\"frequency\": 6, \"value\": 229500}, \"483453\": {\"frequency\": 1, \"value\": 483453}, \"589950\": {\"frequency\": 4, \"value\": 589950}, \"2384000\": {\"frequency\": 1, \"value\": 2384000}, \"802945\": {\"frequency\": 1, \"value\": 802945}, \"1775000\": {\"frequency\": 2, \"value\": 1775000}, \"1326000\": {\"frequency\": 1, \"value\": 1326000}, \"442500\": {\"frequency\": 15, \"value\": 442500}, \"339990\": {\"frequency\": 1, \"value\": 339990}, \"840000\": {\"frequency\": 30, \"value\": 840000}, \"549000\": {\"frequency\": 20, \"value\": 549000}, \"1115500\": {\"frequency\": 1, \"value\": 1115500}, \"655500\": {\"frequency\": 2, \"value\": 655500}, \"762000\": {\"frequency\": 4, \"value\": 762000}, \"839704\": {\"frequency\": 1, \"value\": 839704}, \"549010\": {\"frequency\": 1, \"value\": 549010}, \"442515\": {\"frequency\": 1, \"value\": 442515}, \"868500\": {\"frequency\": 2, \"value\": 868500}, \"204950\": {\"frequency\": 2, \"value\": 204950}, \"975000\": {\"frequency\": 25, \"value\": 975000}, \"367300\": {\"frequency\": 1, \"value\": 367300}, \"516250\": {\"frequency\": 1, \"value\": 516250}, \"467100\": {\"frequency\": 1, \"value\": 467100}, \"164000\": {\"frequency\": 2, \"value\": 164000}, \"221347\": {\"frequency\": 1, \"value\": 221347}, \"270500\": {\"frequency\": 3, \"value\": 270500}, \"366400\": {\"frequency\": 1, \"value\": 366400}, \"377000\": {\"frequency\": 8, \"value\": 377000}, \"745641\": {\"frequency\": 1, \"value\": 745641}, \"385195\": {\"frequency\": 1, \"value\": 385195}, \"483500\": {\"frequency\": 3, \"value\": 483500}, \"589999\": {\"frequency\": 1, \"value\": 589999}, \"590000\": {\"frequency\": 54, \"value\": 590000}, \"781000\": {\"frequency\": 5, \"value\": 781000}, \"286900\": {\"frequency\": 1, \"value\": 286900}, \"490000\": {\"frequency\": 88, \"value\": 490000}, \"803000\": {\"frequency\": 2, \"value\": 803000}, \"339999\": {\"frequency\": 2, \"value\": 339999}, \"499900\": {\"frequency\": 4, \"value\": 499900}, \"606400\": {\"frequency\": 1, \"value\": 606400}, \"852000\": {\"frequency\": 4, \"value\": 852000}, \"352450\": {\"frequency\": 1, \"value\": 352450}, \"204995\": {\"frequency\": 1, \"value\": 204995}, \"1122500\": {\"frequency\": 1, \"value\": 1122500}, \"419190\": {\"frequency\": 1, \"value\": 419190}, \"458950\": {\"frequency\": 1, \"value\": 458950}, \"237600\": {\"frequency\": 1, \"value\": 237600}, \"1229000\": {\"frequency\": 1, \"value\": 1229000}, \"449228\": {\"frequency\": 1, \"value\": 449228}, \"925900\": {\"frequency\": 1, \"value\": 925900}, \"442573\": {\"frequency\": 1, \"value\": 442573}, \"418000\": {\"frequency\": 15, \"value\": 418000}, \"499922\": {\"frequency\": 1, \"value\": 499922}, \"524500\": {\"frequency\": 2, \"value\": 524500}, \"631000\": {\"frequency\": 4, \"value\": 631000}, \"737500\": {\"frequency\": 2, \"value\": 737500}, \"278750\": {\"frequency\": 1, \"value\": 278750}, \"227064\": {\"frequency\": 1, \"value\": 227064}, \"753888\": {\"frequency\": 1, \"value\": 753888}, \"994000\": {\"frequency\": 3, \"value\": 994000}, \"277700\": {\"frequency\": 1, \"value\": 277700}, \"245990\": {\"frequency\": 1, \"value\": 245990}, \"1057000\": {\"frequency\": 2, \"value\": 1057000}, \"968060\": {\"frequency\": 1, \"value\": 968060}, \"139500\": {\"frequency\": 1, \"value\": 139500}, \"499950\": {\"frequency\": 25, \"value\": 499950}, \"1270000\": {\"frequency\": 3, \"value\": 1270000}, \"450600\": {\"frequency\": 1, \"value\": 450600}, \"352499\": {\"frequency\": 1, \"value\": 352499}, \"352500\": {\"frequency\": 14, \"value\": 352500}, \"459000\": {\"frequency\": 20, \"value\": 459000}, \"1612500\": {\"frequency\": 1, \"value\": 1612500}, \"565500\": {\"frequency\": 1, \"value\": 565500}, \"752888\": {\"frequency\": 1, \"value\": 752888}, \"672000\": {\"frequency\": 5, \"value\": 672000}, \"1648000\": {\"frequency\": 1, \"value\": 1648000}, \"631500\": {\"frequency\": 3, \"value\": 631500}, \"885000\": {\"frequency\": 14, \"value\": 885000}, \"659500\": {\"frequency\": 2, \"value\": 659500}, \"426250\": {\"frequency\": 1, \"value\": 426250}, \"991500\": {\"frequency\": 1, \"value\": 991500}, \"507200\": {\"frequency\": 1, \"value\": 507200}, \"1098000\": {\"frequency\": 2, \"value\": 1098000}, \"436952\": {\"frequency\": 1, \"value\": 436952}, \"180500\": {\"frequency\": 3, \"value\": 180500}, \"507950\": {\"frequency\": 1, \"value\": 507950}, \"499990\": {\"frequency\": 4, \"value\": 499990}, \"287000\": {\"frequency\": 23, \"value\": 287000}, \"218500\": {\"frequency\": 3, \"value\": 218500}, \"393500\": {\"frequency\": 2, \"value\": 393500}, \"114975\": {\"frequency\": 1, \"value\": 114975}, \"500000\": {\"frequency\": 152, \"value\": 500000}, \"254000\": {\"frequency\": 13, \"value\": 254000}, \"196900\": {\"frequency\": 1, \"value\": 196900}, \"500007\": {\"frequency\": 1, \"value\": 500007}, \"713000\": {\"frequency\": 4, \"value\": 713000}, \"147400\": {\"frequency\": 1, \"value\": 147400}, \"500012\": {\"frequency\": 1, \"value\": 500012}, \"1138990\": {\"frequency\": 1, \"value\": 1138990}, \"1950000\": {\"frequency\": 7, \"value\": 1950000}, \"837000\": {\"frequency\": 1, \"value\": 837000}, \"115000\": {\"frequency\": 7, \"value\": 115000}, \"328000\": {\"frequency\": 16, \"value\": 328000}, \"1420000\": {\"frequency\": 1, \"value\": 1420000}, \"434500\": {\"frequency\": 2, \"value\": 434500}, \"216600\": {\"frequency\": 1, \"value\": 216600}, \"1565000\": {\"frequency\": 5, \"value\": 1565000}, \"647500\": {\"frequency\": 3, \"value\": 647500}, \"754000\": {\"frequency\": 2, \"value\": 754000}, \"610360\": {\"frequency\": 1, \"value\": 610360}, \"401750\": {\"frequency\": 1, \"value\": 401750}, \"967000\": {\"frequency\": 2, \"value\": 967000}, \"868700\": {\"frequency\": 1, \"value\": 868700}, \"409950\": {\"frequency\": 6, \"value\": 409950}, \"156000\": {\"frequency\": 6, \"value\": 156000}, \"1562000\": {\"frequency\": 1, \"value\": 1562000}, \"262500\": {\"frequency\": 10, \"value\": 262500}, \"622950\": {\"frequency\": 1, \"value\": 622950}, \"1393000\": {\"frequency\": 1, \"value\": 1393000}, \"831548\": {\"frequency\": 1, \"value\": 831548}, \"475500\": {\"frequency\": 1, \"value\": 475500}, \"914154\": {\"frequency\": 1, \"value\": 914154}, \"2630000\": {\"frequency\": 1, \"value\": 2630000}, \"199400\": {\"frequency\": 1, \"value\": 199400}, \"1712500\": {\"frequency\": 1, \"value\": 1712500}, \"795000\": {\"frequency\": 23, \"value\": 795000}, \"644500\": {\"frequency\": 1, \"value\": 644500}, \"237950\": {\"frequency\": 2, \"value\": 237950}, \"1008000\": {\"frequency\": 2, \"value\": 1008000}, \"475200\": {\"frequency\": 1, \"value\": 475200}, \"1284000\": {\"frequency\": 1, \"value\": 1284000}, \"197000\": {\"frequency\": 5, \"value\": 197000}, \"303500\": {\"frequency\": 3, \"value\": 303500}, \"173000\": {\"frequency\": 3, \"value\": 173000}, \"2458000\": {\"frequency\": 1, \"value\": 2458000}, \"546200\": {\"frequency\": 2, \"value\": 546200}, \"516500\": {\"frequency\": 2, \"value\": 516500}, \"461550\": {\"frequency\": 1, \"value\": 461550}, \"418200\": {\"frequency\": 2, \"value\": 418200}, \"397380\": {\"frequency\": 1, \"value\": 397380}, \"729500\": {\"frequency\": 1, \"value\": 729500}, \"336900\": {\"frequency\": 2, \"value\": 336900}, \"836000\": {\"frequency\": 1, \"value\": 836000}, \"123300\": {\"frequency\": 1, \"value\": 123300}, \"1049000\": {\"frequency\": 2, \"value\": 1049000}, \"959900\": {\"frequency\": 1, \"value\": 959900}, \"541100\": {\"frequency\": 1, \"value\": 541100}, \"491950\": {\"frequency\": 1, \"value\": 491950}, \"238000\": {\"frequency\": 14, \"value\": 238000}, \"1405000\": {\"frequency\": 1, \"value\": 1405000}, \"344500\": {\"frequency\": 2, \"value\": 344500}, \"451000\": {\"frequency\": 11, \"value\": 451000}, \"557500\": {\"frequency\": 6, \"value\": 557500}, \"635200\": {\"frequency\": 1, \"value\": 635200}, \"466200\": {\"frequency\": 1, \"value\": 466200}, \"1688000\": {\"frequency\": 2, \"value\": 1688000}, \"2500000\": {\"frequency\": 5, \"value\": 2500000}, \"541125\": {\"frequency\": 1, \"value\": 541125}, \"311750\": {\"frequency\": 1, \"value\": 311750}, \"1901000\": {\"frequency\": 1, \"value\": 1901000}, \"589900\": {\"frequency\": 2, \"value\": 589900}, \"319950\": {\"frequency\": 12, \"value\": 319950}, \"1090000\": {\"frequency\": 2, \"value\": 1090000}, \"1035000\": {\"frequency\": 5, \"value\": 1035000}, \"2187730\": {\"frequency\": 1, \"value\": 2187730}, \"991700\": {\"frequency\": 1, \"value\": 991700}, \"770126\": {\"frequency\": 1, \"value\": 770126}, \"279000\": {\"frequency\": 34, \"value\": 279000}, \"148900\": {\"frequency\": 1, \"value\": 148900}, \"3065000\": {\"frequency\": 1, \"value\": 3065000}, \"590300\": {\"frequency\": 1, \"value\": 590300}, \"576250\": {\"frequency\": 1, \"value\": 576250}, \"492000\": {\"frequency\": 11, \"value\": 492000}, \"798800\": {\"frequency\": 1, \"value\": 798800}, \"598500\": {\"frequency\": 3, \"value\": 598500}, \"705000\": {\"frequency\": 29, \"value\": 705000}, \"629500\": {\"frequency\": 1, \"value\": 629500}, \"811500\": {\"frequency\": 1, \"value\": 811500}, \"352750\": {\"frequency\": 2, \"value\": 352750}, \"918000\": {\"frequency\": 1, \"value\": 918000}, \"1598888\": {\"frequency\": 1, \"value\": 1598888}, \"319990\": {\"frequency\": 3, \"value\": 319990}, \"795127\": {\"frequency\": 1, \"value\": 795127}, \"1131000\": {\"frequency\": 1, \"value\": 1131000}, \"188500\": {\"frequency\": 1, \"value\": 188500}, \"1237500\": {\"frequency\": 2, \"value\": 1237500}, \"1802750\": {\"frequency\": 1, \"value\": 1802750}, \"320000\": {\"frequency\": 108, \"value\": 320000}, \"224000\": {\"frequency\": 10, \"value\": 224000}, \"885250\": {\"frequency\": 1, \"value\": 885250}, \"221700\": {\"frequency\": 1, \"value\": 221700}, \"369160\": {\"frequency\": 1, \"value\": 369160}, \"229900\": {\"frequency\": 4, \"value\": 229900}, \"999950\": {\"frequency\": 2, \"value\": 999950}, \"746000\": {\"frequency\": 4, \"value\": 746000}, \"497300\": {\"frequency\": 1, \"value\": 497300}, \"852500\": {\"frequency\": 3, \"value\": 852500}, \"811000\": {\"frequency\": 3, \"value\": 811000}, \"959000\": {\"frequency\": 3, \"value\": 959000}, \"842500\": {\"frequency\": 3, \"value\": 842500}, \"295450\": {\"frequency\": 1, \"value\": 295450}, \"598555\": {\"frequency\": 1, \"value\": 598555}, \"1065500\": {\"frequency\": 1, \"value\": 1065500}, \"451101\": {\"frequency\": 1, \"value\": 451101}, \"352800\": {\"frequency\": 2, \"value\": 352800}, \"878000\": {\"frequency\": 2, \"value\": 878000}, \"713250\": {\"frequency\": 1, \"value\": 713250}, \"254500\": {\"frequency\": 2, \"value\": 254500}, \"387846\": {\"frequency\": 1, \"value\": 387846}, \"614950\": {\"frequency\": 1, \"value\": 614950}, \"1385000\": {\"frequency\": 7, \"value\": 1385000}, \"196700\": {\"frequency\": 1, \"value\": 196700}, \"926250\": {\"frequency\": 1, \"value\": 926250}, \"1280600\": {\"frequency\": 1, \"value\": 1280600}, \"467500\": {\"frequency\": 6, \"value\": 467500}, \"213550\": {\"frequency\": 1, \"value\": 213550}, \"574000\": {\"frequency\": 5, \"value\": 574000}, \"437000\": {\"frequency\": 14, \"value\": 437000}, \"491300\": {\"frequency\": 1, \"value\": 491300}, \"787000\": {\"frequency\": 1, \"value\": 787000}, \"472500\": {\"frequency\": 6, \"value\": 472500}, \"533050\": {\"frequency\": 1, \"value\": 533050}, \"229950\": {\"frequency\": 11, \"value\": 229950}, \"999999\": {\"frequency\": 1, \"value\": 999999}, \"1000000\": {\"frequency\": 27, \"value\": 1000000}, \"1020000\": {\"frequency\": 5, \"value\": 1020000}, \"82500\": {\"frequency\": 1, \"value\": 82500}, \"189000\": {\"frequency\": 7, \"value\": 189000}, \"295500\": {\"frequency\": 4, \"value\": 295500}, \"442200\": {\"frequency\": 1, \"value\": 442200}, \"402000\": {\"frequency\": 23, \"value\": 402000}, \"303697\": {\"frequency\": 1, \"value\": 303697}, \"762450\": {\"frequency\": 1, \"value\": 762450}, \"508500\": {\"frequency\": 2, \"value\": 508500}, \"615000\": {\"frequency\": 53, \"value\": 615000}, \"102500\": {\"frequency\": 1, \"value\": 102500}, \"418395\": {\"frequency\": 1, \"value\": 418395}, \"393820\": {\"frequency\": 1, \"value\": 393820}, \"1248000\": {\"frequency\": 1, \"value\": 1248000}, \"828000\": {\"frequency\": 2, \"value\": 828000}, \"270950\": {\"frequency\": 1, \"value\": 270950}, \"2065000\": {\"frequency\": 1, \"value\": 2065000}, \"483945\": {\"frequency\": 1, \"value\": 483945}, \"1712750\": {\"frequency\": 1, \"value\": 1712750}, \"229999\": {\"frequency\": 2, \"value\": 229999}, \"230000\": {\"frequency\": 85, \"value\": 230000}, \"205425\": {\"frequency\": 1, \"value\": 205425}, \"336500\": {\"frequency\": 5, \"value\": 336500}, \"230005\": {\"frequency\": 1, \"value\": 230005}, \"696950\": {\"frequency\": 1, \"value\": 696950}, \"443000\": {\"frequency\": 12, \"value\": 443000}, \"549500\": {\"frequency\": 1, \"value\": 549500}, \"303210\": {\"frequency\": 1, \"value\": 303210}, \"909950\": {\"frequency\": 1, \"value\": 909950}, \"656000\": {\"frequency\": 3, \"value\": 656000}, \"894400\": {\"frequency\": 1, \"value\": 894400}, \"762500\": {\"frequency\": 5, \"value\": 762500}, \"254600\": {\"frequency\": 1, \"value\": 254600}, \"110700\": {\"frequency\": 1, \"value\": 110700}, \"324360\": {\"frequency\": 1, \"value\": 324360}, \"351000\": {\"frequency\": 6, \"value\": 351000}, \"369300\": {\"frequency\": 1, \"value\": 369300}, \"934550\": {\"frequency\": 1, \"value\": 934550}, \"271000\": {\"frequency\": 4, \"value\": 271000}, \"541338\": {\"frequency\": 1, \"value\": 541338}, \"377500\": {\"frequency\": 5, \"value\": 377500}, \"484000\": {\"frequency\": 7, \"value\": 484000}, \"934000\": {\"frequency\": 1, \"value\": 934000}, \"234950\": {\"frequency\": 5, \"value\": 234950}, \"1236000\": {\"frequency\": 1, \"value\": 1236000}, \"697000\": {\"frequency\": 6, \"value\": 697000}, \"969500\": {\"frequency\": 1, \"value\": 969500}, \"213675\": {\"frequency\": 1, \"value\": 213675}, \"139950\": {\"frequency\": 1, \"value\": 139950}, \"910000\": {\"frequency\": 19, \"value\": 910000}, \"1517000\": {\"frequency\": 1, \"value\": 1517000}, \"402101\": {\"frequency\": 1, \"value\": 402101}, \"352950\": {\"frequency\": 1, \"value\": 352950}, \"950968\": {\"frequency\": 1, \"value\": 950968}, \"819900\": {\"frequency\": 1, \"value\": 819900}, \"312000\": {\"frequency\": 21, \"value\": 312000}, \"418500\": {\"frequency\": 4, \"value\": 418500}, \"713414\": {\"frequency\": 1, \"value\": 713414}, \"525000\": {\"frequency\": 131, \"value\": 525000}, \"599500\": {\"frequency\": 1, \"value\": 599500}, \"426700\": {\"frequency\": 1, \"value\": 426700}, \"633634\": {\"frequency\": 1, \"value\": 633634}, \"1762000\": {\"frequency\": 1, \"value\": 1762000}, \"434900\": {\"frequency\": 2, \"value\": 434900}, \"951000\": {\"frequency\": 2, \"value\": 951000}, \"670500\": {\"frequency\": 1, \"value\": 670500}, \"287450\": {\"frequency\": 1, \"value\": 287450}, \"2574000\": {\"frequency\": 1, \"value\": 2574000}, \"778000\": {\"frequency\": 3, \"value\": 778000}, \"140000\": {\"frequency\": 10, \"value\": 140000}, \"1730000\": {\"frequency\": 2, \"value\": 1730000}, \"246500\": {\"frequency\": 5, \"value\": 246500}, \"328423\": {\"frequency\": 1, \"value\": 328423}, \"353000\": {\"frequency\": 22, \"value\": 353000}, \"459500\": {\"frequency\": 4, \"value\": 459500}, \"565997\": {\"frequency\": 1, \"value\": 565997}, \"868000\": {\"frequency\": 1, \"value\": 868000}, \"566000\": {\"frequency\": 6, \"value\": 566000}, \"265000\": {\"frequency\": 95, \"value\": 265000}, \"2408000\": {\"frequency\": 1, \"value\": 2408000}, \"672500\": {\"frequency\": 7, \"value\": 672500}, \"779000\": {\"frequency\": 7, \"value\": 779000}, \"598780\": {\"frequency\": 1, \"value\": 598780}, \"992000\": {\"frequency\": 1, \"value\": 992000}, \"336000\": {\"frequency\": 12, \"value\": 336000}, \"533250\": {\"frequency\": 1, \"value\": 533250}, \"619990\": {\"frequency\": 1, \"value\": 619990}, \"181000\": {\"frequency\": 3, \"value\": 181000}, \"678700\": {\"frequency\": 1, \"value\": 678700}, \"271115\": {\"frequency\": 1, \"value\": 271115}, \"287500\": {\"frequency\": 8, \"value\": 287500}, \"598800\": {\"frequency\": 2, \"value\": 598800}, \"202200\": {\"frequency\": 1, \"value\": 202200}, \"295700\": {\"frequency\": 1, \"value\": 295700}, \"607000\": {\"frequency\": 8, \"value\": 607000}, \"954500\": {\"frequency\": 1, \"value\": 954500}, \"819995\": {\"frequency\": 1, \"value\": 819995}, \"713500\": {\"frequency\": 2, \"value\": 713500}, \"767450\": {\"frequency\": 1, \"value\": 767450}, \"434975\": {\"frequency\": 1, \"value\": 434975}, \"820000\": {\"frequency\": 23, \"value\": 820000}, \"785200\": {\"frequency\": 1, \"value\": 785200}, \"607010\": {\"frequency\": 1, \"value\": 607010}, \"926500\": {\"frequency\": 1, \"value\": 926500}, \"828200\": {\"frequency\": 1, \"value\": 828200}, \"557865\": {\"frequency\": 1, \"value\": 557865}, \"222000\": {\"frequency\": 12, \"value\": 222000}, \"344200\": {\"frequency\": 1, \"value\": 344200}, \"533300\": {\"frequency\": 1, \"value\": 533300}, \"2110000\": {\"frequency\": 1, \"value\": 2110000}, \"435000\": {\"frequency\": 105, \"value\": 435000}, \"699188\": {\"frequency\": 1, \"value\": 699188}, \"541500\": {\"frequency\": 2, \"value\": 541500}, \"648000\": {\"frequency\": 8, \"value\": 648000}, \"325088\": {\"frequency\": 1, \"value\": 325088}, \"598850\": {\"frequency\": 1, \"value\": 598850}, \"344900\": {\"frequency\": 2, \"value\": 344900}, \"525126\": {\"frequency\": 1, \"value\": 525126}, \"246600\": {\"frequency\": 1, \"value\": 246600}, \"631625\": {\"frequency\": 1, \"value\": 631625}, \"967500\": {\"frequency\": 1, \"value\": 967500}, \"400200\": {\"frequency\": 1, \"value\": 400200}, \"691000\": {\"frequency\": 3, \"value\": 691000}, \"1180500\": {\"frequency\": 1, \"value\": 1180500}, \"263000\": {\"frequency\": 13, \"value\": 263000}, \"377691\": {\"frequency\": 1, \"value\": 377691}, \"369500\": {\"frequency\": 4, \"value\": 369500}, \"729950\": {\"frequency\": 1, \"value\": 729950}, \"475999\": {\"frequency\": 1, \"value\": 475999}, \"1500000\": {\"frequency\": 17, \"value\": 1500000}, \"250000\": {\"frequency\": 130, \"value\": 250000}, \"705380\": {\"frequency\": 1, \"value\": 705380}, \"689000\": {\"frequency\": 10, \"value\": 689000}, \"285500\": {\"frequency\": 1, \"value\": 285500}, \"181100\": {\"frequency\": 1, \"value\": 181100}, \"336750\": {\"frequency\": 2, \"value\": 336750}, \"902000\": {\"frequency\": 3, \"value\": 902000}, \"1345000\": {\"frequency\": 1, \"value\": 1345000}, \"344950\": {\"frequency\": 6, \"value\": 344950}, \"1115000\": {\"frequency\": 4, \"value\": 1115000}, \"1384000\": {\"frequency\": 1, \"value\": 1384000}, \"197500\": {\"frequency\": 3, \"value\": 197500}, \"1328000\": {\"frequency\": 2, \"value\": 1328000}, \"1928000\": {\"frequency\": 1, \"value\": 1928000}, \"410500\": {\"frequency\": 4, \"value\": 410500}, \"517000\": {\"frequency\": 6, \"value\": 517000}, \"623500\": {\"frequency\": 1, \"value\": 623500}, \"942990\": {\"frequency\": 1, \"value\": 942990}, \"729999\": {\"frequency\": 2, \"value\": 729999}, \"730000\": {\"frequency\": 34, \"value\": 730000}, \"730001\": {\"frequency\": 1, \"value\": 730001}, \"836500\": {\"frequency\": 1, \"value\": 836500}, \"748000\": {\"frequency\": 4, \"value\": 748000}, \"295832\": {\"frequency\": 1, \"value\": 295832}, \"703300\": {\"frequency\": 1, \"value\": 703300}, \"639900\": {\"frequency\": 2, \"value\": 639900}, \"925850\": {\"frequency\": 1, \"value\": 925850}, \"336800\": {\"frequency\": 1, \"value\": 336800}, \"492450\": {\"frequency\": 1, \"value\": 492450}, \"484259\": {\"frequency\": 1, \"value\": 484259}, \"287653\": {\"frequency\": 1, \"value\": 287653}, \"598950\": {\"frequency\": 1, \"value\": 598950}, \"345000\": {\"frequency\": 91, \"value\": 345000}, \"430236\": {\"frequency\": 1, \"value\": 430236}, \"246700\": {\"frequency\": 1, \"value\": 246700}, \"558000\": {\"frequency\": 8, \"value\": 558000}, \"605000\": {\"frequency\": 52, \"value\": 605000}, \"279475\": {\"frequency\": 1, \"value\": 279475}, \"664500\": {\"frequency\": 1, \"value\": 664500}, \"888990\": {\"frequency\": 1, \"value\": 888990}, \"861111\": {\"frequency\": 1, \"value\": 861111}, \"1795000\": {\"frequency\": 3, \"value\": 1795000}, \"156601\": {\"frequency\": 1, \"value\": 156601}, \"877500\": {\"frequency\": 1, \"value\": 877500}, \"771005\": {\"frequency\": 1, \"value\": 771005}, \"213950\": {\"frequency\": 1, \"value\": 213950}, \"984000\": {\"frequency\": 1, \"value\": 984000}, \"676000\": {\"frequency\": 4, \"value\": 676000}, \"476100\": {\"frequency\": 1, \"value\": 476100}, \"631750\": {\"frequency\": 1, \"value\": 631750}, \"1197000\": {\"frequency\": 1, \"value\": 1197000}, \"254922\": {\"frequency\": 1, \"value\": 254922}, \"279500\": {\"frequency\": 2, \"value\": 279500}, \"271310\": {\"frequency\": 1, \"value\": 271310}, \"1157400\": {\"frequency\": 1, \"value\": 1157400}, \"386000\": {\"frequency\": 10, \"value\": 386000}, \"747000\": {\"frequency\": 3, \"value\": 747000}, \"951250\": {\"frequency\": 1, \"value\": 951250}, \"492500\": {\"frequency\": 3, \"value\": 492500}, \"599000\": {\"frequency\": 24, \"value\": 599000}, \"884900\": {\"frequency\": 1, \"value\": 884900}, \"646800\": {\"frequency\": 1, \"value\": 646800}, \"402395\": {\"frequency\": 1, \"value\": 402395}, \"736000\": {\"frequency\": 4, \"value\": 736000}, \"812000\": {\"frequency\": 6, \"value\": 812000}, \"306000\": {\"frequency\": 19, \"value\": 306000}, \"353250\": {\"frequency\": 1, \"value\": 353250}, \"451555\": {\"frequency\": 1, \"value\": 451555}, \"7062500\": {\"frequency\": 1, \"value\": 7062500}, \"689900\": {\"frequency\": 1, \"value\": 689900}, \"254950\": {\"frequency\": 3, \"value\": 254950}, \"1025000\": {\"frequency\": 7, \"value\": 1025000}, \"2193000\": {\"frequency\": 1, \"value\": 2193000}, \"517100\": {\"frequency\": 1, \"value\": 517100}, \"639983\": {\"frequency\": 1, \"value\": 639983}, \"418800\": {\"frequency\": 1, \"value\": 418800}, \"730100\": {\"frequency\": 1, \"value\": 730100}, \"427000\": {\"frequency\": 16, \"value\": 427000}, \"533500\": {\"frequency\": 1, \"value\": 533500}, \"427005\": {\"frequency\": 1, \"value\": 427005}, \"640000\": {\"frequency\": 52, \"value\": 640000}, \"345600\": {\"frequency\": 1, \"value\": 345600}, \"746500\": {\"frequency\": 1, \"value\": 746500}, \"853505\": {\"frequency\": 1, \"value\": 853505}, \"853000\": {\"frequency\": 1, \"value\": 853000}, \"394250\": {\"frequency\": 1, \"value\": 394250}, \"549900\": {\"frequency\": 8, \"value\": 549900}, \"295950\": {\"frequency\": 1, \"value\": 295950}, \"314200\": {\"frequency\": 1, \"value\": 314200}, \"254999\": {\"frequency\": 1, \"value\": 254999}, \"255000\": {\"frequency\": 86, \"value\": 255000}, \"452100\": {\"frequency\": 1, \"value\": 452100}, \"361500\": {\"frequency\": 4, \"value\": 361500}, \"468000\": {\"frequency\": 14, \"value\": 468000}, \"385200\": {\"frequency\": 1, \"value\": 385200}, \"634800\": {\"frequency\": 1, \"value\": 634800}, \"574500\": {\"frequency\": 1, \"value\": 574500}, \"681000\": {\"frequency\": 3, \"value\": 681000}, \"787500\": {\"frequency\": 2, \"value\": 787500}, \"228900\": {\"frequency\": 1, \"value\": 228900}, \"894000\": {\"frequency\": 1, \"value\": 894000}, \"456200\": {\"frequency\": 1, \"value\": 456200}, \"386100\": {\"frequency\": 1, \"value\": 386100}, \"336950\": {\"frequency\": 1, \"value\": 336950}, \"83000\": {\"frequency\": 1, \"value\": 83000}, \"696500\": {\"frequency\": 2, \"value\": 696500}, \"549950\": {\"frequency\": 12, \"value\": 549950}, \"1320000\": {\"frequency\": 6, \"value\": 1320000}, \"625504\": {\"frequency\": 1, \"value\": 625504}, \"402500\": {\"frequency\": 9, \"value\": 402500}, \"509000\": {\"frequency\": 7, \"value\": 509000}, \"869900\": {\"frequency\": 1, \"value\": 869900}, \"430760\": {\"frequency\": 1, \"value\": 430760}, \"615500\": {\"frequency\": 1, \"value\": 615500}, \"361550\": {\"frequency\": 1, \"value\": 361550}, \"509007\": {\"frequency\": 1, \"value\": 509007}, \"722000\": {\"frequency\": 2, \"value\": 722000}, \"1315000\": {\"frequency\": 4, \"value\": 1315000}, \"418900\": {\"frequency\": 1, \"value\": 418900}, \"164950\": {\"frequency\": 1, \"value\": 164950}, \"935000\": {\"frequency\": 14, \"value\": 935000}, \"1557600\": {\"frequency\": 1, \"value\": 1557600}, \"1898000\": {\"frequency\": 2, \"value\": 1898000}, \"717000\": {\"frequency\": 5, \"value\": 717000}, \"230500\": {\"frequency\": 2, \"value\": 230500}, \"174950\": {\"frequency\": 2, \"value\": 174950}, \"466500\": {\"frequency\": 1, \"value\": 466500}, \"337000\": {\"frequency\": 15, \"value\": 337000}, \"909500\": {\"frequency\": 1, \"value\": 909500}, \"492650\": {\"frequency\": 1, \"value\": 492650}, \"549995\": {\"frequency\": 3, \"value\": 549995}, \"443500\": {\"frequency\": 5, \"value\": 443500}, \"1161000\": {\"frequency\": 1, \"value\": 1161000}, \"550000\": {\"frequency\": 159, \"value\": 550000}, \"1457000\": {\"frequency\": 1, \"value\": 1457000}, \"246900\": {\"frequency\": 1, \"value\": 246900}, \"763000\": {\"frequency\": 3, \"value\": 763000}, \"468500\": {\"frequency\": 1, \"value\": 468500}, \"459900\": {\"frequency\": 3, \"value\": 459900}, \"205950\": {\"frequency\": 2, \"value\": 205950}, \"529941\": {\"frequency\": 1, \"value\": 529941}, \"2000000\": {\"frequency\": 7, \"value\": 2000000}, \"263300\": {\"frequency\": 1, \"value\": 263300}, \"165000\": {\"frequency\": 19, \"value\": 165000}, \"271500\": {\"frequency\": 2, \"value\": 271500}, \"303100\": {\"frequency\": 1, \"value\": 303100}, \"582800\": {\"frequency\": 1, \"value\": 582800}, \"899950\": {\"frequency\": 1, \"value\": 899950}, \"591000\": {\"frequency\": 3, \"value\": 591000}, \"754842\": {\"frequency\": 1, \"value\": 754842}, \"722080\": {\"frequency\": 1, \"value\": 722080}, \"134000\": {\"frequency\": 2, \"value\": 134000}, \"246950\": {\"frequency\": 2, \"value\": 246950}, \"1017000\": {\"frequency\": 2, \"value\": 1017000}, \"681500\": {\"frequency\": 1, \"value\": 681500}, \"713900\": {\"frequency\": 1, \"value\": 713900}, \"459950\": {\"frequency\": 7, \"value\": 459950}, \"1230000\": {\"frequency\": 4, \"value\": 1230000}, \"205000\": {\"frequency\": 42, \"value\": 205000}, \"423800\": {\"frequency\": 1, \"value\": 423800}, \"312500\": {\"frequency\": 11, \"value\": 312500}, \"1822500\": {\"frequency\": 1, \"value\": 1822500}, \"419000\": {\"frequency\": 20, \"value\": 419000}, \"650100\": {\"frequency\": 1, \"value\": 650100}, \"165050\": {\"frequency\": 1, \"value\": 165050}, \"935100\": {\"frequency\": 1, \"value\": 935100}, \"632000\": {\"frequency\": 4, \"value\": 632000}, \"276000\": {\"frequency\": 14, \"value\": 276000}, \"173250\": {\"frequency\": 2, \"value\": 173250}, \"738500\": {\"frequency\": 1, \"value\": 738500}, \"845000\": {\"frequency\": 14, \"value\": 845000}, \"311500\": {\"frequency\": 1, \"value\": 311500}, \"541900\": {\"frequency\": 1, \"value\": 541900}, \"443600\": {\"frequency\": 1, \"value\": 443600}, \"347000\": {\"frequency\": 10, \"value\": 347000}, \"189650\": {\"frequency\": 1, \"value\": 189650}, \"738515\": {\"frequency\": 1, \"value\": 738515}, \"459990\": {\"frequency\": 1, \"value\": 459990}, \"247000\": {\"frequency\": 8, \"value\": 247000}, \"459995\": {\"frequency\": 1, \"value\": 459995}, \"353500\": {\"frequency\": 7, \"value\": 353500}, \"763101\": {\"frequency\": 1, \"value\": 763101}, \"460000\": {\"frequency\": 78, \"value\": 460000}, \"498688\": {\"frequency\": 1, \"value\": 498688}, \"1697000\": {\"frequency\": 1, \"value\": 1697000}, \"394475\": {\"frequency\": 1, \"value\": 394475}, \"369900\": {\"frequency\": 4, \"value\": 369900}, \"886000\": {\"frequency\": 2, \"value\": 886000}, \"2537000\": {\"frequency\": 1, \"value\": 2537000}, \"555700\": {\"frequency\": 1, \"value\": 555700}, \"328950\": {\"frequency\": 1, \"value\": 328950}, \"75000\": {\"frequency\": 1, \"value\": 75000}, \"1720000\": {\"frequency\": 1, \"value\": 1720000}, \"288000\": {\"frequency\": 12, \"value\": 288000}, \"355200\": {\"frequency\": 1, \"value\": 355200}, \"804100\": {\"frequency\": 1, \"value\": 804100}, \"959750\": {\"frequency\": 1, \"value\": 959750}, \"1525000\": {\"frequency\": 4, \"value\": 1525000}, \"595500\": {\"frequency\": 1, \"value\": 595500}, \"607500\": {\"frequency\": 6, \"value\": 607500}, \"1738000\": {\"frequency\": 1, \"value\": 1738000}, \"1655000\": {\"frequency\": 2, \"value\": 1655000}, \"1139990\": {\"frequency\": 1, \"value\": 1139990}, \"927000\": {\"frequency\": 1, \"value\": 927000}, \"666500\": {\"frequency\": 1, \"value\": 666500}, \"369946\": {\"frequency\": 1, \"value\": 369946}, \"648475\": {\"frequency\": 1, \"value\": 648475}, \"369950\": {\"frequency\": 11, \"value\": 369950}, \"1295648\": {\"frequency\": 1, \"value\": 1295648}, \"190000\": {\"frequency\": 39, \"value\": 190000}, \"402723\": {\"frequency\": 1, \"value\": 402723}, \"222500\": {\"frequency\": 2, \"value\": 222500}, \"329000\": {\"frequency\": 18, \"value\": 329000}, \"839900\": {\"frequency\": 2, \"value\": 839900}, \"1197354\": {\"frequency\": 1, \"value\": 1197354}, \"244615\": {\"frequency\": 1, \"value\": 244615}, \"435500\": {\"frequency\": 2, \"value\": 435500}, \"1000750\": {\"frequency\": 1, \"value\": 1000750}, \"542000\": {\"frequency\": 9, \"value\": 542000}, \"1285000\": {\"frequency\": 5, \"value\": 1285000}, \"2475000\": {\"frequency\": 1, \"value\": 2475000}, \"206135\": {\"frequency\": 1, \"value\": 206135}, \"755000\": {\"frequency\": 14, \"value\": 755000}, \"370228\": {\"frequency\": 1, \"value\": 370228}, \"271675\": {\"frequency\": 1, \"value\": 271675}, \"968000\": {\"frequency\": 3, \"value\": 968000}, \"844000\": {\"frequency\": 2, \"value\": 844000}, \"509250\": {\"frequency\": 2, \"value\": 509250}, \"369990\": {\"frequency\": 1, \"value\": 369990}, \"1462497\": {\"frequency\": 1, \"value\": 1462497}, \"2205000\": {\"frequency\": 1, \"value\": 2205000}, \"263500\": {\"frequency\": 5, \"value\": 263500}, \"443725\": {\"frequency\": 1, \"value\": 443725}, \"370000\": {\"frequency\": 88, \"value\": 370000}, \"255544\": {\"frequency\": 1, \"value\": 255544}, \"361810\": {\"frequency\": 1, \"value\": 361810}, \"476500\": {\"frequency\": 4, \"value\": 476500}, \"569888\": {\"frequency\": 1, \"value\": 569888}, \"583000\": {\"frequency\": 10, \"value\": 583000}, \"438500\": {\"frequency\": 2, \"value\": 438500}, \"279900\": {\"frequency\": 8, \"value\": 279900}, \"673000\": {\"frequency\": 4, \"value\": 673000}, \"796000\": {\"frequency\": 3, \"value\": 796000}, \"2950000\": {\"frequency\": 4, \"value\": 2950000}, \"902500\": {\"frequency\": 1, \"value\": 902500}, \"286950\": {\"frequency\": 2, \"value\": 286950}, \"238950\": {\"frequency\": 2, \"value\": 238950}, \"304700\": {\"frequency\": 1, \"value\": 304700}, \"544999\": {\"frequency\": 1, \"value\": 544999}, \"410988\": {\"frequency\": 1, \"value\": 410988}, \"198000\": {\"frequency\": 5, \"value\": 198000}, \"422120\": {\"frequency\": 1, \"value\": 422120}, \"304500\": {\"frequency\": 3, \"value\": 304500}, \"370037\": {\"frequency\": 1, \"value\": 370037}, \"664950\": {\"frequency\": 2, \"value\": 664950}, \"417200\": {\"frequency\": 1, \"value\": 417200}, \"411000\": {\"frequency\": 10, \"value\": 411000}, \"517500\": {\"frequency\": 6, \"value\": 517500}, \"344000\": {\"frequency\": 10, \"value\": 344000}, \"624000\": {\"frequency\": 6, \"value\": 624000}, \"616000\": {\"frequency\": 6, \"value\": 616000}, \"320900\": {\"frequency\": 2, \"value\": 320900}, \"428950\": {\"frequency\": 1, \"value\": 428950}, \"1049990\": {\"frequency\": 1, \"value\": 1049990}, \"2885000\": {\"frequency\": 1, \"value\": 2885000}, \"943500\": {\"frequency\": 1, \"value\": 943500}, \"550285\": {\"frequency\": 1, \"value\": 550285}, \"279950\": {\"frequency\": 12, \"value\": 279950}, \"1050000\": {\"frequency\": 36, \"value\": 1050000}, \"175000\": {\"frequency\": 36, \"value\": 175000}, \"132500\": {\"frequency\": 2, \"value\": 132500}, \"972800\": {\"frequency\": 1, \"value\": 972800}, \"531155\": {\"frequency\": 1, \"value\": 531155}, \"239000\": {\"frequency\": 17, \"value\": 239000}, \"722500\": {\"frequency\": 4, \"value\": 722500}, \"345500\": {\"frequency\": 3, \"value\": 345500}, \"408474\": {\"frequency\": 1, \"value\": 408474}, \"517534\": {\"frequency\": 1, \"value\": 517534}, \"452000\": {\"frequency\": 24, \"value\": 452000}, \"246000\": {\"frequency\": 13, \"value\": 246000}, \"1582500\": {\"frequency\": 1, \"value\": 1582500}, \"665000\": {\"frequency\": 47, \"value\": 665000}, \"895900\": {\"frequency\": 1, \"value\": 895900}, \"542126\": {\"frequency\": 1, \"value\": 542126}, \"673200\": {\"frequency\": 1, \"value\": 673200}, \"2005000\": {\"frequency\": 1, \"value\": 2005000}, \"786000\": {\"frequency\": 1, \"value\": 786000}, \"454900\": {\"frequency\": 1, \"value\": 454900}, \"2328000\": {\"frequency\": 1, \"value\": 2328000}, \"386500\": {\"frequency\": 5, \"value\": 386500}, \"280005\": {\"frequency\": 1, \"value\": 280005}, \"493000\": {\"frequency\": 6, \"value\": 493000}, \"189900\": {\"frequency\": 2, \"value\": 189900}, \"706000\": {\"frequency\": 5, \"value\": 706000}, \"368888\": {\"frequency\": 1, \"value\": 368888}, \"812500\": {\"frequency\": 2, \"value\": 812500}, \"353750\": {\"frequency\": 1, \"value\": 353750}, \"919000\": {\"frequency\": 1, \"value\": 919000}, \"1999000\": {\"frequency\": 1, \"value\": 1999000}, \"529999\": {\"frequency\": 1, \"value\": 529999}, \"411100\": {\"frequency\": 1, \"value\": 411100}, \"504058\": {\"frequency\": 1, \"value\": 504058}, \"439888\": {\"frequency\": 1, \"value\": 439888}, \"574950\": {\"frequency\": 1, \"value\": 574950}, \"321000\": {\"frequency\": 9, \"value\": 321000}, \"427500\": {\"frequency\": 10, \"value\": 427500}, \"1990000\": {\"frequency\": 1, \"value\": 1990000}, \"534000\": {\"frequency\": 4, \"value\": 534000}, \"1625000\": {\"frequency\": 2, \"value\": 1625000}, \"550388\": {\"frequency\": 1, \"value\": 550388}, \"206325\": {\"frequency\": 1, \"value\": 206325}, \"2795000\": {\"frequency\": 1, \"value\": 2795000}, \"288250\": {\"frequency\": 1, \"value\": 288250}, \"189950\": {\"frequency\": 3, \"value\": 189950}, \"960000\": {\"frequency\": 14, \"value\": 960000}, \"2720000\": {\"frequency\": 1, \"value\": 2720000}, \"321027\": {\"frequency\": 1, \"value\": 321027}, \"247300\": {\"frequency\": 1, \"value\": 247300}, \"1107461\": {\"frequency\": 1, \"value\": 1107461}, \"149000\": {\"frequency\": 2, \"value\": 149000}, \"502700\": {\"frequency\": 1, \"value\": 502700}, \"255500\": {\"frequency\": 4, \"value\": 255500}, \"362000\": {\"frequency\": 9, \"value\": 362000}, \"1255000\": {\"frequency\": 2, \"value\": 1255000}, \"263700\": {\"frequency\": 1, \"value\": 263700}, \"555950\": {\"frequency\": 1, \"value\": 555950}, \"828950\": {\"frequency\": 1, \"value\": 828950}, \"575000\": {\"frequency\": 93, \"value\": 575000}, \"419354\": {\"frequency\": 1, \"value\": 419354}, \"296475\": {\"frequency\": 1, \"value\": 296475}, \"271900\": {\"frequency\": 2, \"value\": 271900}, \"427550\": {\"frequency\": 1, \"value\": 427550}, \"386591\": {\"frequency\": 1, \"value\": 386591}, \"788000\": {\"frequency\": 3, \"value\": 788000}, \"2350000\": {\"frequency\": 2, \"value\": 2350000}, \"1538000\": {\"frequency\": 1, \"value\": 1538000}, \"230950\": {\"frequency\": 1, \"value\": 230950}, \"1001000\": {\"frequency\": 1, \"value\": 1001000}, \"542300\": {\"frequency\": 1, \"value\": 542300}, \"828500\": {\"frequency\": 1, \"value\": 828500}, \"318400\": {\"frequency\": 1, \"value\": 318400}, \"443950\": {\"frequency\": 1, \"value\": 443950}, \"648752\": {\"frequency\": 1, \"value\": 648752}, \"373000\": {\"frequency\": 11, \"value\": 373000}, \"296500\": {\"frequency\": 4, \"value\": 296500}, \"403000\": {\"frequency\": 12, \"value\": 403000}, \"203700\": {\"frequency\": 2, \"value\": 203700}, \"312891\": {\"frequency\": 1, \"value\": 312891}, \"509500\": {\"frequency\": 2, \"value\": 509500}, \"225000\": {\"frequency\": 83, \"value\": 225000}, \"869950\": {\"frequency\": 1, \"value\": 869950}, \"525888\": {\"frequency\": 1, \"value\": 525888}, \"1468000\": {\"frequency\": 1, \"value\": 1468000}, \"312900\": {\"frequency\": 1, \"value\": 312900}, \"4489000\": {\"frequency\": 1, \"value\": 4489000}, \"829000\": {\"frequency\": 3, \"value\": 829000}, \"479500\": {\"frequency\": 2, \"value\": 479500}, \"271950\": {\"frequency\": 1, \"value\": 271950}, \"1042000\": {\"frequency\": 1, \"value\": 1042000}, \"1027000\": {\"frequency\": 1, \"value\": 1027000}, \"124500\": {\"frequency\": 1, \"value\": 124500}, \"484950\": {\"frequency\": 3, \"value\": 484950}, \"231000\": {\"frequency\": 5, \"value\": 231000}, \"541800\": {\"frequency\": 1, \"value\": 541800}, \"337500\": {\"frequency\": 7, \"value\": 337500}, \"288349\": {\"frequency\": 1, \"value\": 288349}, \"288350\": {\"frequency\": 1, \"value\": 288350}, \"444000\": {\"frequency\": 2, \"value\": 444000}, \"278800\": {\"frequency\": 1, \"value\": 278800}, \"837219\": {\"frequency\": 1, \"value\": 837219}, \"550500\": {\"frequency\": 2, \"value\": 550500}, \"657000\": {\"frequency\": 6, \"value\": 657000}, \"353900\": {\"frequency\": 2, \"value\": 353900}, \"1042031\": {\"frequency\": 1, \"value\": 1042031}, \"870000\": {\"frequency\": 23, \"value\": 870000}, \"1681000\": {\"frequency\": 1, \"value\": 1681000}, \"640500\": {\"frequency\": 2, \"value\": 640500}, \"674750\": {\"frequency\": 1, \"value\": 674750}, \"282900\": {\"frequency\": 1, \"value\": 282900}, \"476800\": {\"frequency\": 1, \"value\": 476800}, \"3800000\": {\"frequency\": 2, \"value\": 3800000}, \"378500\": {\"frequency\": 5, \"value\": 378500}, \"329350\": {\"frequency\": 1, \"value\": 329350}, \"689800\": {\"frequency\": 2, \"value\": 689800}, \"820875\": {\"frequency\": 1, \"value\": 820875}, \"591500\": {\"frequency\": 1, \"value\": 591500}, \"1799000\": {\"frequency\": 1, \"value\": 1799000}, \"378510\": {\"frequency\": 1, \"value\": 378510}, \"288400\": {\"frequency\": 2, \"value\": 288400}, \"1311000\": {\"frequency\": 1, \"value\": 1311000}, \"394900\": {\"frequency\": 1, \"value\": 394900}, \"911000\": {\"frequency\": 1, \"value\": 911000}, \"424900\": {\"frequency\": 1, \"value\": 424900}, \"452250\": {\"frequency\": 1, \"value\": 452250}, \"157340\": {\"frequency\": 1, \"value\": 157340}, \"353950\": {\"frequency\": 1, \"value\": 353950}, \"100000\": {\"frequency\": 6, \"value\": 100000}, \"919204\": {\"frequency\": 1, \"value\": 919204}, \"566950\": {\"frequency\": 1, \"value\": 566950}, \"313000\": {\"frequency\": 9, \"value\": 313000}, \"803100\": {\"frequency\": 1, \"value\": 803100}, \"263850\": {\"frequency\": 1, \"value\": 263850}, \"419500\": {\"frequency\": 3, \"value\": 419500}, \"370350\": {\"frequency\": 1, \"value\": 370350}, \"389800\": {\"frequency\": 1, \"value\": 389800}, \"526000\": {\"frequency\": 12, \"value\": 526000}, \"121800\": {\"frequency\": 1, \"value\": 121800}, \"4208000\": {\"frequency\": 1, \"value\": 4208000}, \"632500\": {\"frequency\": 5, \"value\": 632500}, \"739000\": {\"frequency\": 12, \"value\": 739000}, \"3000000\": {\"frequency\": 5, \"value\": 3000000}, \"1890000\": {\"frequency\": 1, \"value\": 1890000}, \"239300\": {\"frequency\": 1, \"value\": 239300}, \"394950\": {\"frequency\": 5, \"value\": 394950}, \"1165000\": {\"frequency\": 5, \"value\": 1165000}, \"1062000\": {\"frequency\": 1, \"value\": 1062000}, \"247500\": {\"frequency\": 10, \"value\": 247500}, \"1378000\": {\"frequency\": 2, \"value\": 1378000}, \"1595000\": {\"frequency\": 3, \"value\": 1595000}, \"342400\": {\"frequency\": 1, \"value\": 342400}, \"460500\": {\"frequency\": 2, \"value\": 460500}, \"567000\": {\"frequency\": 6, \"value\": 567000}, \"132825\": {\"frequency\": 1, \"value\": 132825}, \"517850\": {\"frequency\": 1, \"value\": 517850}, \"263900\": {\"frequency\": 1, \"value\": 263900}, \"161000\": {\"frequency\": 1, \"value\": 161000}, \"689888\": {\"frequency\": 1, \"value\": 689888}, \"476900\": {\"frequency\": 1, \"value\": 476900}, \"329445\": {\"frequency\": 1, \"value\": 329445}, \"993000\": {\"frequency\": 1, \"value\": 993000}, \"1007500\": {\"frequency\": 1, \"value\": 1007500}, \"280300\": {\"frequency\": 1, \"value\": 280300}, \"2230000\": {\"frequency\": 2, \"value\": 2230000}, \"201000\": {\"frequency\": 8, \"value\": 201000}, \"247200\": {\"frequency\": 3, \"value\": 247200}, \"681716\": {\"frequency\": 1, \"value\": 681716}, \"394999\": {\"frequency\": 1, \"value\": 394999}, \"395000\": {\"frequency\": 72, \"value\": 395000}, \"1260500\": {\"frequency\": 1, \"value\": 1260500}, \"567035\": {\"frequency\": 1, \"value\": 567035}, \"911100\": {\"frequency\": 1, \"value\": 911100}, \"608000\": {\"frequency\": 11, \"value\": 608000}, \"272000\": {\"frequency\": 28, \"value\": 272000}, \"304900\": {\"frequency\": 1, \"value\": 304900}, \"616200\": {\"frequency\": 1, \"value\": 616200}, \"409900\": {\"frequency\": 2, \"value\": 409900}, \"313100\": {\"frequency\": 3, \"value\": 313100}, \"263950\": {\"frequency\": 1, \"value\": 263950}, \"419600\": {\"frequency\": 1, \"value\": 419600}, \"2903000\": {\"frequency\": 1, \"value\": 2903000}, \"825500\": {\"frequency\": 1, \"value\": 825500}, \"152000\": {\"frequency\": 5, \"value\": 152000}, \"1247000\": {\"frequency\": 1, \"value\": 1247000}, \"329500\": {\"frequency\": 6, \"value\": 329500}, \"689950\": {\"frequency\": 1, \"value\": 689950}, \"436000\": {\"frequency\": 16, \"value\": 436000}, \"311600\": {\"frequency\": 1, \"value\": 311600}, \"508800\": {\"frequency\": 1, \"value\": 508800}, \"542500\": {\"frequency\": 6, \"value\": 542500}, \"738950\": {\"frequency\": 1, \"value\": 738950}, \"861990\": {\"frequency\": 1, \"value\": 861990}, \"272167\": {\"frequency\": 1, \"value\": 272167}, \"853800\": {\"frequency\": 1, \"value\": 853800}, \"419625\": {\"frequency\": 1, \"value\": 419625}, \"550700\": {\"frequency\": 2, \"value\": 550700}, \"862000\": {\"frequency\": 2, \"value\": 862000}, \"485000\": {\"frequency\": 82, \"value\": 485000}, \"403250\": {\"frequency\": 1, \"value\": 403250}, \"304950\": {\"frequency\": 2, \"value\": 304950}, \"1075000\": {\"frequency\": 12, \"value\": 1075000}, \"520500\": {\"frequency\": 2, \"value\": 520500}, \"157500\": {\"frequency\": 3, \"value\": 157500}, \"542525\": {\"frequency\": 1, \"value\": 542525}, \"517950\": {\"frequency\": 1, \"value\": 517950}, \"264000\": {\"frequency\": 6, \"value\": 264000}, \"1580000\": {\"frequency\": 6, \"value\": 1580000}, \"370500\": {\"frequency\": 1, \"value\": 370500}, \"2525000\": {\"frequency\": 1, \"value\": 2525000}, \"583500\": {\"frequency\": 4, \"value\": 583500}, \"690000\": {\"frequency\": 44, \"value\": 690000}, \"1651000\": {\"frequency\": 1, \"value\": 1651000}, \"386900\": {\"frequency\": 1, \"value\": 386900}, \"903000\": {\"frequency\": 2, \"value\": 903000}, \"813500\": {\"frequency\": 1, \"value\": 813500}, \"599900\": {\"frequency\": 2, \"value\": 599900}, \"345950\": {\"frequency\": 2, \"value\": 345950}, \"608095\": {\"frequency\": 1, \"value\": 608095}, \"2140000\": {\"frequency\": 2, \"value\": 2140000}, \"698000\": {\"frequency\": 9, \"value\": 698000}, \"427874\": {\"frequency\": 1, \"value\": 427874}, \"586000\": {\"frequency\": 2, \"value\": 586000}, \"198500\": {\"frequency\": 2, \"value\": 198500}, \"384200\": {\"frequency\": 1, \"value\": 384200}, \"304999\": {\"frequency\": 1, \"value\": 304999}, \"305000\": {\"frequency\": 92, \"value\": 305000}, \"945800\": {\"frequency\": 1, \"value\": 945800}, \"496800\": {\"frequency\": 1, \"value\": 496800}, \"616300\": {\"frequency\": 1, \"value\": 616300}, \"485230\": {\"frequency\": 1, \"value\": 485230}, \"518000\": {\"frequency\": 20, \"value\": 518000}, \"379880\": {\"frequency\": 1, \"value\": 379880}, \"624500\": {\"frequency\": 1, \"value\": 624500}, \"731000\": {\"frequency\": 2, \"value\": 731000}, \"657044\": {\"frequency\": 1, \"value\": 657044}, \"362362\": {\"frequency\": 1, \"value\": 362362}, \"837500\": {\"frequency\": 1, \"value\": 837500}, \"378750\": {\"frequency\": 1, \"value\": 378750}, \"1481000\": {\"frequency\": 1, \"value\": 1481000}, \"763776\": {\"frequency\": 1, \"value\": 763776}, \"3400000\": {\"frequency\": 2, \"value\": 3400000}, \"386950\": {\"frequency\": 1, \"value\": 386950}, \"133000\": {\"frequency\": 2, \"value\": 133000}, \"599950\": {\"frequency\": 13, \"value\": 599950}, \"346000\": {\"frequency\": 7, \"value\": 346000}, \"452500\": {\"frequency\": 4, \"value\": 452500}, \"559000\": {\"frequency\": 9, \"value\": 559000}, \"870300\": {\"frequency\": 1, \"value\": 870300}, \"772000\": {\"frequency\": 5, \"value\": 772000}, \"214946\": {\"frequency\": 1, \"value\": 214946}, \"214950\": {\"frequency\": 2, \"value\": 214950}, \"985000\": {\"frequency\": 8, \"value\": 985000}, \"632750\": {\"frequency\": 1, \"value\": 632750}, \"1198000\": {\"frequency\": 1, \"value\": 1198000}, \"541000\": {\"frequency\": 3, \"value\": 541000}, \"280500\": {\"frequency\": 6, \"value\": 280500}, \"865950\": {\"frequency\": 1, \"value\": 865950}, \"599990\": {\"frequency\": 1, \"value\": 599990}, \"387000\": {\"frequency\": 11, \"value\": 387000}, \"747450\": {\"frequency\": 1, \"value\": 747450}, \"599995\": {\"frequency\": 1, \"value\": 599995}, \"493500\": {\"frequency\": 1, \"value\": 493500}, \"527900\": {\"frequency\": 1, \"value\": 527900}, \"599999\": {\"frequency\": 1, \"value\": 599999}, \"600000\": {\"frequency\": 110, \"value\": 600000}, \"1033888\": {\"frequency\": 1, \"value\": 1033888}, \"930800\": {\"frequency\": 1, \"value\": 930800}, \"2367000\": {\"frequency\": 1, \"value\": 2367000}, \"813000\": {\"frequency\": 4, \"value\": 813000}, \"297975\": {\"frequency\": 1, \"value\": 297975}, \"305100\": {\"frequency\": 1, \"value\": 305100}, \"255950\": {\"frequency\": 2, \"value\": 255950}, \"2050000\": {\"frequency\": 3, \"value\": 2050000}, \"171000\": {\"frequency\": 1, \"value\": 171000}, \"313300\": {\"frequency\": 1, \"value\": 313300}, \"411605\": {\"frequency\": 1, \"value\": 411605}, \"215000\": {\"frequency\": 60, \"value\": 215000}, \"308900\": {\"frequency\": 1, \"value\": 308900}, \"321500\": {\"frequency\": 3, \"value\": 321500}, \"428000\": {\"frequency\": 13, \"value\": 428000}, \"242000\": {\"frequency\": 13, \"value\": 242000}, \"534500\": {\"frequency\": 1, \"value\": 534500}, \"464550\": {\"frequency\": 1, \"value\": 464550}, \"641000\": {\"frequency\": 8, \"value\": 641000}, \"379900\": {\"frequency\": 9, \"value\": 379900}, \"747500\": {\"frequency\": 2, \"value\": 747500}, \"1058800\": {\"frequency\": 1, \"value\": 1058800}, \"346100\": {\"frequency\": 2, \"value\": 346100}, \"294400\": {\"frequency\": 1, \"value\": 294400}, \"1067000\": {\"frequency\": 1, \"value\": 1067000}, \"608250\": {\"frequency\": 1, \"value\": 608250}, \"149500\": {\"frequency\": 1, \"value\": 149500}, \"460458\": {\"frequency\": 1, \"value\": 460458}, \"509950\": {\"frequency\": 3, \"value\": 509950}, \"1280000\": {\"frequency\": 8, \"value\": 1280000}, \"896000\": {\"frequency\": 3, \"value\": 896000}, \"362500\": {\"frequency\": 8, \"value\": 362500}, \"469000\": {\"frequency\": 18, \"value\": 469000}, \"682000\": {\"frequency\": 9, \"value\": 682000}, \"455000\": {\"frequency\": 73, \"value\": 455000}, \"788500\": {\"frequency\": 1, \"value\": 788500}, \"779950\": {\"frequency\": 3, \"value\": 779950}, \"288790\": {\"frequency\": 3, \"value\": 288790}, \"895000\": {\"frequency\": 17, \"value\": 895000}, \"84000\": {\"frequency\": 1, \"value\": 84000}, \"1550000\": {\"frequency\": 9, \"value\": 1550000}, \"395300\": {\"frequency\": 1, \"value\": 395300}, \"346150\": {\"frequency\": 1, \"value\": 346150}, \"297000\": {\"frequency\": 10, \"value\": 297000}, \"172380\": {\"frequency\": 1, \"value\": 172380}, \"403500\": {\"frequency\": 4, \"value\": 403500}, \"348140\": {\"frequency\": 1, \"value\": 348140}, \"739375\": {\"frequency\": 1, \"value\": 739375}, \"510000\": {\"frequency\": 74, \"value\": 510000}, \"449888\": {\"frequency\": 1, \"value\": 449888}, \"616500\": {\"frequency\": 3, \"value\": 616500}, \"328500\": {\"frequency\": 3, \"value\": 328500}, \"723000\": {\"frequency\": 5, \"value\": 723000}, \"222900\": {\"frequency\": 2, \"value\": 222900}, \"264250\": {\"frequency\": 1, \"value\": 264250}, \"419900\": {\"frequency\": 4, \"value\": 419900}, \"575550\": {\"frequency\": 1, \"value\": 575550}, \"936000\": {\"frequency\": 3, \"value\": 936000}, \"1180000\": {\"frequency\": 6, \"value\": 1180000}, \"272450\": {\"frequency\": 2, \"value\": 272450}, \"411715\": {\"frequency\": 1, \"value\": 411715}, \"1042500\": {\"frequency\": 1, \"value\": 1042500}, \"378950\": {\"frequency\": 2, \"value\": 378950}, \"125000\": {\"frequency\": 5, \"value\": 125000}, \"231500\": {\"frequency\": 4, \"value\": 231500}, \"1443917\": {\"frequency\": 1, \"value\": 1443917}, \"338000\": {\"frequency\": 15, \"value\": 338000}, \"444500\": {\"frequency\": 1, \"value\": 444500}, \"395350\": {\"frequency\": 1, \"value\": 395350}, \"575575\": {\"frequency\": 1, \"value\": 575575}, \"551000\": {\"frequency\": 9, \"value\": 551000}, \"657500\": {\"frequency\": 7, \"value\": 657500}, \"632925\": {\"frequency\": 1, \"value\": 632925}, \"764000\": {\"frequency\": 2, \"value\": 764000}, \"810000\": {\"frequency\": 35, \"value\": 810000}, \"1484900\": {\"frequency\": 1, \"value\": 1484900}, \"302860\": {\"frequency\": 1, \"value\": 302860}, \"591975\": {\"frequency\": 1, \"value\": 591975}, \"1099880\": {\"frequency\": 1, \"value\": 1099880}, \"411753\": {\"frequency\": 1, \"value\": 411753}, \"454800\": {\"frequency\": 1, \"value\": 454800}, \"2340000\": {\"frequency\": 1, \"value\": 2340000}, \"419950\": {\"frequency\": 10, \"value\": 419950}, \"166000\": {\"frequency\": 3, \"value\": 166000}, \"369000\": {\"frequency\": 13, \"value\": 369000}, \"870515\": {\"frequency\": 1, \"value\": 870515}, \"272500\": {\"frequency\": 4, \"value\": 272500}, \"379000\": {\"frequency\": 17, \"value\": 379000}, \"485500\": {\"frequency\": 3, \"value\": 485500}, \"217450\": {\"frequency\": 1, \"value\": 217450}, \"845950\": {\"frequency\": 1, \"value\": 845950}, \"592000\": {\"frequency\": 4, \"value\": 592000}, \"952000\": {\"frequency\": 3, \"value\": 952000}, \"804995\": {\"frequency\": 1, \"value\": 804995}, \"805000\": {\"frequency\": 23, \"value\": 805000}, \"460940\": {\"frequency\": 1, \"value\": 460940}, \"206990\": {\"frequency\": 1, \"value\": 206990}, \"1535000\": {\"frequency\": 2, \"value\": 1535000}, \"354450\": {\"frequency\": 1, \"value\": 354450}, \"419990\": {\"frequency\": 1, \"value\": 419990}, \"207000\": {\"frequency\": 14, \"value\": 207000}, \"419995\": {\"frequency\": 1, \"value\": 419995}, \"313500\": {\"frequency\": 4, \"value\": 313500}, \"420000\": {\"frequency\": 97, \"value\": 420000}, \"582000\": {\"frequency\": 6, \"value\": 582000}, \"526500\": {\"frequency\": 2, \"value\": 526500}, \"633000\": {\"frequency\": 4, \"value\": 633000}, \"515100\": {\"frequency\": 1, \"value\": 515100}, \"739500\": {\"frequency\": 1, \"value\": 739500}, \"1870000\": {\"frequency\": 1, \"value\": 1870000}, \"243400\": {\"frequency\": 1, \"value\": 243400}, \"346290\": {\"frequency\": 1, \"value\": 346290}, \"952500\": {\"frequency\": 1, \"value\": 952500}, \"1058997\": {\"frequency\": 1, \"value\": 1058997}, \"239800\": {\"frequency\": 1, \"value\": 239800}, \"688500\": {\"frequency\": 1, \"value\": 688500}, \"346300\": {\"frequency\": 1, \"value\": 346300}, \"248000\": {\"frequency\": 20, \"value\": 248000}, \"2260000\": {\"frequency\": 1, \"value\": 2260000}, \"329922\": {\"frequency\": 1, \"value\": 329922}, \"354500\": {\"frequency\": 1, \"value\": 354500}, \"439800\": {\"frequency\": 1, \"value\": 439800}, \"461000\": {\"frequency\": 10, \"value\": 461000}, \"657100\": {\"frequency\": 1, \"value\": 657100}, \"567500\": {\"frequency\": 8, \"value\": 567500}, \"674000\": {\"frequency\": 4, \"value\": 674000}, \"1307000\": {\"frequency\": 1, \"value\": 1307000}, \"575700\": {\"frequency\": 1, \"value\": 575700}, \"887000\": {\"frequency\": 2, \"value\": 887000}, \"993500\": {\"frequency\": 1, \"value\": 993500}, \"329950\": {\"frequency\": 18, \"value\": 329950}, \"1100000\": {\"frequency\": 28, \"value\": 1100000}, \"354000\": {\"frequency\": 15, \"value\": 354000}, \"641250\": {\"frequency\": 1, \"value\": 641250}, \"182500\": {\"frequency\": 3, \"value\": 182500}, \"968933\": {\"frequency\": 1, \"value\": 968933}, \"338150\": {\"frequency\": 1, \"value\": 338150}, \"289000\": {\"frequency\": 20, \"value\": 289000}, \"1206505\": {\"frequency\": 1, \"value\": 1206505}, \"518380\": {\"frequency\": 1, \"value\": 518380}, \"502000\": {\"frequency\": 14, \"value\": 502000}, \"334888\": {\"frequency\": 1, \"value\": 334888}, \"198900\": {\"frequency\": 1, \"value\": 198900}, \"715000\": {\"frequency\": 39, \"value\": 715000}, \"207100\": {\"frequency\": 1, \"value\": 207100}, \"182568\": {\"frequency\": 1, \"value\": 182568}, \"4000000\": {\"frequency\": 1, \"value\": 4000000}, \"1520000\": {\"frequency\": 2, \"value\": 1520000}, \"1034500\": {\"frequency\": 1, \"value\": 1034500}, \"329990\": {\"frequency\": 1, \"value\": 329990}, \"329995\": {\"frequency\": 1, \"value\": 329995}, \"633100\": {\"frequency\": 1, \"value\": 633100}, \"329999\": {\"frequency\": 2, \"value\": 329999}, \"330000\": {\"frequency\": 119, \"value\": 330000}, \"1079000\": {\"frequency\": 2, \"value\": 1079000}, \"436500\": {\"frequency\": 3, \"value\": 436500}, \"543000\": {\"frequency\": 9, \"value\": 543000}, \"239900\": {\"frequency\": 6, \"value\": 239900}, \"756000\": {\"frequency\": 4, \"value\": 756000}, \"3710000\": {\"frequency\": 1, \"value\": 3710000}, \"862500\": {\"frequency\": 2, \"value\": 862500}, \"969000\": {\"frequency\": 1, \"value\": 969000}, \"775900\": {\"frequency\": 1, \"value\": 775900}, \"510250\": {\"frequency\": 1, \"value\": 510250}, \"665900\": {\"frequency\": 1, \"value\": 665900}, \"297262\": {\"frequency\": 1, \"value\": 297262}, \"158000\": {\"frequency\": 4, \"value\": 158000}, \"264950\": {\"frequency\": 9, \"value\": 264950}, \"264500\": {\"frequency\": 5, \"value\": 264500}, \"624950\": {\"frequency\": 1, \"value\": 624950}, \"371000\": {\"frequency\": 10, \"value\": 371000}, \"1256500\": {\"frequency\": 1, \"value\": 1256500}, \"941000\": {\"frequency\": 1, \"value\": 941000}, \"477500\": {\"frequency\": 4, \"value\": 477500}, \"908990\": {\"frequency\": 1, \"value\": 908990}, \"584000\": {\"frequency\": 2, \"value\": 584000}, \"780000\": {\"frequency\": 47, \"value\": 780000}, \"690500\": {\"frequency\": 2, \"value\": 690500}, \"285750\": {\"frequency\": 1, \"value\": 285750}, \"231750\": {\"frequency\": 1, \"value\": 231750}, \"797000\": {\"frequency\": 3, \"value\": 797000}, \"508300\": {\"frequency\": 1, \"value\": 508300}, \"239950\": {\"frequency\": 12, \"value\": 239950}, \"1010000\": {\"frequency\": 12, \"value\": 1010000}, \"371025\": {\"frequency\": 1, \"value\": 371025}, \"297300\": {\"frequency\": 1, \"value\": 297300}, \"452950\": {\"frequency\": 1, \"value\": 452950}, \"305495\": {\"frequency\": 1, \"value\": 305495}, \"199000\": {\"frequency\": 14, \"value\": 199000}, \"305500\": {\"frequency\": 2, \"value\": 305500}, \"280927\": {\"frequency\": 1, \"value\": 280927}, \"412000\": {\"frequency\": 16, \"value\": 412000}, \"410000\": {\"frequency\": 86, \"value\": 410000}, \"518500\": {\"frequency\": 2, \"value\": 518500}, \"239975\": {\"frequency\": 1, \"value\": 239975}, \"1255784\": {\"frequency\": 1, \"value\": 1255784}, \"731500\": {\"frequency\": 1, \"value\": 731500}, \"272750\": {\"frequency\": 1, \"value\": 272750}, \"428400\": {\"frequency\": 1, \"value\": 428400}, \"362865\": {\"frequency\": 1, \"value\": 362865}, \"280950\": {\"frequency\": 1, \"value\": 280950}, \"2075000\": {\"frequency\": 1, \"value\": 2075000}, \"379260\": {\"frequency\": 1, \"value\": 379260}, \"239999\": {\"frequency\": 1, \"value\": 239999}, \"240000\": {\"frequency\": 80, \"value\": 240000}, \"2600000\": {\"frequency\": 2, \"value\": 2600000}, \"346500\": {\"frequency\": 5, \"value\": 346500}, \"453000\": {\"frequency\": 18, \"value\": 453000}, \"1099500\": {\"frequency\": 1, \"value\": 1099500}, \"543115\": {\"frequency\": 1, \"value\": 543115}, \"149900\": {\"frequency\": 1, \"value\": 149900}, \"919950\": {\"frequency\": 1, \"value\": 919950}, \"666000\": {\"frequency\": 3, \"value\": 666000}, \"213400\": {\"frequency\": 2, \"value\": 213400}, \"772500\": {\"frequency\": 3, \"value\": 772500}, \"477590\": {\"frequency\": 1, \"value\": 477590}, \"879000\": {\"frequency\": 4, \"value\": 879000}, \"420250\": {\"frequency\": 1, \"value\": 420250}, \"526750\": {\"frequency\": 1, \"value\": 526750}, \"887200\": {\"frequency\": 1, \"value\": 887200}, \"182000\": {\"frequency\": 3, \"value\": 182000}, \"942000\": {\"frequency\": 1, \"value\": 942000}, \"174500\": {\"frequency\": 2, \"value\": 174500}, \"534950\": {\"frequency\": 3, \"value\": 534950}, \"1305000\": {\"frequency\": 2, \"value\": 1305000}, \"319900\": {\"frequency\": 5, \"value\": 319900}, \"387500\": {\"frequency\": 9, \"value\": 387500}, \"494000\": {\"frequency\": 6, \"value\": 494000}, \"765000\": {\"frequency\": 37, \"value\": 765000}, \"1308000\": {\"frequency\": 1, \"value\": 1308000}, \"919990\": {\"frequency\": 1, \"value\": 919990}, \"707000\": {\"frequency\": 6, \"value\": 707000}, \"608700\": {\"frequency\": 1, \"value\": 608700}, \"472800\": {\"frequency\": 1, \"value\": 472800}, \"920000\": {\"frequency\": 25, \"value\": 920000}, \"1348000\": {\"frequency\": 2, \"value\": 1348000}, \"362950\": {\"frequency\": 1, \"value\": 362950}, \"109000\": {\"frequency\": 1, \"value\": 109000}, \"674250\": {\"frequency\": 1, \"value\": 674250}, \"215500\": {\"frequency\": 2, \"value\": 215500}, \"1599950\": {\"frequency\": 1, \"value\": 1599950}, \"322000\": {\"frequency\": 12, \"value\": 322000}, \"1419000\": {\"frequency\": 1, \"value\": 1419000}, \"887250\": {\"frequency\": 1, \"value\": 887250}, \"535000\": {\"frequency\": 78, \"value\": 535000}, \"942500\": {\"frequency\": 2, \"value\": 942500}, \"641500\": {\"frequency\": 1, \"value\": 641500}, \"592350\": {\"frequency\": 1, \"value\": 592350}, \"543200\": {\"frequency\": 1, \"value\": 543200}, \"978000\": {\"frequency\": 3, \"value\": 978000}, \"794154\": {\"frequency\": 1, \"value\": 794154}, \"444900\": {\"frequency\": 1, \"value\": 444900}, \"412133\": {\"frequency\": 1, \"value\": 412133}, \"141800\": {\"frequency\": 1, \"value\": 141800}, \"1886700\": {\"frequency\": 1, \"value\": 1886700}, \"481000\": {\"frequency\": 8, \"value\": 481000}, \"403950\": {\"frequency\": 2, \"value\": 403950}, \"150000\": {\"frequency\": 25, \"value\": 150000}, \"229800\": {\"frequency\": 1, \"value\": 229800}, \"256500\": {\"frequency\": 3, \"value\": 256500}, \"616950\": {\"frequency\": 2, \"value\": 616950}, \"363000\": {\"frequency\": 12, \"value\": 363000}, \"289275\": {\"frequency\": 1, \"value\": 289275}, \"469500\": {\"frequency\": 4, \"value\": 469500}, \"829950\": {\"frequency\": 1, \"value\": 829950}, \"576000\": {\"frequency\": 6, \"value\": 576000}, \"198400\": {\"frequency\": 1, \"value\": 198400}, \"682500\": {\"frequency\": 1, \"value\": 682500}, \"789000\": {\"frequency\": 1, \"value\": 789000}, \"690700\": {\"frequency\": 1, \"value\": 690700}, \"834800\": {\"frequency\": 1, \"value\": 834800}, \"559630\": {\"frequency\": 1, \"value\": 559630}, \"1411600\": {\"frequency\": 1, \"value\": 1411600}, \"1191000\": {\"frequency\": 1, \"value\": 1191000}, \"444950\": {\"frequency\": 2, \"value\": 444950}, \"1215000\": {\"frequency\": 3, \"value\": 1215000}, \"284200\": {\"frequency\": 2, \"value\": 284200}, \"297500\": {\"frequency\": 2, \"value\": 297500}, \"272925\": {\"frequency\": 1, \"value\": 272925}, \"404000\": {\"frequency\": 7, \"value\": 404000}, \"1262000\": {\"frequency\": 1, \"value\": 1262000}, \"510500\": {\"frequency\": 1, \"value\": 510500}, \"617000\": {\"frequency\": 3, \"value\": 617000}, \"375900\": {\"frequency\": 2, \"value\": 375900}, \"772650\": {\"frequency\": 1, \"value\": 772650}, \"829995\": {\"frequency\": 1, \"value\": 829995}, \"830000\": {\"frequency\": 24, \"value\": 830000}, \"395825\": {\"frequency\": 1, \"value\": 395825}, \"830005\": {\"frequency\": 1, \"value\": 830005}, \"272950\": {\"frequency\": 1, \"value\": 272950}, \"739900\": {\"frequency\": 2, \"value\": 739900}, \"232000\": {\"frequency\": 11, \"value\": 232000}, \"338500\": {\"frequency\": 6, \"value\": 338500}, \"1364000\": {\"frequency\": 1, \"value\": 1364000}, \"445000\": {\"frequency\": 75, \"value\": 445000}, \"415500\": {\"frequency\": 3, \"value\": 415500}, \"551500\": {\"frequency\": 1, \"value\": 551500}, \"658000\": {\"frequency\": 4, \"value\": 658000}, \"1475000\": {\"frequency\": 5, \"value\": 1475000}, \"1389000\": {\"frequency\": 1, \"value\": 1389000}, \"354900\": {\"frequency\": 1, \"value\": 354900}, \"354901\": {\"frequency\": 1, \"value\": 354901}, \"871000\": {\"frequency\": 2, \"value\": 871000}, \"412250\": {\"frequency\": 1, \"value\": 412250}, \"313950\": {\"frequency\": 1, \"value\": 313950}, \"625250\": {\"frequency\": 1, \"value\": 625250}, \"273000\": {\"frequency\": 13, \"value\": 273000}, \"475580\": {\"frequency\": 1, \"value\": 475580}, \"379500\": {\"frequency\": 8, \"value\": 379500}, \"466800\": {\"frequency\": 1, \"value\": 466800}, \"486000\": {\"frequency\": 3, \"value\": 486000}, \"490600\": {\"frequency\": 1, \"value\": 490600}, \"846450\": {\"frequency\": 1, \"value\": 846450}, \"592500\": {\"frequency\": 9, \"value\": 592500}, \"699000\": {\"frequency\": 16, \"value\": 699000}, \"341780\": {\"frequency\": 1, \"value\": 341780}, \"3600000\": {\"frequency\": 1, \"value\": 3600000}, \"805500\": {\"frequency\": 1, \"value\": 805500}, \"1355000\": {\"frequency\": 5, \"value\": 1355000}, \"453246\": {\"frequency\": 1, \"value\": 453246}, \"912000\": {\"frequency\": 3, \"value\": 912000}, \"664000\": {\"frequency\": 6, \"value\": 664000}, \"453250\": {\"frequency\": 1, \"value\": 453250}, \"731781\": {\"frequency\": 1, \"value\": 731781}, \"354950\": {\"frequency\": 3, \"value\": 354950}, \"1125000\": {\"frequency\": 10, \"value\": 1125000}, \"207500\": {\"frequency\": 3, \"value\": 207500}, \"313999\": {\"frequency\": 1, \"value\": 313999}, \"314000\": {\"frequency\": 8, \"value\": 314000}, \"427800\": {\"frequency\": 1, \"value\": 427800}, \"527000\": {\"frequency\": 7, \"value\": 527000}, \"1321625\": {\"frequency\": 1, \"value\": 1321625}, \"838300\": {\"frequency\": 1, \"value\": 838300}, \"952990\": {\"frequency\": 1, \"value\": 952990}, \"739999\": {\"frequency\": 1, \"value\": 739999}, \"740000\": {\"frequency\": 41, \"value\": 740000}, \"396400\": {\"frequency\": 1, \"value\": 396400}, \"1349000\": {\"frequency\": 1, \"value\": 1349000}, \"557510\": {\"frequency\": 1, \"value\": 557510}, \"1059500\": {\"frequency\": 1, \"value\": 1059500}, \"395950\": {\"frequency\": 1, \"value\": 395950}, \"953007\": {\"frequency\": 1, \"value\": 953007}, \"3418800\": {\"frequency\": 1, \"value\": 3418800}, \"365000\": {\"frequency\": 78, \"value\": 365000}, \"358800\": {\"frequency\": 1, \"value\": 358800}, \"248500\": {\"frequency\": 7, \"value\": 248500}, \"897000\": {\"frequency\": 1, \"value\": 897000}, \"355000\": {\"frequency\": 87, \"value\": 355000}, \"461500\": {\"frequency\": 1, \"value\": 461500}, \"256703\": {\"frequency\": 1, \"value\": 256703}, \"568000\": {\"frequency\": 12, \"value\": 568000}, \"1460000\": {\"frequency\": 1, \"value\": 1460000}, \"264900\": {\"frequency\": 1, \"value\": 264900}, \"420550\": {\"frequency\": 1, \"value\": 420550}, \"166600\": {\"frequency\": 1, \"value\": 166600}, \"887500\": {\"frequency\": 1, \"value\": 887500}, \"428750\": {\"frequency\": 2, \"value\": 428750}, \"379600\": {\"frequency\": 1, \"value\": 379600}, \"2555000\": {\"frequency\": 1, \"value\": 2555000}, \"787888\": {\"frequency\": 1, \"value\": 787888}, \"183000\": {\"frequency\": 7, \"value\": 183000}, \"289500\": {\"frequency\": 3, \"value\": 289500}, \"649950\": {\"frequency\": 9, \"value\": 649950}, \"396000\": {\"frequency\": 11, \"value\": 396000}, \"3650000\": {\"frequency\": 2, \"value\": 3650000}, \"756450\": {\"frequency\": 1, \"value\": 756450}, \"502500\": {\"frequency\": 1, \"value\": 502500}, \"502501\": {\"frequency\": 1, \"value\": 502501}, \"609000\": {\"frequency\": 6, \"value\": 609000}, \"613500\": {\"frequency\": 3, \"value\": 613500}, \"715500\": {\"frequency\": 1, \"value\": 715500}, \"256750\": {\"frequency\": 1, \"value\": 256750}, \"822000\": {\"frequency\": 3, \"value\": 822000}, \"649000\": {\"frequency\": 12, \"value\": 649000}, \"932990\": {\"frequency\": 1, \"value\": 932990}, \"223990\": {\"frequency\": 1, \"value\": 223990}, \"830200\": {\"frequency\": 1, \"value\": 830200}, \"172500\": {\"frequency\": 3, \"value\": 172500}, \"330490\": {\"frequency\": 1, \"value\": 330490}, \"273148\": {\"frequency\": 1, \"value\": 273148}, \"838400\": {\"frequency\": 1, \"value\": 838400}, \"649990\": {\"frequency\": 1, \"value\": 649990}, \"720001\": {\"frequency\": 1, \"value\": 720001}, \"2485000\": {\"frequency\": 1, \"value\": 2485000}, \"1267500\": {\"frequency\": 1, \"value\": 1267500}, \"543500\": {\"frequency\": 2, \"value\": 543500}, \"469775\": {\"frequency\": 1, \"value\": 469775}, \"650000\": {\"frequency\": 117, \"value\": 650000}, \"791000\": {\"frequency\": 2, \"value\": 791000}, \"346900\": {\"frequency\": 1, \"value\": 346900}, \"502550\": {\"frequency\": 1, \"value\": 502550}, \"863000\": {\"frequency\": 2, \"value\": 863000}, \"387865\": {\"frequency\": 1, \"value\": 387865}, \"559900\": {\"frequency\": 2, \"value\": 559900}, \"305950\": {\"frequency\": 1, \"value\": 305950}, \"240415\": {\"frequency\": 1, \"value\": 240415}, \"2100000\": {\"frequency\": 1, \"value\": 2100000}, \"759600\": {\"frequency\": 1, \"value\": 759600}, \"412450\": {\"frequency\": 1, \"value\": 412450}, \"289571\": {\"frequency\": 1, \"value\": 289571}, \"294700\": {\"frequency\": 1, \"value\": 294700}, \"674600\": {\"frequency\": 1, \"value\": 674600}, \"385500\": {\"frequency\": 1, \"value\": 385500}, \"371500\": {\"frequency\": 2, \"value\": 371500}, \"478000\": {\"frequency\": 13, \"value\": 478000}, \"1445000\": {\"frequency\": 2, \"value\": 1445000}, \"174900\": {\"frequency\": 1, \"value\": 174900}, \"1715000\": {\"frequency\": 2, \"value\": 1715000}, \"251700\": {\"frequency\": 1, \"value\": 251700}, \"797500\": {\"frequency\": 1, \"value\": 797500}, \"1851000\": {\"frequency\": 1, \"value\": 1851000}, \"494400\": {\"frequency\": 1, \"value\": 494400}, \"287200\": {\"frequency\": 1, \"value\": 287200}, \"535365\": {\"frequency\": 1, \"value\": 535365}, \"346950\": {\"frequency\": 2, \"value\": 346950}, \"199500\": {\"frequency\": 4, \"value\": 199500}, \"559950\": {\"frequency\": 7, \"value\": 559950}, \"1330000\": {\"frequency\": 2, \"value\": 1330000}, \"3635000\": {\"frequency\": 1, \"value\": 3635000}, \"412500\": {\"frequency\": 5, \"value\": 412500}, \"375950\": {\"frequency\": 1, \"value\": 375950}, \"158550\": {\"frequency\": 1, \"value\": 158550}, \"519000\": {\"frequency\": 10, \"value\": 519000}, \"265050\": {\"frequency\": 1, \"value\": 265050}, \"625500\": {\"frequency\": 1, \"value\": 625500}, \"732000\": {\"frequency\": 5, \"value\": 732000}, \"224097\": {\"frequency\": 1, \"value\": 224097}, \"428900\": {\"frequency\": 2, \"value\": 428900}, \"446950\": {\"frequency\": 1, \"value\": 446950}, \"379750\": {\"frequency\": 1, \"value\": 379750}, \"330600\": {\"frequency\": 1, \"value\": 330600}, \"362300\": {\"frequency\": 1, \"value\": 362300}, \"338800\": {\"frequency\": 1, \"value\": 338800}, \"256883\": {\"frequency\": 1, \"value\": 256883}, \"240500\": {\"frequency\": 2, \"value\": 240500}, \"988990\": {\"frequency\": 1, \"value\": 988990}, \"335620\": {\"frequency\": 1, \"value\": 335620}, \"2395000\": {\"frequency\": 1, \"value\": 2395000}, \"379770\": {\"frequency\": 1, \"value\": 379770}, \"289659\": {\"frequency\": 1, \"value\": 289659}, \"453500\": {\"frequency\": 5, \"value\": 453500}, \"560000\": {\"frequency\": 76, \"value\": 560000}, \"1288000\": {\"frequency\": 3, \"value\": 1288000}, \"504200\": {\"frequency\": 1, \"value\": 504200}, \"256900\": {\"frequency\": 1, \"value\": 256900}, \"773000\": {\"frequency\": 1, \"value\": 773000}, \"469900\": {\"frequency\": 2, \"value\": 469900}, \"986000\": {\"frequency\": 2, \"value\": 986000}, \"437400\": {\"frequency\": 1, \"value\": 437400}, \"387990\": {\"frequency\": 1, \"value\": 387990}, \"1199000\": {\"frequency\": 1, \"value\": 1199000}, \"124740\": {\"frequency\": 1, \"value\": 124740}, \"175003\": {\"frequency\": 1, \"value\": 175003}, \"281500\": {\"frequency\": 1, \"value\": 281500}, \"388000\": {\"frequency\": 8, \"value\": 388000}, \"406000\": {\"frequency\": 9, \"value\": 406000}, \"409000\": {\"frequency\": 9, \"value\": 409000}, \"494500\": {\"frequency\": 1, \"value\": 494500}, \"674725\": {\"frequency\": 1, \"value\": 674725}, \"601000\": {\"frequency\": 6, \"value\": 601000}, \"339100\": {\"frequency\": 1, \"value\": 339100}, \"601002\": {\"frequency\": 1, \"value\": 601002}, \"707500\": {\"frequency\": 2, \"value\": 707500}, \"814000\": {\"frequency\": 1, \"value\": 814000}, \"477000\": {\"frequency\": 9, \"value\": 477000}, \"330675\": {\"frequency\": 1, \"value\": 330675}, \"1105000\": {\"frequency\": 3, \"value\": 1105000}, \"256950\": {\"frequency\": 1, \"value\": 256950}, \"3075000\": {\"frequency\": 1, \"value\": 3075000}, \"307700\": {\"frequency\": 1, \"value\": 307700}, \"109500\": {\"frequency\": 1, \"value\": 109500}, \"112000\": {\"frequency\": 1, \"value\": 112000}, \"551870\": {\"frequency\": 1, \"value\": 551870}, \"216000\": {\"frequency\": 11, \"value\": 216000}, \"322500\": {\"frequency\": 9, \"value\": 322500}, \"429000\": {\"frequency\": 21, \"value\": 429000}, \"666570\": {\"frequency\": 1, \"value\": 666570}, \"535500\": {\"frequency\": 2, \"value\": 535500}, \"895950\": {\"frequency\": 1, \"value\": 895950}, \"642000\": {\"frequency\": 4, \"value\": 642000}, \"107000\": {\"frequency\": 2, \"value\": 107000}, \"338900\": {\"frequency\": 3, \"value\": 338900}, \"614905\": {\"frequency\": 1, \"value\": 614905}, \"855000\": {\"frequency\": 18, \"value\": 855000}, \"654500\": {\"frequency\": 1, \"value\": 654500}, \"629800\": {\"frequency\": 1, \"value\": 629800}, \"961500\": {\"frequency\": 1, \"value\": 961500}, \"297950\": {\"frequency\": 2, \"value\": 297950}, \"597157\": {\"frequency\": 1, \"value\": 597157}, \"1068000\": {\"frequency\": 1, \"value\": 1068000}, \"280400\": {\"frequency\": 1, \"value\": 280400}, \"355300\": {\"frequency\": 1, \"value\": 355300}, \"257000\": {\"frequency\": 19, \"value\": 257000}, \"213500\": {\"frequency\": 3, \"value\": 213500}, \"617450\": {\"frequency\": 1, \"value\": 617450}, \"469995\": {\"frequency\": 1, \"value\": 469995}, \"363500\": {\"frequency\": 2, \"value\": 363500}, \"470000\": {\"frequency\": 60, \"value\": 470000}, \"658600\": {\"frequency\": 1, \"value\": 658600}, \"420850\": {\"frequency\": 1, \"value\": 420850}, \"895990\": {\"frequency\": 1, \"value\": 895990}, \"502775\": {\"frequency\": 1, \"value\": 502775}, \"683000\": {\"frequency\": 3, \"value\": 683000}, \"796500\": {\"frequency\": 1, \"value\": 796500}, \"445434\": {\"frequency\": 1, \"value\": 445434}, \"789500\": {\"frequency\": 2, \"value\": 789500}, \"169500\": {\"frequency\": 2, \"value\": 169500}, \"1920000\": {\"frequency\": 2, \"value\": 1920000}, \"1395713\": {\"frequency\": 1, \"value\": 1395713}, \"338950\": {\"frequency\": 1, \"value\": 338950}, \"504750\": {\"frequency\": 1, \"value\": 504750}, \"85000\": {\"frequency\": 2, \"value\": 85000}, \"1289000\": {\"frequency\": 3, \"value\": 1289000}, \"298000\": {\"frequency\": 6, \"value\": 298000}, \"1415000\": {\"frequency\": 3, \"value\": 1415000}, \"404500\": {\"frequency\": 3, \"value\": 404500}, \"150550\": {\"frequency\": 1, \"value\": 150550}, \"511000\": {\"frequency\": 5, \"value\": 511000}, \"426500\": {\"frequency\": 3, \"value\": 426500}, \"1035292\": {\"frequency\": 1, \"value\": 1035292}, \"724000\": {\"frequency\": 1, \"value\": 724000}, \"462000\": {\"frequency\": 9, \"value\": 462000}, \"163500\": {\"frequency\": 2, \"value\": 163500}, \"625700\": {\"frequency\": 1, \"value\": 625700}, \"166950\": {\"frequency\": 1, \"value\": 166950}, \"937000\": {\"frequency\": 1, \"value\": 937000}, \"1518634\": {\"frequency\": 1, \"value\": 1518634}, \"379950\": {\"frequency\": 10, \"value\": 379950}, \"221000\": {\"frequency\": 9, \"value\": 221000}, \"1150000\": {\"frequency\": 28, \"value\": 1150000}, \"533000\": {\"frequency\": 8, \"value\": 533000}, \"338995\": {\"frequency\": 1, \"value\": 338995}, \"232500\": {\"frequency\": 3, \"value\": 232500}, \"285900\": {\"frequency\": 1, \"value\": 285900}, \"339000\": {\"frequency\": 18, \"value\": 339000}, \"535610\": {\"frequency\": 1, \"value\": 535610}, \"445500\": {\"frequency\": 3, \"value\": 445500}, \"601150\": {\"frequency\": 1, \"value\": 601150}, \"552000\": {\"frequency\": 7, \"value\": 552000}, \"92000\": {\"frequency\": 1, \"value\": 92000}, \"658500\": {\"frequency\": 2, \"value\": 658500}, \"606500\": {\"frequency\": 1, \"value\": 606500}, \"1698888\": {\"frequency\": 1, \"value\": 1698888}, \"639500\": {\"frequency\": 2, \"value\": 639500}, \"257100\": {\"frequency\": 1, \"value\": 257100}, \"207950\": {\"frequency\": 1, \"value\": 207950}, \"158800\": {\"frequency\": 1, \"value\": 158800}, \"1699000\": {\"frequency\": 1, \"value\": 1699000}, \"1084500\": {\"frequency\": 1, \"value\": 1084500}, \"470101\": {\"frequency\": 1, \"value\": 470101}, \"167000\": {\"frequency\": 3, \"value\": 167000}, \"1222500\": {\"frequency\": 1, \"value\": 1222500}, \"273500\": {\"frequency\": 5, \"value\": 273500}, \"898888\": {\"frequency\": 1, \"value\": 898888}, \"380000\": {\"frequency\": 93, \"value\": 380000}, \"355425\": {\"frequency\": 1, \"value\": 355425}, \"281700\": {\"frequency\": 1, \"value\": 281700}, \"3070000\": {\"frequency\": 1, \"value\": 3070000}, \"593000\": {\"frequency\": 3, \"value\": 593000}, \"289900\": {\"frequency\": 3, \"value\": 289900}, \"806000\": {\"frequency\": 2, \"value\": 806000}, \"726888\": {\"frequency\": 1, \"value\": 726888}, \"216180\": {\"frequency\": 1, \"value\": 216180}, \"527550\": {\"frequency\": 1, \"value\": 527550}, \"404600\": {\"frequency\": 1, \"value\": 404600}, \"442900\": {\"frequency\": 1, \"value\": 442900}, \"1268888\": {\"frequency\": 1, \"value\": 1268888}, \"511100\": {\"frequency\": 1, \"value\": 511100}, \"208000\": {\"frequency\": 13, \"value\": 208000}, \"855169\": {\"frequency\": 1, \"value\": 855169}, \"568450\": {\"frequency\": 1, \"value\": 568450}, \"1174660\": {\"frequency\": 1, \"value\": 1174660}, \"674950\": {\"frequency\": 2, \"value\": 674950}, \"421000\": {\"frequency\": 6, \"value\": 421000}, \"411500\": {\"frequency\": 3, \"value\": 411500}, \"527500\": {\"frequency\": 5, \"value\": 527500}, \"634000\": {\"frequency\": 2, \"value\": 634000}, \"856600\": {\"frequency\": 1, \"value\": 856600}, \"740500\": {\"frequency\": 1, \"value\": 740500}, \"587100\": {\"frequency\": 2, \"value\": 587100}, \"847000\": {\"frequency\": 2, \"value\": 847000}, \"482500\": {\"frequency\": 6, \"value\": 482500}, \"232603\": {\"frequency\": 1, \"value\": 232603}, \"658588\": {\"frequency\": 1, \"value\": 658588}, \"289950\": {\"frequency\": 16, \"value\": 289950}, \"1060000\": {\"frequency\": 8, \"value\": 1060000}, \"313200\": {\"frequency\": 1, \"value\": 313200}, \"396450\": {\"frequency\": 1, \"value\": 396450}, \"142500\": {\"frequency\": 2, \"value\": 142500}, \"343566\": {\"frequency\": 1, \"value\": 343566}, \"249000\": {\"frequency\": 26, \"value\": 249000}, \"355500\": {\"frequency\": 3, \"value\": 355500}, \"257200\": {\"frequency\": 1, \"value\": 257200}, \"1101000\": {\"frequency\": 1, \"value\": 1101000}, \"568500\": {\"frequency\": 3, \"value\": 568500}, \"928950\": {\"frequency\": 1, \"value\": 928950}, \"675000\": {\"frequency\": 71, \"value\": 675000}, \"419700\": {\"frequency\": 1, \"value\": 419700}, \"781500\": {\"frequency\": 1, \"value\": 781500}, \"982218\": {\"frequency\": 1, \"value\": 982218}, \"732350\": {\"frequency\": 1, \"value\": 732350}, \"396480\": {\"frequency\": 1, \"value\": 396480}, \"2196000\": {\"frequency\": 1, \"value\": 2196000}, \"330950\": {\"frequency\": 1, \"value\": 330950}, \"2125000\": {\"frequency\": 2, \"value\": 2125000}, \"183500\": {\"frequency\": 2, \"value\": 183500}, \"2641100\": {\"frequency\": 1, \"value\": 2641100}, \"508450\": {\"frequency\": 1, \"value\": 508450}, \"289999\": {\"frequency\": 2, \"value\": 289999}, \"290000\": {\"frequency\": 88, \"value\": 290000}, \"1755000\": {\"frequency\": 2, \"value\": 1755000}, \"396500\": {\"frequency\": 4, \"value\": 396500}, \"503000\": {\"frequency\": 10, \"value\": 503000}, \"199900\": {\"frequency\": 3, \"value\": 199900}, \"969950\": {\"frequency\": 1, \"value\": 969950}, \"494815\": {\"frequency\": 1, \"value\": 494815}, \"511200\": {\"frequency\": 1, \"value\": 511200}, \"802000\": {\"frequency\": 6, \"value\": 802000}, \"822500\": {\"frequency\": 3, \"value\": 822500}, \"363750\": {\"frequency\": 1, \"value\": 363750}, \"929000\": {\"frequency\": 2, \"value\": 929000}, \"216300\": {\"frequency\": 1, \"value\": 216300}, \"576750\": {\"frequency\": 1, \"value\": 576750}, \"118000\": {\"frequency\": 1, \"value\": 118000}, \"361000\": {\"frequency\": 10, \"value\": 361000}, \"224500\": {\"frequency\": 2, \"value\": 224500}, \"847093\": {\"frequency\": 1, \"value\": 847093}, \"884744\": {\"frequency\": 1, \"value\": 884744}, \"535800\": {\"frequency\": 1, \"value\": 535800}, \"711800\": {\"frequency\": 1, \"value\": 711800}, \"437500\": {\"frequency\": 12, \"value\": 437500}, \"311850\": {\"frequency\": 1, \"value\": 311850}, \"1568000\": {\"frequency\": 1, \"value\": 1568000}, \"2480000\": {\"frequency\": 1, \"value\": 2480000}, \"650500\": {\"frequency\": 3, \"value\": 650500}, \"503045\": {\"frequency\": 1, \"value\": 503045}, \"969990\": {\"frequency\": 1, \"value\": 969990}, \"757000\": {\"frequency\": 2, \"value\": 757000}, \"569900\": {\"frequency\": 1, \"value\": 569900}, \"863500\": {\"frequency\": 1, \"value\": 863500}, \"199950\": {\"frequency\": 14, \"value\": 199950}, \"970000\": {\"frequency\": 16, \"value\": 970000}, \"1035480\": {\"frequency\": 1, \"value\": 1035480}, \"2466350\": {\"frequency\": 1, \"value\": 2466350}, \"412950\": {\"frequency\": 1, \"value\": 412950}, \"159000\": {\"frequency\": 2, \"value\": 159000}, \"333700\": {\"frequency\": 1, \"value\": 333700}, \"404763\": {\"frequency\": 1, \"value\": 404763}, \"265500\": {\"frequency\": 2, \"value\": 265500}, \"372000\": {\"frequency\": 15, \"value\": 372000}, \"1598000\": {\"frequency\": 1, \"value\": 1598000}, \"478500\": {\"frequency\": 1, \"value\": 478500}, \"489500\": {\"frequency\": 2, \"value\": 489500}, \"584999\": {\"frequency\": 1, \"value\": 584999}, \"585000\": {\"frequency\": 72, \"value\": 585000}, \"609500\": {\"frequency\": 1, \"value\": 609500}, \"691500\": {\"frequency\": 1, \"value\": 691500}, \"798000\": {\"frequency\": 4, \"value\": 798000}, \"175409\": {\"frequency\": 1, \"value\": 175409}, \"199988\": {\"frequency\": 1, \"value\": 199988}, \"928990\": {\"frequency\": 1, \"value\": 928990}, \"199990\": {\"frequency\": 3, \"value\": 199990}, \"1011000\": {\"frequency\": 1, \"value\": 1011000}, \"782900\": {\"frequency\": 1, \"value\": 782900}, \"552250\": {\"frequency\": 1, \"value\": 552250}, \"707900\": {\"frequency\": 1, \"value\": 707900}, \"199999\": {\"frequency\": 1, \"value\": 199999}, \"200000\": {\"frequency\": 55, \"value\": 200000}, \"716000\": {\"frequency\": 5, \"value\": 716000}, \"475300\": {\"frequency\": 1, \"value\": 475300}, \"306500\": {\"frequency\": 7, \"value\": 306500}, \"340000\": {\"frequency\": 103, \"value\": 340000}, \"413000\": {\"frequency\": 5, \"value\": 413000}, \"339275\": {\"frequency\": 1, \"value\": 339275}, \"519500\": {\"frequency\": 2, \"value\": 519500}, \"879950\": {\"frequency\": 3, \"value\": 879950}, \"1650000\": {\"frequency\": 13, \"value\": 1650000}, \"527700\": {\"frequency\": 2, \"value\": 527700}, \"436110\": {\"frequency\": 1, \"value\": 436110}, \"839000\": {\"frequency\": 4, \"value\": 839000}, \"535900\": {\"frequency\": 1, \"value\": 535900}, \"716125\": {\"frequency\": 1, \"value\": 716125}, \"1240415\": {\"frequency\": 1, \"value\": 1240415}, \"1052000\": {\"frequency\": 2, \"value\": 1052000}, \"1370000\": {\"frequency\": 3, \"value\": 1370000}, \"734990\": {\"frequency\": 1, \"value\": 734990}, \"159075\": {\"frequency\": 1, \"value\": 159075}, \"339300\": {\"frequency\": 1, \"value\": 339300}, \"261350\": {\"frequency\": 1, \"value\": 261350}, \"494950\": {\"frequency\": 1, \"value\": 494950}, \"1265000\": {\"frequency\": 4, \"value\": 1265000}, \"601450\": {\"frequency\": 1, \"value\": 601450}, \"347500\": {\"frequency\": 10, \"value\": 347500}, \"118125\": {\"frequency\": 1, \"value\": 118125}, \"454000\": {\"frequency\": 8, \"value\": 454000}, \"826600\": {\"frequency\": 1, \"value\": 826600}, \"626000\": {\"frequency\": 7, \"value\": 626000}, \"667000\": {\"frequency\": 9, \"value\": 667000}, \"585083\": {\"frequency\": 1, \"value\": 585083}, \"159100\": {\"frequency\": 1, \"value\": 159100}, \"1338750\": {\"frequency\": 1, \"value\": 1338750}, \"880000\": {\"frequency\": 20, \"value\": 880000}, \"552321\": {\"frequency\": 1, \"value\": 552321}, \"396675\": {\"frequency\": 1, \"value\": 396675}, \"445830\": {\"frequency\": 1, \"value\": 445830}, \"1093000\": {\"frequency\": 1, \"value\": 1093000}, \"523500\": {\"frequency\": 1, \"value\": 523500}, \"789900\": {\"frequency\": 1, \"value\": 789900}, \"445838\": {\"frequency\": 1, \"value\": 445838}, \"282000\": {\"frequency\": 14, \"value\": 282000}, \"1583000\": {\"frequency\": 1, \"value\": 1583000}, \"642450\": {\"frequency\": 1, \"value\": 642450}, \"494995\": {\"frequency\": 1, \"value\": 494995}, \"388500\": {\"frequency\": 3, \"value\": 388500}, \"699800\": {\"frequency\": 1, \"value\": 699800}, \"672324\": {\"frequency\": 1, \"value\": 672324}, \"601500\": {\"frequency\": 1, \"value\": 601500}, \"576925\": {\"frequency\": 1, \"value\": 576925}, \"708000\": {\"frequency\": 4, \"value\": 708000}, \"1142000\": {\"frequency\": 1, \"value\": 1142000}, \"1945000\": {\"frequency\": 1, \"value\": 1945000}, \"255900\": {\"frequency\": 1, \"value\": 255900}, \"1027500\": {\"frequency\": 1, \"value\": 1027500}, \"110000\": {\"frequency\": 8, \"value\": 110000}, \"598600\": {\"frequency\": 1, \"value\": 598600}, \"470450\": {\"frequency\": 1, \"value\": 470450}, \"413107\": {\"frequency\": 1, \"value\": 413107}, \"216500\": {\"frequency\": 5, \"value\": 216500}, \"323000\": {\"frequency\": 16, \"value\": 323000}, \"429300\": {\"frequency\": 1, \"value\": 429300}, \"429500\": {\"frequency\": 1, \"value\": 429500}, \"200126\": {\"frequency\": 1, \"value\": 200126}, \"536000\": {\"frequency\": 11, \"value\": 536000}, \"382880\": {\"frequency\": 1, \"value\": 382880}, \"232900\": {\"frequency\": 1, \"value\": 232900}, \"584950\": {\"frequency\": 1, \"value\": 584950}, \"183750\": {\"frequency\": 2, \"value\": 183750}, \"1480000\": {\"frequency\": 3, \"value\": 1480000}, \"749000\": {\"frequency\": 9, \"value\": 749000}, \"807500\": {\"frequency\": 1, \"value\": 807500}, \"699850\": {\"frequency\": 1, \"value\": 699850}, \"367950\": {\"frequency\": 2, \"value\": 367950}, \"191950\": {\"frequency\": 1, \"value\": 191950}, \"962000\": {\"frequency\": 2, \"value\": 962000}, \"331000\": {\"frequency\": 6, \"value\": 331000}, \"298450\": {\"frequency\": 1, \"value\": 298450}, \"437718\": {\"frequency\": 1, \"value\": 437718}, \"151000\": {\"frequency\": 2, \"value\": 151000}, \"366500\": {\"frequency\": 1, \"value\": 366500}, \"257500\": {\"frequency\": 10, \"value\": 257500}, \"617950\": {\"frequency\": 1, \"value\": 617950}, \"364000\": {\"frequency\": 9, \"value\": 364000}, \"2450000\": {\"frequency\": 4, \"value\": 2450000}, \"436800\": {\"frequency\": 1, \"value\": 436800}, \"470500\": {\"frequency\": 2, \"value\": 470500}, \"577000\": {\"frequency\": 11, \"value\": 577000}, \"1660000\": {\"frequency\": 1, \"value\": 1660000}, \"683500\": {\"frequency\": 1, \"value\": 683500}, \"402200\": {\"frequency\": 1, \"value\": 402200}, \"790000\": {\"frequency\": 33, \"value\": 790000}, \"382888\": {\"frequency\": 1, \"value\": 382888}, \"388598\": {\"frequency\": 1, \"value\": 388598}, \"1003000\": {\"frequency\": 3, \"value\": 1003000}, \"1532500\": {\"frequency\": 1, \"value\": 1532500}, \"290300\": {\"frequency\": 1, \"value\": 290300}, \"445950\": {\"frequency\": 1, \"value\": 445950}, \"192000\": {\"frequency\": 3, \"value\": 192000}, \"544000\": {\"frequency\": 5, \"value\": 544000}, \"298500\": {\"frequency\": 2, \"value\": 298500}, \"405000\": {\"frequency\": 79, \"value\": 405000}, \"579500\": {\"frequency\": 1, \"value\": 579500}, \"511500\": {\"frequency\": 1, \"value\": 511500}, \"309620\": {\"frequency\": 1, \"value\": 309620}, \"208400\": {\"frequency\": 1, \"value\": 208400}, \"314900\": {\"frequency\": 1, \"value\": 314900}, \"2271150\": {\"frequency\": 1, \"value\": 2271150}, \"831000\": {\"frequency\": 3, \"value\": 831000}, \"445700\": {\"frequency\": 1, \"value\": 445700}, \"486940\": {\"frequency\": 1, \"value\": 486940}, \"2998000\": {\"frequency\": 1, \"value\": 2998000}, \"273950\": {\"frequency\": 1, \"value\": 273950}, \"378800\": {\"frequency\": 1, \"value\": 378800}, \"462370\": {\"frequency\": 1, \"value\": 462370}, \"126500\": {\"frequency\": 1, \"value\": 126500}, \"282150\": {\"frequency\": 1, \"value\": 282150}, \"233000\": {\"frequency\": 9, \"value\": 233000}, \"926300\": {\"frequency\": 1, \"value\": 926300}, \"593450\": {\"frequency\": 1, \"value\": 593450}, \"339500\": {\"frequency\": 1, \"value\": 339500}, \"573300\": {\"frequency\": 1, \"value\": 573300}, \"699950\": {\"frequency\": 7, \"value\": 699950}, \"446000\": {\"frequency\": 9, \"value\": 446000}, \"552500\": {\"frequency\": 10, \"value\": 552500}, \"454200\": {\"frequency\": 1, \"value\": 454200}, \"609850\": {\"frequency\": 1, \"value\": 609850}, \"1379900\": {\"frequency\": 1, \"value\": 1379900}, \"2920000\": {\"frequency\": 1, \"value\": 2920000}, \"1340000\": {\"frequency\": 3, \"value\": 1340000}, \"511555\": {\"frequency\": 1, \"value\": 511555}, \"413252\": {\"frequency\": 1, \"value\": 413252}, \"314950\": {\"frequency\": 8, \"value\": 314950}, \"1085000\": {\"frequency\": 8, \"value\": 1085000}, \"216650\": {\"frequency\": 2, \"value\": 216650}, \"167500\": {\"frequency\": 1, \"value\": 167500}, \"527950\": {\"frequency\": 1, \"value\": 527950}, \"1298000\": {\"frequency\": 2, \"value\": 1298000}, \"182200\": {\"frequency\": 1, \"value\": 182200}, \"314963\": {\"frequency\": 1, \"value\": 314963}, \"790100\": {\"frequency\": 1, \"value\": 790100}, \"487000\": {\"frequency\": 9, \"value\": 487000}, \"437850\": {\"frequency\": 1, \"value\": 437850}, \"593500\": {\"frequency\": 2, \"value\": 593500}, \"699999\": {\"frequency\": 2, \"value\": 699999}, \"618080\": {\"frequency\": 1, \"value\": 618080}, \"253200\": {\"frequency\": 1, \"value\": 253200}, \"241250\": {\"frequency\": 1, \"value\": 241250}, \"396900\": {\"frequency\": 1, \"value\": 396900}, \"913000\": {\"frequency\": 2, \"value\": 913000}, \"609900\": {\"frequency\": 1, \"value\": 609900}, \"355950\": {\"frequency\": 1, \"value\": 355950}, \"1126000\": {\"frequency\": 1, \"value\": 1126000}, \"487028\": {\"frequency\": 1, \"value\": 487028}, \"1339000\": {\"frequency\": 3, \"value\": 1339000}, \"315001\": {\"frequency\": 1, \"value\": 315001}, \"1636000\": {\"frequency\": 1, \"value\": 1636000}, \"421500\": {\"frequency\": 2, \"value\": 421500}, \"650880\": {\"frequency\": 1, \"value\": 650880}, \"1112000\": {\"frequency\": 1, \"value\": 1112000}, \"454280\": {\"frequency\": 1, \"value\": 454280}, \"635500\": {\"frequency\": 1, \"value\": 635500}, \"484998\": {\"frequency\": 1, \"value\": 484998}, \"1387800\": {\"frequency\": 1, \"value\": 1387800}, \"143000\": {\"frequency\": 1, \"value\": 143000}, \"249500\": {\"frequency\": 4, \"value\": 249500}, \"609950\": {\"frequency\": 1, \"value\": 609950}, \"593567\": {\"frequency\": 1, \"value\": 593567}, \"356000\": {\"frequency\": 14, \"value\": 356000}, \"5350000\": {\"frequency\": 1, \"value\": 5350000}, \"462500\": {\"frequency\": 6, \"value\": 462500}, \"662000\": {\"frequency\": 1, \"value\": 662000}, \"569000\": {\"frequency\": 9, \"value\": 569000}, \"879900\": {\"frequency\": 1, \"value\": 879900}, \"265900\": {\"frequency\": 1, \"value\": 265900}, \"782000\": {\"frequency\": 8, \"value\": 782000}, \"301000\": {\"frequency\": 6, \"value\": 301000}, \"280000\": {\"frequency\": 110, \"value\": 280000}, \"224950\": {\"frequency\": 2, \"value\": 224950}, \"995000\": {\"frequency\": 11, \"value\": 995000}, \"1208000\": {\"frequency\": 3, \"value\": 1208000}, \"290500\": {\"frequency\": 2, \"value\": 290500}, \"726000\": {\"frequency\": 3, \"value\": 726000}, \"397000\": {\"frequency\": 16, \"value\": 397000}, \"509900\": {\"frequency\": 3, \"value\": 509900}, \"298700\": {\"frequency\": 1, \"value\": 298700}, \"224975\": {\"frequency\": 1, \"value\": 224975}, \"610000\": {\"frequency\": 47, \"value\": 610000}, \"852600\": {\"frequency\": 1, \"value\": 852600}, \"716500\": {\"frequency\": 4, \"value\": 716500}, \"462550\": {\"frequency\": 1, \"value\": 462550}, \"823000\": {\"frequency\": 3, \"value\": 823000}, \"364250\": {\"frequency\": 1, \"value\": 364250}, \"519900\": {\"frequency\": 2, \"value\": 519900}, \"265950\": {\"frequency\": 2, \"value\": 265950}, \"265953\": {\"frequency\": 1, \"value\": 265953}, \"585444\": {\"frequency\": 1, \"value\": 585444}, \"888550\": {\"frequency\": 1, \"value\": 888550}, \"429800\": {\"frequency\": 1, \"value\": 429800}, \"754300\": {\"frequency\": 1, \"value\": 754300}, \"331500\": {\"frequency\": 3, \"value\": 331500}, \"438000\": {\"frequency\": 17, \"value\": 438000}, \"789800\": {\"frequency\": 1, \"value\": 789800}, \"544500\": {\"frequency\": 2, \"value\": 544500}, \"651000\": {\"frequency\": 5, \"value\": 651000}, \"208633\": {\"frequency\": 1, \"value\": 208633}, \"814842\": {\"frequency\": 1, \"value\": 814842}, \"552700\": {\"frequency\": 1, \"value\": 552700}, \"864000\": {\"frequency\": 4, \"value\": 864000}, \"1680000\": {\"frequency\": 7, \"value\": 1680000}, \"200450\": {\"frequency\": 1, \"value\": 200450}, \"1169000\": {\"frequency\": 2, \"value\": 1169000}, \"970500\": {\"frequency\": 1, \"value\": 970500}, \"306950\": {\"frequency\": 1, \"value\": 306950}, \"311100\": {\"frequency\": 1, \"value\": 311100}, \"667400\": {\"frequency\": 1, \"value\": 667400}, \"486700\": {\"frequency\": 1, \"value\": 486700}, \"618250\": {\"frequency\": 1, \"value\": 618250}, \"2510000\": {\"frequency\": 1, \"value\": 2510000}, \"519950\": {\"frequency\": 2, \"value\": 519950}, \"1290000\": {\"frequency\": 2, \"value\": 1290000}, \"241000\": {\"frequency\": 10, \"value\": 241000}, \"372500\": {\"frequency\": 8, \"value\": 372500}, \"937750\": {\"frequency\": 1, \"value\": 937750}, \"479000\": {\"frequency\": 16, \"value\": 479000}, \"352900\": {\"frequency\": 1, \"value\": 352900}, \"692000\": {\"frequency\": 2, \"value\": 692000}, \"286000\": {\"frequency\": 14, \"value\": 286000}, \"798500\": {\"frequency\": 1, \"value\": 798500}, \"905000\": {\"frequency\": 14, \"value\": 905000}, \"731100\": {\"frequency\": 1, \"value\": 731100}, \"446250\": {\"frequency\": 1, \"value\": 446250}, \"642860\": {\"frequency\": 1, \"value\": 642860}, \"347950\": {\"frequency\": 1, \"value\": 347950}, \"1118000\": {\"frequency\": 1, \"value\": 1118000}, \"869000\": {\"frequency\": 3, \"value\": 869000}, \"454450\": {\"frequency\": 1, \"value\": 454450}, \"405300\": {\"frequency\": 1, \"value\": 405300}, \"519990\": {\"frequency\": 1, \"value\": 519990}, \"307000\": {\"frequency\": 13, \"value\": 307000}, \"494900\": {\"frequency\": 1, \"value\": 494900}, \"519995\": {\"frequency\": 1, \"value\": 519995}, \"413500\": {\"frequency\": 1, \"value\": 413500}, \"520000\": {\"frequency\": 55, \"value\": 520000}, \"1452000\": {\"frequency\": 1, \"value\": 1452000}, \"626500\": {\"frequency\": 1, \"value\": 626500}, \"552775\": {\"frequency\": 1, \"value\": 552775}, \"323400\": {\"frequency\": 1, \"value\": 323400}, \"463500\": {\"frequency\": 1, \"value\": 463500}, \"274250\": {\"frequency\": 1, \"value\": 274250}, \"429900\": {\"frequency\": 8, \"value\": 429900}, \"434400\": {\"frequency\": 1, \"value\": 434400}, \"1970000\": {\"frequency\": 1, \"value\": 1970000}, \"487250\": {\"frequency\": 1, \"value\": 487250}, \"1052500\": {\"frequency\": 1, \"value\": 1052500}, \"135000\": {\"frequency\": 10, \"value\": 135000}, \"241500\": {\"frequency\": 3, \"value\": 241500}, \"348000\": {\"frequency\": 16, \"value\": 348000}, \"595888\": {\"frequency\": 1, \"value\": 595888}, \"814950\": {\"frequency\": 1, \"value\": 814950}, \"561000\": {\"frequency\": 8, \"value\": 561000}, \"487275\": {\"frequency\": 1, \"value\": 487275}, \"667500\": {\"frequency\": 4, \"value\": 667500}, \"774000\": {\"frequency\": 2, \"value\": 774000}, \"1665000\": {\"frequency\": 1, \"value\": 1665000}, \"892500\": {\"frequency\": 1, \"value\": 892500}, \"987000\": {\"frequency\": 1, \"value\": 987000}, \"413565\": {\"frequency\": 1, \"value\": 413565}, \"429950\": {\"frequency\": 8, \"value\": 429950}, \"1200000\": {\"frequency\": 26, \"value\": 1200000}, \"712000\": {\"frequency\": 8, \"value\": 712000}, \"282500\": {\"frequency\": 4, \"value\": 282500}, \"524950\": {\"frequency\": 4, \"value\": 524950}, \"389000\": {\"frequency\": 21, \"value\": 389000}, \"337900\": {\"frequency\": 1, \"value\": 337900}, \"315275\": {\"frequency\": 1, \"value\": 315275}, \"495500\": {\"frequency\": 3, \"value\": 495500}, \"282510\": {\"frequency\": 1, \"value\": 282510}, \"602000\": {\"frequency\": 8, \"value\": 602000}, \"1295000\": {\"frequency\": 8, \"value\": 1295000}, \"298900\": {\"frequency\": 2, \"value\": 298900}, \"815000\": {\"frequency\": 24, \"value\": 815000}, \"716100\": {\"frequency\": 1, \"value\": 716100}, \"356250\": {\"frequency\": 1, \"value\": 356250}, \"921500\": {\"frequency\": 2, \"value\": 921500}, \"257950\": {\"frequency\": 1, \"value\": 257950}, \"208800\": {\"frequency\": 1, \"value\": 208800}, \"854000\": {\"frequency\": 1, \"value\": 854000}, \"470950\": {\"frequency\": 1, \"value\": 470950}, \"217000\": {\"frequency\": 11, \"value\": 217000}, \"577450\": {\"frequency\": 1, \"value\": 577450}, \"323500\": {\"frequency\": 1, \"value\": 323500}, \"339888\": {\"frequency\": 2, \"value\": 339888}, \"822600\": {\"frequency\": 1, \"value\": 822600}, \"536500\": {\"frequency\": 3, \"value\": 536500}, \"225205\": {\"frequency\": 1, \"value\": 225205}, \"327200\": {\"frequency\": 1, \"value\": 327200}, \"643000\": {\"frequency\": 4, \"value\": 643000}, \"643002\": {\"frequency\": 1, \"value\": 643002}, \"339900\": {\"frequency\": 6, \"value\": 339900}, \"290750\": {\"frequency\": 1, \"value\": 290750}, \"856000\": {\"frequency\": 3, \"value\": 856000}, \"279200\": {\"frequency\": 1, \"value\": 279200}, \"552900\": {\"frequency\": 1, \"value\": 552900}, \"235000\": {\"frequency\": 81, \"value\": 235000}, \"298950\": {\"frequency\": 1, \"value\": 298950}, \"307150\": {\"frequency\": 1, \"value\": 307150}, \"258000\": {\"frequency\": 15, \"value\": 258000}, \"247800\": {\"frequency\": 1, \"value\": 247800}, \"744500\": {\"frequency\": 1, \"value\": 744500}, \"364500\": {\"frequency\": 3, \"value\": 364500}, \"1054712\": {\"frequency\": 1, \"value\": 1054712}, \"724950\": {\"frequency\": 4, \"value\": 724950}, \"471000\": {\"frequency\": 11, \"value\": 471000}, \"471001\": {\"frequency\": 1, \"value\": 471001}, \"577500\": {\"frequency\": 5, \"value\": 577500}, \"348125\": {\"frequency\": 1, \"value\": 348125}, \"479200\": {\"frequency\": 1, \"value\": 479200}, \"421200\": {\"frequency\": 1, \"value\": 421200}, \"790500\": {\"frequency\": 1, \"value\": 790500}, \"438950\": {\"frequency\": 1, \"value\": 438950}, \"2945000\": {\"frequency\": 1, \"value\": 2945000}, \"456700\": {\"frequency\": 1, \"value\": 456700}, \"389100\": {\"frequency\": 1, \"value\": 389100}, \"318200\": {\"frequency\": 1, \"value\": 318200}, \"339950\": {\"frequency\": 17, \"value\": 339950}, \"1110000\": {\"frequency\": 7, \"value\": 1110000}, \"1209000\": {\"frequency\": 1, \"value\": 1209000}, \"446450\": {\"frequency\": 1, \"value\": 446450}, \"192500\": {\"frequency\": 5, \"value\": 192500}, \"282613\": {\"frequency\": 1, \"value\": 282613}, \"299000\": {\"frequency\": 48, \"value\": 299000}, \"732500\": {\"frequency\": 1, \"value\": 732500}, \"405500\": {\"frequency\": 2, \"value\": 405500}, \"1789950\": {\"frequency\": 1, \"value\": 1789950}, \"260600\": {\"frequency\": 1, \"value\": 260600}, \"512000\": {\"frequency\": 5, \"value\": 512000}, \"256000\": {\"frequency\": 8, \"value\": 256000}, \"618500\": {\"frequency\": 1, \"value\": 618500}, \"725000\": {\"frequency\": 62, \"value\": 725000}, \"626700\": {\"frequency\": 1, \"value\": 626700}, \"223000\": {\"frequency\": 10, \"value\": 223000}, \"938000\": {\"frequency\": 2, \"value\": 938000}, \"531800\": {\"frequency\": 1, \"value\": 531800}, \"430100\": {\"frequency\": 1, \"value\": 430100}, \"339989\": {\"frequency\": 1, \"value\": 339989}, \"380950\": {\"frequency\": 2, \"value\": 380950}, \"2175000\": {\"frequency\": 1, \"value\": 2175000}, \"339995\": {\"frequency\": 1, \"value\": 339995}, \"233500\": {\"frequency\": 2, \"value\": 233500}, \"798750\": {\"frequency\": 1, \"value\": 798750}, \"512031\": {\"frequency\": 1, \"value\": 512031}, \"544800\": {\"frequency\": 1, \"value\": 544800}, \"446500\": {\"frequency\": 2, \"value\": 446500}, \"553000\": {\"frequency\": 6, \"value\": 553000}, \"249900\": {\"frequency\": 11, \"value\": 249900}, \"766000\": {\"frequency\": 1, \"value\": 766000}, \"428040\": {\"frequency\": 1, \"value\": 428040}, \"872500\": {\"frequency\": 2, \"value\": 872500}, \"208950\": {\"frequency\": 1, \"value\": 208950}, \"979000\": {\"frequency\": 2, \"value\": 979000}, \"315450\": {\"frequency\": 1, \"value\": 315450}, \"1085500\": {\"frequency\": 1, \"value\": 1085500}, \"168000\": {\"frequency\": 5, \"value\": 168000}, \"3100000\": {\"frequency\": 3, \"value\": 3100000}, \"274500\": {\"frequency\": 2, \"value\": 274500}, \"214000\": {\"frequency\": 5, \"value\": 214000}, \"634950\": {\"frequency\": 1, \"value\": 634950}, \"864327\": {\"frequency\": 1, \"value\": 864327}, \"381000\": {\"frequency\": 10, \"value\": 381000}, \"268300\": {\"frequency\": 1, \"value\": 268300}, \"536650\": {\"frequency\": 1, \"value\": 536650}, \"487500\": {\"frequency\": 4, \"value\": 487500}, \"594000\": {\"frequency\": 6, \"value\": 594000}, \"713400\": {\"frequency\": 1, \"value\": 713400}, \"290900\": {\"frequency\": 1, \"value\": 290900}, \"807000\": {\"frequency\": 1, \"value\": 807000}, \"249950\": {\"frequency\": 13, \"value\": 249950}, \"405600\": {\"frequency\": 1, \"value\": 405600}, \"307300\": {\"frequency\": 1, \"value\": 307300}, \"667750\": {\"frequency\": 1, \"value\": 667750}, \"209000\": {\"frequency\": 7, \"value\": 209000}, \"205500\": {\"frequency\": 2, \"value\": 205500}, \"315500\": {\"frequency\": 4, \"value\": 315500}, \"422000\": {\"frequency\": 6, \"value\": 422000}, \"445800\": {\"frequency\": 2, \"value\": 445800}, \"479349\": {\"frequency\": 1, \"value\": 479349}, \"635000\": {\"frequency\": 58, \"value\": 635000}, \"890900\": {\"frequency\": 1, \"value\": 890900}, \"176250\": {\"frequency\": 1, \"value\": 176250}, \"741500\": {\"frequency\": 1, \"value\": 741500}, \"438400\": {\"frequency\": 1, \"value\": 438400}, \"389250\": {\"frequency\": 1, \"value\": 389250}, \"749700\": {\"frequency\": 1, \"value\": 749700}, \"725126\": {\"frequency\": 1, \"value\": 725126}, \"815241\": {\"frequency\": 1, \"value\": 815241}, \"397450\": {\"frequency\": 1, \"value\": 397450}, \"2298000\": {\"frequency\": 1, \"value\": 2298000}, \"515700\": {\"frequency\": 1, \"value\": 515700}, \"890776\": {\"frequency\": 1, \"value\": 890776}, \"356500\": {\"frequency\": 2, \"value\": 356500}, \"1699990\": {\"frequency\": 1, \"value\": 1699990}, \"383001\": {\"frequency\": 1, \"value\": 383001}, \"463000\": {\"frequency\": 12, \"value\": 463000}, \"1442500\": {\"frequency\": 2, \"value\": 1442500}, \"569500\": {\"frequency\": 3, \"value\": 569500}, \"929950\": {\"frequency\": 1, \"value\": 929950}, \"1700000\": {\"frequency\": 9, \"value\": 1700000}, \"487585\": {\"frequency\": 1, \"value\": 487585}, \"782500\": {\"frequency\": 2, \"value\": 782500}, \"266950\": {\"frequency\": 1, \"value\": 266950}, \"370900\": {\"frequency\": 1, \"value\": 370900}, \"889000\": {\"frequency\": 4, \"value\": 889000}, \"284700\": {\"frequency\": 1, \"value\": 284700}, \"691100\": {\"frequency\": 1, \"value\": 691100}, \"995500\": {\"frequency\": 1, \"value\": 995500}, \"261490\": {\"frequency\": 1, \"value\": 261490}, \"331950\": {\"frequency\": 1, \"value\": 331950}, \"536751\": {\"frequency\": 1, \"value\": 536751}, \"487600\": {\"frequency\": 1, \"value\": 487600}, \"280017\": {\"frequency\": 1, \"value\": 280017}, \"184500\": {\"frequency\": 2, \"value\": 184500}, \"734200\": {\"frequency\": 1, \"value\": 734200}, \"544950\": {\"frequency\": 1, \"value\": 544950}, \"291000\": {\"frequency\": 11, \"value\": 291000}, \"397500\": {\"frequency\": 13, \"value\": 397500}, \"704000\": {\"frequency\": 3, \"value\": 704000}, \"1108000\": {\"frequency\": 1, \"value\": 1108000}, \"1989000\": {\"frequency\": 1, \"value\": 1989000}, \"1540000\": {\"frequency\": 1, \"value\": 1540000}, \"921800\": {\"frequency\": 1, \"value\": 921800}, \"221900\": {\"frequency\": 2, \"value\": 221900}, \"413900\": {\"frequency\": 1, \"value\": 413900}, \"1102030\": {\"frequency\": 1, \"value\": 1102030}, \"930000\": {\"frequency\": 14, \"value\": 930000}, \"1691000\": {\"frequency\": 1, \"value\": 1691000}, \"998800\": {\"frequency\": 1, \"value\": 998800}, \"1088000\": {\"frequency\": 2, \"value\": 1088000}, \"323800\": {\"frequency\": 1, \"value\": 323800}, \"190500\": {\"frequency\": 2, \"value\": 190500}, \"225500\": {\"frequency\": 3, \"value\": 225500}, \"332000\": {\"frequency\": 13, \"value\": 332000}, \"738000\": {\"frequency\": 6, \"value\": 738000}, \"381156\": {\"frequency\": 1, \"value\": 381156}, \"509990\": {\"frequency\": 1, \"value\": 509990}, \"233703\": {\"frequency\": 1, \"value\": 233703}, \"545000\": {\"frequency\": 62, \"value\": 545000}, \"583800\": {\"frequency\": 1, \"value\": 583800}, \"471275\": {\"frequency\": 1, \"value\": 471275}, \"651500\": {\"frequency\": 1, \"value\": 651500}, \"276200\": {\"frequency\": 2, \"value\": 276200}, \"758000\": {\"frequency\": 1, \"value\": 758000}, \"372977\": {\"frequency\": 1, \"value\": 372977}, \"299250\": {\"frequency\": 1, \"value\": 299250}, \"864500\": {\"frequency\": 1, \"value\": 864500}, \"971000\": {\"frequency\": 1, \"value\": 971000}, \"307450\": {\"frequency\": 1, \"value\": 307450}, \"159995\": {\"frequency\": 1, \"value\": 159995}, \"1184000\": {\"frequency\": 1, \"value\": 1184000}, \"258305\": {\"frequency\": 1, \"value\": 258305}, \"266500\": {\"frequency\": 2, \"value\": 266500}, \"676101\": {\"frequency\": 1, \"value\": 676101}, \"364808\": {\"frequency\": 1, \"value\": 364808}, \"405100\": {\"frequency\": 2, \"value\": 405100}, \"274700\": {\"frequency\": 1, \"value\": 274700}, \"630000\": {\"frequency\": 49, \"value\": 630000}, \"839950\": {\"frequency\": 1, \"value\": 839950}, \"1610000\": {\"frequency\": 4, \"value\": 1610000}, \"1975000\": {\"frequency\": 1, \"value\": 1975000}, \"1151250\": {\"frequency\": 1, \"value\": 1151250}, \"692500\": {\"frequency\": 5, \"value\": 692500}, \"799000\": {\"frequency\": 17, \"value\": 799000}, \"762300\": {\"frequency\": 1, \"value\": 762300}, \"851500\": {\"frequency\": 1, \"value\": 851500}, \"1012000\": {\"frequency\": 1, \"value\": 1012000}, \"403504\": {\"frequency\": 1, \"value\": 403504}, \"348450\": {\"frequency\": 1, \"value\": 348450}, \"454950\": {\"frequency\": 1, \"value\": 454950}, \"1225000\": {\"frequency\": 15, \"value\": 1225000}, \"135900\": {\"frequency\": 1, \"value\": 135900}, \"307500\": {\"frequency\": 2, \"value\": 307500}, \"872750\": {\"frequency\": 1, \"value\": 872750}, \"414000\": {\"frequency\": 6, \"value\": 414000}, \"1605000\": {\"frequency\": 1, \"value\": 1605000}, \"1544500\": {\"frequency\": 1, \"value\": 1544500}, \"839990\": {\"frequency\": 1, \"value\": 839990}, \"627000\": {\"frequency\": 7, \"value\": 627000}, \"329780\": {\"frequency\": 1, \"value\": 329780}, \"268500\": {\"frequency\": 7, \"value\": 268500}, \"733500\": {\"frequency\": 1, \"value\": 733500}, \"2888000\": {\"frequency\": 1, \"value\": 2888000}, \"1164000\": {\"frequency\": 1, \"value\": 1164000}, \"1070000\": {\"frequency\": 7, \"value\": 1070000}, \"332100\": {\"frequency\": 1, \"value\": 332100}, \"282950\": {\"frequency\": 1, \"value\": 282950}, \"710200\": {\"frequency\": 1, \"value\": 710200}, \"438600\": {\"frequency\": 1, \"value\": 438600}, \"1199500\": {\"frequency\": 1, \"value\": 1199500}, \"643403\": {\"frequency\": 1, \"value\": 643403}, \"446800\": {\"frequency\": 1, \"value\": 446800}, \"348500\": {\"frequency\": 3, \"value\": 348500}, \"535950\": {\"frequency\": 1, \"value\": 535950}, \"250200\": {\"frequency\": 1, \"value\": 250200}, \"451300\": {\"frequency\": 1, \"value\": 451300}, \"356700\": {\"frequency\": 1, \"value\": 356700}, \"307550\": {\"frequency\": 1, \"value\": 307550}, \"668000\": {\"frequency\": 2, \"value\": 668000}, \"1306000\": {\"frequency\": 1, \"value\": 1306000}, \"414050\": {\"frequency\": 1, \"value\": 414050}, \"364900\": {\"frequency\": 2, \"value\": 364900}, \"881000\": {\"frequency\": 1, \"value\": 881000}, \"242025\": {\"frequency\": 1, \"value\": 242025}, \"422250\": {\"frequency\": 2, \"value\": 422250}, \"778983\": {\"frequency\": 1, \"value\": 778983}, \"987500\": {\"frequency\": 1, \"value\": 987500}, \"274800\": {\"frequency\": 1, \"value\": 274800}, \"557800\": {\"frequency\": 1, \"value\": 557800}, \"635250\": {\"frequency\": 1, \"value\": 635250}, \"658100\": {\"frequency\": 1, \"value\": 658100}, \"176500\": {\"frequency\": 1, \"value\": 176500}, \"283000\": {\"frequency\": 9, \"value\": 283000}, \"389500\": {\"frequency\": 2, \"value\": 389500}, \"610685\": {\"frequency\": 1, \"value\": 610685}, \"749950\": {\"frequency\": 11, \"value\": 749950}, \"496000\": {\"frequency\": 6, \"value\": 496000}, \"1960000\": {\"frequency\": 1, \"value\": 1960000}, \"242050\": {\"frequency\": 1, \"value\": 242050}, \"602500\": {\"frequency\": 3, \"value\": 602500}, \"655100\": {\"frequency\": 1, \"value\": 655100}, \"160134\": {\"frequency\": 1, \"value\": 160134}, \"709000\": {\"frequency\": 4, \"value\": 709000}, \"250250\": {\"frequency\": 1, \"value\": 250250}, \"1058000\": {\"frequency\": 1, \"value\": 1058000}, \"389517\": {\"frequency\": 1, \"value\": 389517}, \"160000\": {\"frequency\": 27, \"value\": 160000}, \"922000\": {\"frequency\": 1, \"value\": 922000}, \"3567000\": {\"frequency\": 1, \"value\": 3567000}, \"364950\": {\"frequency\": 4, \"value\": 364950}, \"1135000\": {\"frequency\": 8, \"value\": 1135000}, \"837700\": {\"frequency\": 1, \"value\": 837700}, \"965800\": {\"frequency\": 1, \"value\": 965800}, \"217500\": {\"frequency\": 3, \"value\": 217500}, \"324000\": {\"frequency\": 10, \"value\": 324000}, \"1590000\": {\"frequency\": 1, \"value\": 1590000}, \"250275\": {\"frequency\": 1, \"value\": 250275}, \"348580\": {\"frequency\": 1, \"value\": 348580}, \"801000\": {\"frequency\": 1, \"value\": 801000}, \"537000\": {\"frequency\": 12, \"value\": 537000}, \"749995\": {\"frequency\": 1, \"value\": 749995}, \"643500\": {\"frequency\": 2, \"value\": 643500}, \"962800\": {\"frequency\": 2, \"value\": 962800}, \"749999\": {\"frequency\": 1, \"value\": 749999}, \"750000\": {\"frequency\": 87, \"value\": 750000}, \"329800\": {\"frequency\": 1, \"value\": 329800}, \"307635\": {\"frequency\": 1, \"value\": 307635}, \"856500\": {\"frequency\": 1, \"value\": 856500}, \"192950\": {\"frequency\": 1, \"value\": 192950}, \"963000\": {\"frequency\": 2, \"value\": 963000}, \"774900\": {\"frequency\": 1, \"value\": 774900}, \"709050\": {\"frequency\": 1, \"value\": 709050}, \"364988\": {\"frequency\": 1, \"value\": 364988}, \"610750\": {\"frequency\": 1, \"value\": 610750}, \"2200000\": {\"frequency\": 7, \"value\": 2200000}, \"1220000\": {\"frequency\": 7, \"value\": 1220000}, \"258500\": {\"frequency\": 2, \"value\": 258500}, \"1298888\": {\"frequency\": 1, \"value\": 1298888}, \"436300\": {\"frequency\": 1, \"value\": 436300}, \"471500\": {\"frequency\": 1, \"value\": 471500}, \"578000\": {\"frequency\": 6, \"value\": 578000}, \"688888\": {\"frequency\": 1, \"value\": 688888}, \"274900\": {\"frequency\": 3, \"value\": 274900}, \"1350000\": {\"frequency\": 16, \"value\": 1350000}, \"148000\": {\"frequency\": 2, \"value\": 148000}, \"1815000\": {\"frequency\": 2, \"value\": 1815000}, \"237200\": {\"frequency\": 1, \"value\": 237200}, \"897500\": {\"frequency\": 1, \"value\": 897500}, \"438750\": {\"frequency\": 1, \"value\": 438750}, \"913888\": {\"frequency\": 1, \"value\": 913888}, \"1157200\": {\"frequency\": 1, \"value\": 1157200}, \"86500\": {\"frequency\": 1, \"value\": 86500}, \"242150\": {\"frequency\": 1, \"value\": 242150}, \"193000\": {\"frequency\": 7, \"value\": 193000}, \"145000\": {\"frequency\": 4, \"value\": 145000}, \"322400\": {\"frequency\": 1, \"value\": 322400}, \"299500\": {\"frequency\": 10, \"value\": 299500}, \"659950\": {\"frequency\": 5, \"value\": 659950}, \"1430000\": {\"frequency\": 4, \"value\": 1430000}, \"921000\": {\"frequency\": 3, \"value\": 921000}, \"512500\": {\"frequency\": 7, \"value\": 512500}, \"619000\": {\"frequency\": 8, \"value\": 619000}, \"725500\": {\"frequency\": 1, \"value\": 725500}, \"266750\": {\"frequency\": 1, \"value\": 266750}, \"231200\": {\"frequency\": 1, \"value\": 231200}, \"832000\": {\"frequency\": 1, \"value\": 832000}, \"332544\": {\"frequency\": 1, \"value\": 332544}, \"544900\": {\"frequency\": 1, \"value\": 544900}, \"274950\": {\"frequency\": 6, \"value\": 274950}, \"400800\": {\"frequency\": 1, \"value\": 400800}, \"1045000\": {\"frequency\": 5, \"value\": 1045000}, \"413100\": {\"frequency\": 1, \"value\": 413100}, \"537100\": {\"frequency\": 1, \"value\": 537100}, \"148226\": {\"frequency\": 1, \"value\": 148226}, \"365070\": {\"frequency\": 1, \"value\": 365070}, \"438800\": {\"frequency\": 1, \"value\": 438800}, \"1575000\": {\"frequency\": 7, \"value\": 1575000}, \"340500\": {\"frequency\": 5, \"value\": 340500}, \"447000\": {\"frequency\": 16, \"value\": 447000}, \"1695000\": {\"frequency\": 5, \"value\": 1695000}, \"495800\": {\"frequency\": 1, \"value\": 495800}, \"553500\": {\"frequency\": 1, \"value\": 553500}, \"274975\": {\"frequency\": 1, \"value\": 274975}, \"660000\": {\"frequency\": 52, \"value\": 660000}, \"1646000\": {\"frequency\": 1, \"value\": 1646000}, \"766500\": {\"frequency\": 1, \"value\": 766500}, \"873000\": {\"frequency\": 1, \"value\": 873000}, \"414250\": {\"frequency\": 1, \"value\": 414250}, \"979500\": {\"frequency\": 1, \"value\": 979500}, \"291375\": {\"frequency\": 1, \"value\": 291375}, \"1086000\": {\"frequency\": 1, \"value\": 1086000}, \"1205000\": {\"frequency\": 6, \"value\": 1205000}, \"627250\": {\"frequency\": 1, \"value\": 627250}, \"834995\": {\"frequency\": 1, \"value\": 834995}, \"168500\": {\"frequency\": 2, \"value\": 168500}, \"275000\": {\"frequency\": 113, \"value\": 275000}, \"626100\": {\"frequency\": 1, \"value\": 626100}, \"594491\": {\"frequency\": 1, \"value\": 594491}, \"381500\": {\"frequency\": 3, \"value\": 381500}, \"488000\": {\"frequency\": 9, \"value\": 488000}, \"2300000\": {\"frequency\": 7, \"value\": 2300000}, \"389700\": {\"frequency\": 1, \"value\": 389700}, \"701000\": {\"frequency\": 3, \"value\": 701000}, \"799500\": {\"frequency\": 1, \"value\": 799500}, \"397900\": {\"frequency\": 1, \"value\": 397900}, \"817250\": {\"frequency\": 1, \"value\": 817250}, \"447055\": {\"frequency\": 1, \"value\": 447055}, \"630100\": {\"frequency\": 1, \"value\": 630100}, \"732600\": {\"frequency\": 1, \"value\": 732600}, \"120000\": {\"frequency\": 3, \"value\": 120000}, \"406100\": {\"frequency\": 1, \"value\": 406100}, \"561750\": {\"frequency\": 1, \"value\": 561750}, \"1127000\": {\"frequency\": 1, \"value\": 1127000}, \"209500\": {\"frequency\": 1, \"value\": 209500}, \"569950\": {\"frequency\": 7, \"value\": 569950}, \"316000\": {\"frequency\": 15, \"value\": 316000}, \"394000\": {\"frequency\": 8, \"value\": 394000}, \"775950\": {\"frequency\": 1, \"value\": 775950}, \"422500\": {\"frequency\": 7, \"value\": 422500}, \"529000\": {\"frequency\": 13, \"value\": 529000}, \"124000\": {\"frequency\": 2, \"value\": 124000}, \"225900\": {\"frequency\": 1, \"value\": 225900}, \"275053\": {\"frequency\": 1, \"value\": 275053}, \"742000\": {\"frequency\": 2, \"value\": 742000}, \"438900\": {\"frequency\": 1, \"value\": 438900}, \"545400\": {\"frequency\": 1, \"value\": 545400}, \"397950\": {\"frequency\": 2, \"value\": 397950}, \"144000\": {\"frequency\": 2, \"value\": 144000}, \"250500\": {\"frequency\": 1, \"value\": 250500}, \"610950\": {\"frequency\": 1, \"value\": 610950}, \"356999\": {\"frequency\": 1, \"value\": 356999}, \"684680\": {\"frequency\": 1, \"value\": 684680}, \"569995\": {\"frequency\": 1, \"value\": 569995}, \"438924\": {\"frequency\": 1, \"value\": 438924}, \"569999\": {\"frequency\": 1, \"value\": 569999}, \"570000\": {\"frequency\": 66, \"value\": 570000}, \"299800\": {\"frequency\": 4, \"value\": 299800}, \"1135250\": {\"frequency\": 1, \"value\": 1135250}, \"676500\": {\"frequency\": 1, \"value\": 676500}, \"215150\": {\"frequency\": 1, \"value\": 215150}, \"783000\": {\"frequency\": 1, \"value\": 783000}, \"474800\": {\"frequency\": 1, \"value\": 474800}, \"479900\": {\"frequency\": 2, \"value\": 479900}, \"996000\": {\"frequency\": 1, \"value\": 996000}, \"1190000\": {\"frequency\": 8, \"value\": 1190000}, \"537250\": {\"frequency\": 1, \"value\": 537250}, \"397990\": {\"frequency\": 1, \"value\": 397990}, \"185000\": {\"frequency\": 31, \"value\": 185000}, \"1839900\": {\"frequency\": 1, \"value\": 1839900}, \"291500\": {\"frequency\": 3, \"value\": 291500}, \"398000\": {\"frequency\": 12, \"value\": 398000}, \"237000\": {\"frequency\": 12, \"value\": 237000}, \"553650\": {\"frequency\": 1, \"value\": 553650}, \"504500\": {\"frequency\": 1, \"value\": 504500}, \"611000\": {\"frequency\": 5, \"value\": 611000}, \"784500\": {\"frequency\": 1, \"value\": 784500}, \"717500\": {\"frequency\": 2, \"value\": 717500}, \"331210\": {\"frequency\": 1, \"value\": 331210}, \"258750\": {\"frequency\": 1, \"value\": 258750}, \"824000\": {\"frequency\": 5, \"value\": 824000}, \"1905000\": {\"frequency\": 1, \"value\": 1905000}, \"365250\": {\"frequency\": 1, \"value\": 365250}, \"111300\": {\"frequency\": 1, \"value\": 111300}, \"471750\": {\"frequency\": 1, \"value\": 471750}, \"1037000\": {\"frequency\": 2, \"value\": 1037000}, \"119500\": {\"frequency\": 1, \"value\": 119500}, \"479950\": {\"frequency\": 7, \"value\": 479950}, \"1250000\": {\"frequency\": 27, \"value\": 1250000}, \"788600\": {\"frequency\": 1, \"value\": 788600}, \"152275\": {\"frequency\": 1, \"value\": 152275}, \"332500\": {\"frequency\": 7, \"value\": 332500}, \"662990\": {\"frequency\": 1, \"value\": 662990}, \"106000\": {\"frequency\": 1, \"value\": 106000}, \"439000\": {\"frequency\": 24, \"value\": 439000}, \"545500\": {\"frequency\": 1, \"value\": 545500}, \"227450\": {\"frequency\": 1, \"value\": 227450}, \"931088\": {\"frequency\": 1, \"value\": 931088}, \"2700000\": {\"frequency\": 5, \"value\": 2700000}, \"290256\": {\"frequency\": 1, \"value\": 290256}, \"1061604\": {\"frequency\": 1, \"value\": 1061604}, \"865000\": {\"frequency\": 23, \"value\": 865000}, \"406250\": {\"frequency\": 1, \"value\": 406250}, \"717550\": {\"frequency\": 1, \"value\": 717550}, \"1078000\": {\"frequency\": 1, \"value\": 1078000}, \"1545000\": {\"frequency\": 1, \"value\": 1545000}, \"979700\": {\"frequency\": 2, \"value\": 979700}, \"479990\": {\"frequency\": 1, \"value\": 479990}, \"267000\": {\"frequency\": 16, \"value\": 267000}, \"373500\": {\"frequency\": 2, \"value\": 373500}, \"480000\": {\"frequency\": 81, \"value\": 480000}, \"852880\": {\"frequency\": 1, \"value\": 852880}, \"2238888\": {\"frequency\": 1, \"value\": 2238888}, \"586500\": {\"frequency\": 1, \"value\": 586500}, \"404950\": {\"frequency\": 1, \"value\": 404950}, \"693000\": {\"frequency\": 5, \"value\": 693000}, \"1444000\": {\"frequency\": 1, \"value\": 1444000}, \"389900\": {\"frequency\": 2, \"value\": 389900}, \"398096\": {\"frequency\": 1, \"value\": 398096}, \"1175000\": {\"frequency\": 8, \"value\": 1175000}, \"95000\": {\"frequency\": 4, \"value\": 95000}, \"725786\": {\"frequency\": 1, \"value\": 725786}, \"471835\": {\"frequency\": 1, \"value\": 471835}, \"201500\": {\"frequency\": 2, \"value\": 201500}, \"307999\": {\"frequency\": 1, \"value\": 307999}, \"308000\": {\"frequency\": 14, \"value\": 308000}, \"414500\": {\"frequency\": 3, \"value\": 414500}, \"774950\": {\"frequency\": 1, \"value\": 774950}, \"521000\": {\"frequency\": 8, \"value\": 521000}, \"361600\": {\"frequency\": 1, \"value\": 361600}, \"627500\": {\"frequency\": 2, \"value\": 627500}, \"450800\": {\"frequency\": 1, \"value\": 450800}, \"734000\": {\"frequency\": 6, \"value\": 734000}, \"275250\": {\"frequency\": 1, \"value\": 275250}, \"635700\": {\"frequency\": 1, \"value\": 635700}, \"840500\": {\"frequency\": 2, \"value\": 840500}, \"488250\": {\"frequency\": 1, \"value\": 488250}, \"389950\": {\"frequency\": 8, \"value\": 389950}, \"1160000\": {\"frequency\": 10, \"value\": 1160000}, \"1388000\": {\"frequency\": 5, \"value\": 1388000}, \"357186\": {\"frequency\": 1, \"value\": 357186}, \"529219\": {\"frequency\": 1, \"value\": 529219}, \"652100\": {\"frequency\": 1, \"value\": 652100}, \"349000\": {\"frequency\": 16, \"value\": 349000}, \"455500\": {\"frequency\": 2, \"value\": 455500}, \"562000\": {\"frequency\": 13, \"value\": 562000}, \"1459000\": {\"frequency\": 1, \"value\": 1459000}, \"668500\": {\"frequency\": 2, \"value\": 668500}, \"1028950\": {\"frequency\": 1, \"value\": 1028950}, \"775000\": {\"frequency\": 58, \"value\": 775000}, \"585188\": {\"frequency\": 1, \"value\": 585188}, \"267100\": {\"frequency\": 1, \"value\": 267100}, \"283450\": {\"frequency\": 1, \"value\": 283450}, \"783200\": {\"frequency\": 1, \"value\": 783200}, \"1530000\": {\"frequency\": 1, \"value\": 1530000}, \"324450\": {\"frequency\": 1, \"value\": 324450}, \"389990\": {\"frequency\": 1, \"value\": 389990}, \"2225000\": {\"frequency\": 3, \"value\": 2225000}, \"746300\": {\"frequency\": 1, \"value\": 746300}, \"283500\": {\"frequency\": 3, \"value\": 283500}, \"848750\": {\"frequency\": 1, \"value\": 848750}, \"389999\": {\"frequency\": 2, \"value\": 389999}, \"945000\": {\"frequency\": 5, \"value\": 945000}, \"269800\": {\"frequency\": 1, \"value\": 269800}, \"496500\": {\"frequency\": 2, \"value\": 496500}, \"242550\": {\"frequency\": 1, \"value\": 242550}, \"603000\": {\"frequency\": 6, \"value\": 603000}, \"299900\": {\"frequency\": 11, \"value\": 299900}, \"250750\": {\"frequency\": 1, \"value\": 250750}, \"816000\": {\"frequency\": 1, \"value\": 816000}, \"361280\": {\"frequency\": 1, \"value\": 361280}, \"357250\": {\"frequency\": 1, \"value\": 357250}, \"611206\": {\"frequency\": 1, \"value\": 611206}, \"1029000\": {\"frequency\": 1, \"value\": 1029000}, \"2321000\": {\"frequency\": 1, \"value\": 2321000}, \"749500\": {\"frequency\": 2, \"value\": 749500}, \"435010\": {\"frequency\": 1, \"value\": 435010}, \"218000\": {\"frequency\": 14, \"value\": 218000}, \"411800\": {\"frequency\": 1, \"value\": 411800}, \"851000\": {\"frequency\": 4, \"value\": 851000}, \"324500\": {\"frequency\": 5, \"value\": 324500}, \"431000\": {\"frequency\": 16, \"value\": 431000}, \"242500\": {\"frequency\": 5, \"value\": 242500}, \"619420\": {\"frequency\": 1, \"value\": 619420}, \"260250\": {\"frequency\": 1, \"value\": 260250}, \"406430\": {\"frequency\": 1, \"value\": 406430}, \"340895\": {\"frequency\": 1, \"value\": 340895}, \"644000\": {\"frequency\": 1, \"value\": 644000}, \"1302000\": {\"frequency\": 1, \"value\": 1302000}, \"308130\": {\"frequency\": 1, \"value\": 308130}, \"750500\": {\"frequency\": 2, \"value\": 750500}, \"291750\": {\"frequency\": 1, \"value\": 291750}, \"857000\": {\"frequency\": 1, \"value\": 857000}, \"1337500\": {\"frequency\": 1, \"value\": 1337500}, \"1987500\": {\"frequency\": 1, \"value\": 1987500}, \"299950\": {\"frequency\": 23, \"value\": 299950}, \"250800\": {\"frequency\": 1, \"value\": 250800}, \"861000\": {\"frequency\": 1, \"value\": 861000}, \"594866\": {\"frequency\": 1, \"value\": 594866}, \"562100\": {\"frequency\": 2, \"value\": 562100}, \"463800\": {\"frequency\": 1, \"value\": 463800}, \"2983000\": {\"frequency\": 1, \"value\": 2983000}, \"365500\": {\"frequency\": 3, \"value\": 365500}, \"472000\": {\"frequency\": 13, \"value\": 472000}, \"624800\": {\"frequency\": 1, \"value\": 624800}, \"578500\": {\"frequency\": 1, \"value\": 578500}, \"685000\": {\"frequency\": 44, \"value\": 685000}, \"791500\": {\"frequency\": 2, \"value\": 791500}, \"227490\": {\"frequency\": 1, \"value\": 227490}, \"898000\": {\"frequency\": 8, \"value\": 898000}, \"2027000\": {\"frequency\": 1, \"value\": 2027000}, \"463828\": {\"frequency\": 1, \"value\": 463828}, \"299990\": {\"frequency\": 2, \"value\": 299990}, \"2135000\": {\"frequency\": 1, \"value\": 2135000}, \"447450\": {\"frequency\": 1, \"value\": 447450}, \"299995\": {\"frequency\": 2, \"value\": 299995}, \"193500\": {\"frequency\": 1, \"value\": 193500}, \"299999\": {\"frequency\": 4, \"value\": 299999}, \"300000\": {\"frequency\": 133, \"value\": 300000}, \"406500\": {\"frequency\": 5, \"value\": 406500}, \"766950\": {\"frequency\": 1, \"value\": 766950}, \"513000\": {\"frequency\": 11, \"value\": 513000}, \"372220\": {\"frequency\": 1, \"value\": 372220}, \"725995\": {\"frequency\": 1, \"value\": 725995}, \"619500\": {\"frequency\": 4, \"value\": 619500}, \"245100\": {\"frequency\": 1, \"value\": 245100}, \"1750000\": {\"frequency\": 7, \"value\": 1750000}, \"349170\": {\"frequency\": 1, \"value\": 349170}, \"226000\": {\"frequency\": 6, \"value\": 226000}, \"783350\": {\"frequency\": 1, \"value\": 783350}, \"939000\": {\"frequency\": 4, \"value\": 939000}, \"258900\": {\"frequency\": 1, \"value\": 258900}, \"147200\": {\"frequency\": 1, \"value\": 147200}, \"3200000\": {\"frequency\": 4, \"value\": 3200000}, \"1216000\": {\"frequency\": 1, \"value\": 1216000}, \"234500\": {\"frequency\": 2, \"value\": 234500}, \"594950\": {\"frequency\": 4, \"value\": 594950}, \"341000\": {\"frequency\": 7, \"value\": 341000}, \"329900\": {\"frequency\": 6, \"value\": 329900}, \"291850\": {\"frequency\": 1, \"value\": 291850}, \"447500\": {\"frequency\": 6, \"value\": 447500}, \"758800\": {\"frequency\": 1, \"value\": 758800}, \"672600\": {\"frequency\": 1, \"value\": 672600}, \"1324050\": {\"frequency\": 1, \"value\": 1324050}, \"660500\": {\"frequency\": 2, \"value\": 660500}, \"406550\": {\"frequency\": 1, \"value\": 406550}, \"562200\": {\"frequency\": 1, \"value\": 562200}, \"197200\": {\"frequency\": 1, \"value\": 197200}, \"160797\": {\"frequency\": 1, \"value\": 160797}, \"209950\": {\"frequency\": 10, \"value\": 209950}, \"980000\": {\"frequency\": 14, \"value\": 980000}, \"641200\": {\"frequency\": 1, \"value\": 641200}, \"267300\": {\"frequency\": 1, \"value\": 267300}, \"169000\": {\"frequency\": 5, \"value\": 169000}, \"685100\": {\"frequency\": 1, \"value\": 685100}, \"647000\": {\"frequency\": 2, \"value\": 647000}, \"1620500\": {\"frequency\": 1, \"value\": 1620500}, \"1266525\": {\"frequency\": 1, \"value\": 1266525}, \"382000\": {\"frequency\": 13, \"value\": 382000}, \"488500\": {\"frequency\": 2, \"value\": 488500}, \"234550\": {\"frequency\": 1, \"value\": 234550}, \"1200688\": {\"frequency\": 1, \"value\": 1200688}, \"595000\": {\"frequency\": 42, \"value\": 595000}, \"209977\": {\"frequency\": 1, \"value\": 209977}, \"316475\": {\"frequency\": 1, \"value\": 316475}, \"496700\": {\"frequency\": 1, \"value\": 496700}, \"808000\": {\"frequency\": 7, \"value\": 808000}, \"988000\": {\"frequency\": 2, \"value\": 988000}, \"495000\": {\"frequency\": 70, \"value\": 495000}, \"914500\": {\"frequency\": 1, \"value\": 914500}, \"1274950\": {\"frequency\": 1, \"value\": 1274950}, \"729953\": {\"frequency\": 1, \"value\": 729953}, \"224400\": {\"frequency\": 1, \"value\": 224400}, \"209995\": {\"frequency\": 1, \"value\": 209995}, \"1127500\": {\"frequency\": 1, \"value\": 1127500}, \"668750\": {\"frequency\": 1, \"value\": 668750}, \"399440\": {\"frequency\": 1, \"value\": 399440}, \"210000\": {\"frequency\": 69, \"value\": 210000}, \"267345\": {\"frequency\": 1, \"value\": 267345}, \"190848\": {\"frequency\": 1, \"value\": 190848}, \"316500\": {\"frequency\": 4, \"value\": 316500}, \"974350\": {\"frequency\": 1, \"value\": 974350}, \"334009\": {\"frequency\": 1, \"value\": 334009}, \"332888\": {\"frequency\": 1, \"value\": 332888}, \"582500\": {\"frequency\": 4, \"value\": 582500}, \"119900\": {\"frequency\": 1, \"value\": 119900}, \"889950\": {\"frequency\": 2, \"value\": 889950}, \"636000\": {\"frequency\": 2, \"value\": 636000}, \"618000\": {\"frequency\": 7, \"value\": 618000}, \"283748\": {\"frequency\": 1, \"value\": 283748}, \"1387000\": {\"frequency\": 2, \"value\": 1387000}, \"849000\": {\"frequency\": 6, \"value\": 849000}, \"551100\": {\"frequency\": 1, \"value\": 551100}, \"955500\": {\"frequency\": 1, \"value\": 955500}, \"2544750\": {\"frequency\": 1, \"value\": 2544750}, \"496752\": {\"frequency\": 1, \"value\": 496752}, \"177000\": {\"frequency\": 2, \"value\": 177000}, \"845800\": {\"frequency\": 1, \"value\": 845800}, \"396800\": {\"frequency\": 1, \"value\": 396800}, \"206600\": {\"frequency\": 1, \"value\": 206600}, \"1275000\": {\"frequency\": 7, \"value\": 1275000}, \"622100\": {\"frequency\": 1, \"value\": 622100}, \"406650\": {\"frequency\": 1, \"value\": 406650}, \"357500\": {\"frequency\": 8, \"value\": 357500}, \"1356925\": {\"frequency\": 1, \"value\": 1356925}, \"464000\": {\"frequency\": 14, \"value\": 464000}, \"1272000\": {\"frequency\": 2, \"value\": 1272000}, \"291970\": {\"frequency\": 1, \"value\": 291970}, \"922755\": {\"frequency\": 1, \"value\": 922755}, \"529100\": {\"frequency\": 1, \"value\": 529100}, \"677000\": {\"frequency\": 3, \"value\": 677000}, \"1830000\": {\"frequency\": 1, \"value\": 1830000}, \"1381000\": {\"frequency\": 1, \"value\": 1381000}, \"652427\": {\"frequency\": 1, \"value\": 652427}, \"169100\": {\"frequency\": 1, \"value\": 169100}, \"504975\": {\"frequency\": 1, \"value\": 504975}, \"890000\": {\"frequency\": 19, \"value\": 890000}, \"1855000\": {\"frequency\": 1, \"value\": 1855000}, \"226450\": {\"frequency\": 1, \"value\": 226450}, \"643950\": {\"frequency\": 1, \"value\": 643950}, \"458450\": {\"frequency\": 1, \"value\": 458450}, \"472217\": {\"frequency\": 1, \"value\": 472217}, \"1029275\": {\"frequency\": 1, \"value\": 1029275}, \"799900\": {\"frequency\": 2, \"value\": 799900}, \"292000\": {\"frequency\": 19, \"value\": 292000}, \"287600\": {\"frequency\": 1, \"value\": 287600}, \"652450\": {\"frequency\": 1, \"value\": 652450}, \"398500\": {\"frequency\": 5, \"value\": 398500}, \"505000\": {\"frequency\": 44, \"value\": 505000}, \"331292\": {\"frequency\": 1, \"value\": 331292}, \"455850\": {\"frequency\": 1, \"value\": 455850}, \"718000\": {\"frequency\": 8, \"value\": 718000}, \"1485000\": {\"frequency\": 4, \"value\": 1485000}, \"259250\": {\"frequency\": 1, \"value\": 259250}, \"824500\": {\"frequency\": 1, \"value\": 824500}, \"1955000\": {\"frequency\": 2, \"value\": 1955000}, \"291700\": {\"frequency\": 1, \"value\": 291700}, \"357562\": {\"frequency\": 1, \"value\": 357562}, \"324800\": {\"frequency\": 1, \"value\": 324800}, \"7700000\": {\"frequency\": 1, \"value\": 7700000}, \"971971\": {\"frequency\": 1, \"value\": 971971}, \"226500\": {\"frequency\": 3, \"value\": 226500}, \"208417\": {\"frequency\": 1, \"value\": 208417}, \"333000\": {\"frequency\": 17, \"value\": 333000}, \"329932\": {\"frequency\": 1, \"value\": 329932}, \"439500\": {\"frequency\": 3, \"value\": 439500}, \"799950\": {\"frequency\": 7, \"value\": 799950}, \"546000\": {\"frequency\": 10, \"value\": 546000}, \"381800\": {\"frequency\": 1, \"value\": 381800}, \"292050\": {\"frequency\": 1, \"value\": 292050}, \"652500\": {\"frequency\": 4, \"value\": 652500}, \"374990\": {\"frequency\": 1, \"value\": 374990}, \"560200\": {\"frequency\": 1, \"value\": 560200}, \"638500\": {\"frequency\": 2, \"value\": 638500}, \"251100\": {\"frequency\": 1, \"value\": 251100}, \"972000\": {\"frequency\": 2, \"value\": 972000}, \"1698000\": {\"frequency\": 2, \"value\": 1698000}, \"1078500\": {\"frequency\": 1, \"value\": 1078500}, \"1569500\": {\"frequency\": 1, \"value\": 1569500}, \"414950\": {\"frequency\": 2, \"value\": 414950}, \"1185000\": {\"frequency\": 7, \"value\": 1185000}, \"402300\": {\"frequency\": 1, \"value\": 402300}, \"521450\": {\"frequency\": 1, \"value\": 521450}, \"267500\": {\"frequency\": 11, \"value\": 267500}, \"623300\": {\"frequency\": 1, \"value\": 623300}, \"197400\": {\"frequency\": 1, \"value\": 197400}, \"374000\": {\"frequency\": 11, \"value\": 374000}, \"1769000\": {\"frequency\": 1, \"value\": 1769000}, \"480500\": {\"frequency\": 1, \"value\": 480500}, \"226550\": {\"frequency\": 1, \"value\": 226550}, \"587000\": {\"frequency\": 5, \"value\": 587000}, \"780500\": {\"frequency\": 1, \"value\": 780500}, \"392440\": {\"frequency\": 1, \"value\": 392440}, \"800000\": {\"frequency\": 57, \"value\": 800000}, \"304000\": {\"frequency\": 9, \"value\": 304000}, \"544300\": {\"frequency\": 1, \"value\": 544300}, \"1360000\": {\"frequency\": 3, \"value\": 1360000}, \"619790\": {\"frequency\": 1, \"value\": 619790}, \"2250000\": {\"frequency\": 9, \"value\": 2250000}, \"1399000\": {\"frequency\": 1, \"value\": 1399000}, \"767250\": {\"frequency\": 1, \"value\": 767250}, \"308500\": {\"frequency\": 2, \"value\": 308500}, \"414999\": {\"frequency\": 1, \"value\": 414999}, \"324888\": {\"frequency\": 1, \"value\": 324888}, \"533380\": {\"frequency\": 1, \"value\": 533380}, \"521500\": {\"frequency\": 1, \"value\": 521500}, \"628000\": {\"frequency\": 7, \"value\": 628000}, \"1470000\": {\"frequency\": 1, \"value\": 1470000}, \"324900\": {\"frequency\": 3, \"value\": 324900}, \"258950\": {\"frequency\": 1, \"value\": 258950}, \"799200\": {\"frequency\": 1, \"value\": 799200}, \"1865000\": {\"frequency\": 3, \"value\": 1865000}, \"947500\": {\"frequency\": 2, \"value\": 947500}, \"312200\": {\"frequency\": 1, \"value\": 312200}, \"136500\": {\"frequency\": 1, \"value\": 136500}, \"243000\": {\"frequency\": 8, \"value\": 243000}, \"1013050\": {\"frequency\": 1, \"value\": 1013050}, \"398651\": {\"frequency\": 1, \"value\": 398651}, \"349500\": {\"frequency\": 5, \"value\": 349500}, \"709950\": {\"frequency\": 1, \"value\": 709950}, \"456000\": {\"frequency\": 8, \"value\": 456000}, \"450000\": {\"frequency\": 172, \"value\": 450000}, \"152900\": {\"frequency\": 1, \"value\": 152900}, \"308550\": {\"frequency\": 1, \"value\": 308550}, \"669000\": {\"frequency\": 5, \"value\": 669000}, \"619850\": {\"frequency\": 1, \"value\": 619850}, \"1999950\": {\"frequency\": 1, \"value\": 1999950}, \"316750\": {\"frequency\": 1, \"value\": 316750}, \"659000\": {\"frequency\": 10, \"value\": 659000}, \"218450\": {\"frequency\": 1, \"value\": 218450}, \"988500\": {\"frequency\": 1, \"value\": 988500}, \"324950\": {\"frequency\": 17, \"value\": 324950}, \"1095000\": {\"frequency\": 6, \"value\": 1095000}, \"592100\": {\"frequency\": 1, \"value\": 592100}, \"177500\": {\"frequency\": 1, \"value\": 177500}, \"1100005\": {\"frequency\": 1, \"value\": 1100005}, \"284000\": {\"frequency\": 17, \"value\": 284000}, \"1242000\": {\"frequency\": 1, \"value\": 1242000}, \"1824100\": {\"frequency\": 1, \"value\": 1824100}, \"169317\": {\"frequency\": 1, \"value\": 169317}, \"497000\": {\"frequency\": 11, \"value\": 497000}, \"151100\": {\"frequency\": 1, \"value\": 151100}, \"603500\": {\"frequency\": 3, \"value\": 603500}, \"849900\": {\"frequency\": 1, \"value\": 849900}, \"425996\": {\"frequency\": 1, \"value\": 425996}, \"710000\": {\"frequency\": 41, \"value\": 710000}, \"1313000\": {\"frequency\": 1, \"value\": 1313000}, \"789888\": {\"frequency\": 1, \"value\": 789888}, \"636230\": {\"frequency\": 1, \"value\": 636230}, \"2160000\": {\"frequency\": 1, \"value\": 2160000}, \"872000\": {\"frequency\": 2, \"value\": 872000}, \"711600\": {\"frequency\": 1, \"value\": 711600}, \"1242500\": {\"frequency\": 1, \"value\": 1242500}, \"374150\": {\"frequency\": 1, \"value\": 374150}, \"325000\": {\"frequency\": 148, \"value\": 325000}, \"431500\": {\"frequency\": 2, \"value\": 431500}, \"530200\": {\"frequency\": 1, \"value\": 530200}, \"538000\": {\"frequency\": 12, \"value\": 538000}, \"308625\": {\"frequency\": 1, \"value\": 308625}, \"619400\": {\"frequency\": 1, \"value\": 619400}, \"234900\": {\"frequency\": 1, \"value\": 234900}, \"963990\": {\"frequency\": 2, \"value\": 963990}, \"751000\": {\"frequency\": 8, \"value\": 751000}, \"978500\": {\"frequency\": 1, \"value\": 978500}, \"857500\": {\"frequency\": 2, \"value\": 857500}, \"398750\": {\"frequency\": 1, \"value\": 398750}, \"964000\": {\"frequency\": 1, \"value\": 964000}, \"527200\": {\"frequency\": 1, \"value\": 527200}, \"480680\": {\"frequency\": 1, \"value\": 480680}, \"537500\": {\"frequency\": 2, \"value\": 537500}, \"259500\": {\"frequency\": 4, \"value\": 259500}, \"619950\": {\"frequency\": 1, \"value\": 619950}, \"1299888\": {\"frequency\": 1, \"value\": 1299888}, \"265800\": {\"frequency\": 1, \"value\": 265800}, \"226740\": {\"frequency\": 1, \"value\": 226740}, \"579000\": {\"frequency\": 16, \"value\": 579000}, \"608500\": {\"frequency\": 1, \"value\": 608500}, \"275900\": {\"frequency\": 1, \"value\": 275900}, \"226750\": {\"frequency\": 1, \"value\": 226750}, \"357823\": {\"frequency\": 1, \"value\": 357823}, \"792000\": {\"frequency\": 4, \"value\": 792000}, \"3204000\": {\"frequency\": 1, \"value\": 3204000}, \"898500\": {\"frequency\": 1, \"value\": 898500}, \"587206\": {\"frequency\": 1, \"value\": 587206}, \"1005000\": {\"frequency\": 4, \"value\": 1005000}, \"542950\": {\"frequency\": 1, \"value\": 542950}, \"774888\": {\"frequency\": 1, \"value\": 774888}, \"1218000\": {\"frequency\": 2, \"value\": 1218000}, \"436472\": {\"frequency\": 2, \"value\": 436472}, \"300499\": {\"frequency\": 1, \"value\": 300499}, \"300500\": {\"frequency\": 1, \"value\": 300500}, \"456150\": {\"frequency\": 1, \"value\": 456150}, \"407000\": {\"frequency\": 7, \"value\": 407000}, \"2375000\": {\"frequency\": 1, \"value\": 2375000}, \"685530\": {\"frequency\": 1, \"value\": 685530}, \"234975\": {\"frequency\": 1, \"value\": 234975}, \"529888\": {\"frequency\": 1, \"value\": 529888}, \"274000\": {\"frequency\": 11, \"value\": 274000}, \"3120000\": {\"frequency\": 1, \"value\": 3120000}, \"726500\": {\"frequency\": 1, \"value\": 726500}, \"833000\": {\"frequency\": 4, \"value\": 833000}, \"300523\": {\"frequency\": 1, \"value\": 300523}, \"529900\": {\"frequency\": 1, \"value\": 529900}, \"1881583\": {\"frequency\": 1, \"value\": 1881583}, \"226800\": {\"frequency\": 1, \"value\": 226800}, \"549800\": {\"frequency\": 1, \"value\": 549800}, \"382450\": {\"frequency\": 1, \"value\": 382450}, \"628990\": {\"frequency\": 1, \"value\": 628990}, \"1770000\": {\"frequency\": 1, \"value\": 1770000}, \"234999\": {\"frequency\": 1, \"value\": 234999}, \"423000\": {\"frequency\": 11, \"value\": 423000}, \"994900\": {\"frequency\": 1, \"value\": 994900}, \"185850\": {\"frequency\": 1, \"value\": 185850}, \"341500\": {\"frequency\": 2, \"value\": 341500}, \"448000\": {\"frequency\": 9, \"value\": 448000}, \"1440000\": {\"frequency\": 2, \"value\": 1440000}, \"554500\": {\"frequency\": 1, \"value\": 554500}, \"661000\": {\"frequency\": 8, \"value\": 661000}, \"767500\": {\"frequency\": 3, \"value\": 767500}, \"620047\": {\"frequency\": 1, \"value\": 620047}, \"874000\": {\"frequency\": 2, \"value\": 874000}, \"2535000\": {\"frequency\": 1, \"value\": 2535000}, \"415250\": {\"frequency\": 1, \"value\": 415250}, \"222400\": {\"frequency\": 1, \"value\": 222400}, \"267800\": {\"frequency\": 2, \"value\": 267800}, \"522500\": {\"frequency\": 8, \"value\": 522500}, \"579100\": {\"frequency\": 1, \"value\": 579100}, \"529950\": {\"frequency\": 5, \"value\": 529950}, \"382495\": {\"frequency\": 1, \"value\": 382495}, \"1300000\": {\"frequency\": 21, \"value\": 1300000}, \"455600\": {\"frequency\": 1, \"value\": 455600}, \"431650\": {\"frequency\": 1, \"value\": 431650}, \"382500\": {\"frequency\": 7, \"value\": 382500}, \"370950\": {\"frequency\": 1, \"value\": 370950}, \"380500\": {\"frequency\": 3, \"value\": 380500}, \"489000\": {\"frequency\": 15, \"value\": 489000}, \"185900\": {\"frequency\": 1, \"value\": 185900}, \"1087500\": {\"frequency\": 1, \"value\": 1087500}, \"702000\": {\"frequency\": 5, \"value\": 702000}, \"538888\": {\"frequency\": 1, \"value\": 538888}, \"915000\": {\"frequency\": 16, \"value\": 915000}, \"152500\": {\"frequency\": 2, \"value\": 152500}, \"210490\": {\"frequency\": 1, \"value\": 210490}, \"611900\": {\"frequency\": 1, \"value\": 611900}, \"2880500\": {\"frequency\": 1, \"value\": 2880500}, \"357950\": {\"frequency\": 1, \"value\": 357950}, \"495200\": {\"frequency\": 1, \"value\": 495200}, \"2680000\": {\"frequency\": 1, \"value\": 2680000}, \"210500\": {\"frequency\": 3, \"value\": 210500}, \"317000\": {\"frequency\": 15, \"value\": 317000}, \"362764\": {\"frequency\": 1, \"value\": 362764}, \"423500\": {\"frequency\": 3, \"value\": 423500}, \"144975\": {\"frequency\": 1, \"value\": 144975}, \"530000\": {\"frequency\": 91, \"value\": 530000}, \"259000\": {\"frequency\": 16, \"value\": 259000}, \"685650\": {\"frequency\": 1, \"value\": 685650}, \"955990\": {\"frequency\": 1, \"value\": 955990}, \"538200\": {\"frequency\": 1, \"value\": 538200}, \"294500\": {\"frequency\": 1, \"value\": 294500}, \"1940000\": {\"frequency\": 2, \"value\": 1940000}, \"439900\": {\"frequency\": 2, \"value\": 439900}, \"550120\": {\"frequency\": 1, \"value\": 550120}, \"1980000\": {\"frequency\": 2, \"value\": 1980000}, \"842000\": {\"frequency\": 2, \"value\": 842000}, \"1062500\": {\"frequency\": 2, \"value\": 1062500}, \"398950\": {\"frequency\": 1, \"value\": 398950}, \"169575\": {\"frequency\": 1, \"value\": 169575}, \"554600\": {\"frequency\": 1, \"value\": 554600}, \"358000\": {\"frequency\": 21, \"value\": 358000}, \"1425000\": {\"frequency\": 4, \"value\": 1425000}, \"349810\": {\"frequency\": 1, \"value\": 349810}, \"464500\": {\"frequency\": 3, \"value\": 464500}, \"1749000\": {\"frequency\": 1, \"value\": 1749000}, \"832600\": {\"frequency\": 1, \"value\": 832600}, \"571000\": {\"frequency\": 8, \"value\": 571000}, \"743700\": {\"frequency\": 1, \"value\": 743700}, \"677500\": {\"frequency\": 2, \"value\": 677500}, \"355900\": {\"frequency\": 1, \"value\": 355900}, \"784000\": {\"frequency\": 2, \"value\": 784000}, \"325250\": {\"frequency\": 1, \"value\": 325250}, \"226950\": {\"frequency\": 1, \"value\": 226950}, \"2195000\": {\"frequency\": 1, \"value\": 2195000}, \"1234568\": {\"frequency\": 1, \"value\": 1234568}, \"1010800\": {\"frequency\": 1, \"value\": 1010800}, \"848000\": {\"frequency\": 3, \"value\": 848000}, \"299980\": {\"frequency\": 1, \"value\": 299980}, \"439950\": {\"frequency\": 11, \"value\": 439950}, \"186000\": {\"frequency\": 3, \"value\": 186000}, \"133400\": {\"frequency\": 1, \"value\": 133400}, \"292500\": {\"frequency\": 10, \"value\": 292500}, \"478830\": {\"frequency\": 1, \"value\": 478830}, \"1234582\": {\"frequency\": 1, \"value\": 1234582}, \"399000\": {\"frequency\": 29, \"value\": 399000}, \"407193\": {\"frequency\": 1, \"value\": 407193}, \"704111\": {\"frequency\": 1, \"value\": 704111}, \"505500\": {\"frequency\": 1, \"value\": 505500}, \"988830\": {\"frequency\": 1, \"value\": 988830}, \"612000\": {\"frequency\": 8, \"value\": 612000}, \"2150000\": {\"frequency\": 3, \"value\": 2150000}, \"386180\": {\"frequency\": 1, \"value\": 386180}, \"718500\": {\"frequency\": 3, \"value\": 718500}, \"426950\": {\"frequency\": 1, \"value\": 426950}, \"874150\": {\"frequency\": 1, \"value\": 874150}, \"554663\": {\"frequency\": 1, \"value\": 554663}, \"825000\": {\"frequency\": 43, \"value\": 825000}, \"649500\": {\"frequency\": 2, \"value\": 649500}, \"521900\": {\"frequency\": 1, \"value\": 521900}, \"1740000\": {\"frequency\": 2, \"value\": 1740000}, \"267950\": {\"frequency\": 1, \"value\": 267950}, \"448175\": {\"frequency\": 1, \"value\": 448175}, \"1038000\": {\"frequency\": 4, \"value\": 1038000}, \"275400\": {\"frequency\": 1, \"value\": 275400}, \"333490\": {\"frequency\": 1, \"value\": 333490}, \"530100\": {\"frequency\": 1, \"value\": 530100}, \"439990\": {\"frequency\": 3, \"value\": 439990}, \"227000\": {\"frequency\": 11, \"value\": 227000}, \"208500\": {\"frequency\": 1, \"value\": 208500}, \"587450\": {\"frequency\": 1, \"value\": 587450}, \"439995\": {\"frequency\": 1, \"value\": 439995}, \"333500\": {\"frequency\": 4, \"value\": 333500}, \"525300\": {\"frequency\": 1, \"value\": 525300}, \"440000\": {\"frequency\": 109, \"value\": 440000}, \"390000\": {\"frequency\": 110, \"value\": 390000}, \"546500\": {\"frequency\": 2, \"value\": 546500}, \"653000\": {\"frequency\": 9, \"value\": 653000}, \"751305\": {\"frequency\": 1, \"value\": 751305}, \"194250\": {\"frequency\": 1, \"value\": 194250}, \"349900\": {\"frequency\": 8, \"value\": 349900}, \"866000\": {\"frequency\": 1, \"value\": 866000}, \"827000\": {\"frequency\": 2, \"value\": 827000}, \"639950\": {\"frequency\": 1, \"value\": 639950}, \"308950\": {\"frequency\": 2, \"value\": 308950}, \"464600\": {\"frequency\": 1, \"value\": 464600}, \"727160\": {\"frequency\": 1, \"value\": 727160}, \"825050\": {\"frequency\": 1, \"value\": 825050}, \"161500\": {\"frequency\": 1, \"value\": 161500}, \"268000\": {\"frequency\": 20, \"value\": 268000}, \"598992\": {\"frequency\": 1, \"value\": 598992}, \"2180000\": {\"frequency\": 1, \"value\": 2180000}, \"374500\": {\"frequency\": 4, \"value\": 374500}, \"734950\": {\"frequency\": 1, \"value\": 734950}, \"1505000\": {\"frequency\": 3, \"value\": 1505000}, \"554729\": {\"frequency\": 1, \"value\": 554729}, \"1046250\": {\"frequency\": 1, \"value\": 1046250}, \"1965000\": {\"frequency\": 1, \"value\": 1965000}, \"587500\": {\"frequency\": 2, \"value\": 587500}, \"235245\": {\"frequency\": 1, \"value\": 235245}, \"128750\": {\"frequency\": 1, \"value\": 128750}, \"489200\": {\"frequency\": 1, \"value\": 489200}, \"464625\": {\"frequency\": 1, \"value\": 464625}, \"800500\": {\"frequency\": 1, \"value\": 800500}, \"1728000\": {\"frequency\": 1, \"value\": 1728000}, \"481015\": {\"frequency\": 1, \"value\": 481015}, \"292600\": {\"frequency\": 1, \"value\": 292600}, \"305450\": {\"frequency\": 1, \"value\": 305450}, \"349950\": {\"frequency\": 23, \"value\": 349950}, \"1120000\": {\"frequency\": 4, \"value\": 1120000}, \"528000\": {\"frequency\": 12, \"value\": 528000}, \"202500\": {\"frequency\": 3, \"value\": 202500}, \"661254\": {\"frequency\": 1, \"value\": 661254}, \"309000\": {\"frequency\": 13, \"value\": 309000}, \"461100\": {\"frequency\": 1, \"value\": 461100}, \"866059\": {\"frequency\": 1, \"value\": 866059}, \"1029900\": {\"frequency\": 1, \"value\": 1029900}, \"366350\": {\"frequency\": 1, \"value\": 366350}, \"522000\": {\"frequency\": 6, \"value\": 522000}, \"496600\": {\"frequency\": 2, \"value\": 496600}, \"423700\": {\"frequency\": 1, \"value\": 423700}, \"616750\": {\"frequency\": 1, \"value\": 616750}, \"735000\": {\"frequency\": 30, \"value\": 735000}, \"612125\": {\"frequency\": 1, \"value\": 612125}, \"1399950\": {\"frequency\": 1, \"value\": 1399950}, \"948000\": {\"frequency\": 1, \"value\": 948000}, \"424240\": {\"frequency\": 1, \"value\": 424240}, \"259875\": {\"frequency\": 2, \"value\": 259875}, \"349990\": {\"frequency\": 2, \"value\": 349990}, \"137000\": {\"frequency\": 2, \"value\": 137000}, \"243500\": {\"frequency\": 5, \"value\": 243500}, \"821000\": {\"frequency\": 1, \"value\": 821000}, \"350000\": {\"frequency\": 172, \"value\": 350000}, \"1765000\": {\"frequency\": 1, \"value\": 1765000}, \"456500\": {\"frequency\": 5, \"value\": 456500}, \"563000\": {\"frequency\": 7, \"value\": 563000}, \"505657\": {\"frequency\": 1, \"value\": 505657}, \"299880\": {\"frequency\": 1, \"value\": 299880}, \"669500\": {\"frequency\": 1, \"value\": 669500}, \"210750\": {\"frequency\": 1, \"value\": 210750}, \"1800000\": {\"frequency\": 9, \"value\": 1800000}, \"554820\": {\"frequency\": 1, \"value\": 554820}, \"303700\": {\"frequency\": 1, \"value\": 303700}, \"989000\": {\"frequency\": 3, \"value\": 989000}, \"685900\": {\"frequency\": 1, \"value\": 685900}, \"275436\": {\"frequency\": 1, \"value\": 275436}, \"178000\": {\"frequency\": 4, \"value\": 178000}, \"1395000\": {\"frequency\": 3, \"value\": 1395000}, \"1264000\": {\"frequency\": 1, \"value\": 1264000}, \"366000\": {\"frequency\": 12, \"value\": 366000}, \"440150\": {\"frequency\": 1, \"value\": 440150}, \"391000\": {\"frequency\": 5, \"value\": 391000}, \"201700\": {\"frequency\": 1, \"value\": 201700}, \"497500\": {\"frequency\": 1, \"value\": 497500}, \"2351956\": {\"frequency\": 1, \"value\": 2351956}, \"604000\": {\"frequency\": 7, \"value\": 604000}, \"722800\": {\"frequency\": 1, \"value\": 722800}, \"710500\": {\"frequency\": 1, \"value\": 710500}, \"251750\": {\"frequency\": 1, \"value\": 251750}, \"212625\": {\"frequency\": 1, \"value\": 212625}, \"817000\": {\"frequency\": 2, \"value\": 817000}, \"990400\": {\"frequency\": 1, \"value\": 990400}, \"259950\": {\"frequency\": 12, \"value\": 259950}, \"1030000\": {\"frequency\": 8, \"value\": 1030000}, \"1537000\": {\"frequency\": 1, \"value\": 1537000}, \"539000\": {\"frequency\": 19, \"value\": 539000}, \"1258000\": {\"frequency\": 1, \"value\": 1258000}, \"219000\": {\"frequency\": 14, \"value\": 219000}, \"325500\": {\"frequency\": 2, \"value\": 325500}, \"728725\": {\"frequency\": 1, \"value\": 728725}, \"432000\": {\"frequency\": 17, \"value\": 432000}, \"538500\": {\"frequency\": 1, \"value\": 538500}, \"882566\": {\"frequency\": 1, \"value\": 882566}, \"645000\": {\"frequency\": 40, \"value\": 645000}, \"209900\": {\"frequency\": 2, \"value\": 209900}, \"357000\": {\"frequency\": 13, \"value\": 357000}, \"858000\": {\"frequency\": 3, \"value\": 858000}, \"655000\": {\"frequency\": 32, \"value\": 655000}, \"1333000\": {\"frequency\": 1, \"value\": 1333000}, \"2095000\": {\"frequency\": 1, \"value\": 2095000}, \"1202500\": {\"frequency\": 1, \"value\": 1202500}, \"407450\": {\"frequency\": 2, \"value\": 407450}, \"153500\": {\"frequency\": 1, \"value\": 153500}, \"677790\": {\"frequency\": 1, \"value\": 677790}, \"153503\": {\"frequency\": 1, \"value\": 153503}, \"260000\": {\"frequency\": 95, \"value\": 260000}, \"1238000\": {\"frequency\": 1, \"value\": 1238000}, \"137124\": {\"frequency\": 1, \"value\": 137124}, \"439108\": {\"frequency\": 1, \"value\": 439108}, \"1406888\": {\"frequency\": 1, \"value\": 1406888}, \"833450\": {\"frequency\": 1, \"value\": 833450}, \"169900\": {\"frequency\": 1, \"value\": 169900}, \"1249000\": {\"frequency\": 2, \"value\": 1249000}, \"120750\": {\"frequency\": 1, \"value\": 120750}, \"1710000\": {\"frequency\": 1, \"value\": 1710000}, \"481203\": {\"frequency\": 1, \"value\": 481203}, \"792500\": {\"frequency\": 2, \"value\": 792500}, \"899000\": {\"frequency\": 9, \"value\": 899000}, \"832500\": {\"frequency\": 3, \"value\": 832500}, \"440250\": {\"frequency\": 1, \"value\": 440250}, \"258800\": {\"frequency\": 1, \"value\": 258800}, \"341950\": {\"frequency\": 1, \"value\": 341950}, \"333760\": {\"frequency\": 1, \"value\": 333760}, \"1380000\": {\"frequency\": 2, \"value\": 1380000}, \"808900\": {\"frequency\": 1, \"value\": 808900}, \"578550\": {\"frequency\": 1, \"value\": 578550}, \"554950\": {\"frequency\": 2, \"value\": 554950}, \"1325000\": {\"frequency\": 15, \"value\": 1325000}, \"407500\": {\"frequency\": 6, \"value\": 407500}, \"514000\": {\"frequency\": 6, \"value\": 514000}, \"222200\": {\"frequency\": 1, \"value\": 222200}, \"727000\": {\"frequency\": 3, \"value\": 727000}, \"257700\": {\"frequency\": 1, \"value\": 257700}, \"309212\": {\"frequency\": 1, \"value\": 309212}, \"169950\": {\"frequency\": 2, \"value\": 169950}, \"940000\": {\"frequency\": 13, \"value\": 940000}, \"2546000\": {\"frequency\": 1, \"value\": 2546000}, \"1054690\": {\"frequency\": 1, \"value\": 1054690}, \"432100\": {\"frequency\": 2, \"value\": 432100}, \"342000\": {\"frequency\": 21, \"value\": 342000}, \"587750\": {\"frequency\": 1, \"value\": 587750}, \"333800\": {\"frequency\": 1, \"value\": 333800}, \"431200\": {\"frequency\": 1, \"value\": 431200}, \"906000\": {\"frequency\": 2, \"value\": 906000}, \"235500\": {\"frequency\": 2, \"value\": 235500}, \"554990\": {\"frequency\": 1, \"value\": 554990}, \"546800\": {\"frequency\": 2, \"value\": 546800}, \"448500\": {\"frequency\": 3, \"value\": 448500}, \"256400\": {\"frequency\": 1, \"value\": 256400}, \"555000\": {\"frequency\": 49, \"value\": 555000}, \"399700\": {\"frequency\": 1, \"value\": 399700}, \"661500\": {\"frequency\": 1, \"value\": 661500}, \"768000\": {\"frequency\": 3, \"value\": 768000}, \"128000\": {\"frequency\": 3, \"value\": 128000}, \"464900\": {\"frequency\": 1, \"value\": 464900}, \"186375\": {\"frequency\": 1, \"value\": 186375}, \"981000\": {\"frequency\": 2, \"value\": 981000}, \"675500\": {\"frequency\": 1, \"value\": 675500}, \"522250\": {\"frequency\": 1, \"value\": 522250}, \"677900\": {\"frequency\": 1, \"value\": 677900}, \"170000\": {\"frequency\": 23, \"value\": 170000}, \"711000\": {\"frequency\": 4, \"value\": 711000}, \"1120275\": {\"frequency\": 1, \"value\": 1120275}, \"276500\": {\"frequency\": 2, \"value\": 276500}, \"533600\": {\"frequency\": 1, \"value\": 533600}, \"383000\": {\"frequency\": 17, \"value\": 383000}, \"563225\": {\"frequency\": 1, \"value\": 563225}, \"677915\": {\"frequency\": 1, \"value\": 677915}, \"899100\": {\"frequency\": 1, \"value\": 899100}, \"849950\": {\"frequency\": 1, \"value\": 849950}, \"1619999\": {\"frequency\": 1, \"value\": 1619999}, \"596000\": {\"frequency\": 3, \"value\": 596000}, \"372400\": {\"frequency\": 1, \"value\": 372400}, \"702500\": {\"frequency\": 1, \"value\": 702500}, \"600600\": {\"frequency\": 1, \"value\": 600600}, \"151600\": {\"frequency\": 1, \"value\": 151600}, \"809000\": {\"frequency\": 4, \"value\": 809000}, \"2575000\": {\"frequency\": 3, \"value\": 2575000}, \"1228000\": {\"frequency\": 1, \"value\": 1228000}, \"360000\": {\"frequency\": 96, \"value\": 360000}, \"1365000\": {\"frequency\": 4, \"value\": 1365000}, \"563250\": {\"frequency\": 1, \"value\": 563250}, \"2152500\": {\"frequency\": 1, \"value\": 2152500}, \"464950\": {\"frequency\": 5, \"value\": 464950}, \"211000\": {\"frequency\": 5, \"value\": 211000}, \"317500\": {\"frequency\": 6, \"value\": 317500}, \"424000\": {\"frequency\": 10, \"value\": 424000}, \"207200\": {\"frequency\": 1, \"value\": 207200}, \"849990\": {\"frequency\": 1, \"value\": 849990}, \"505400\": {\"frequency\": 1, \"value\": 505400}, \"637000\": {\"frequency\": 10, \"value\": 637000}, \"345100\": {\"frequency\": 1, \"value\": 345100}, \"669888\": {\"frequency\": 1, \"value\": 669888}, \"850000\": {\"frequency\": 64, \"value\": 850000}, \"380600\": {\"frequency\": 1, \"value\": 380600}, \"243800\": {\"frequency\": 1, \"value\": 243800}, \"654300\": {\"frequency\": 1, \"value\": 654300}, \"759900\": {\"frequency\": 1, \"value\": 759900}, \"252000\": {\"frequency\": 22, \"value\": 252000}, \"391265\": {\"frequency\": 1, \"value\": 391265}, \"800866\": {\"frequency\": 1, \"value\": 800866}, \"561500\": {\"frequency\": 2, \"value\": 561500}, \"358500\": {\"frequency\": 2, \"value\": 358500}, \"915557\": {\"frequency\": 1, \"value\": 915557}, \"465000\": {\"frequency\": 89, \"value\": 465000}, \"589500\": {\"frequency\": 4, \"value\": 589500}, \"571500\": {\"frequency\": 4, \"value\": 571500}, \"431750\": {\"frequency\": 1, \"value\": 431750}, \"678000\": {\"frequency\": 4, \"value\": 678000}, \"625000\": {\"frequency\": 93, \"value\": 625000}, \"374900\": {\"frequency\": 2, \"value\": 374900}, \"1564350\": {\"frequency\": 1, \"value\": 1564350}, \"1103990\": {\"frequency\": 1, \"value\": 1103990}, \"891000\": {\"frequency\": 1, \"value\": 891000}, \"432250\": {\"frequency\": 1, \"value\": 432250}, \"546940\": {\"frequency\": 1, \"value\": 546940}, \"80000\": {\"frequency\": 1, \"value\": 80000}, \"184000\": {\"frequency\": 3, \"value\": 184000}, \"751750\": {\"frequency\": 1, \"value\": 751750}, \"1662000\": {\"frequency\": 1, \"value\": 1662000}, \"293000\": {\"frequency\": 12, \"value\": 293000}, \"315000\": {\"frequency\": 111, \"value\": 315000}, \"653450\": {\"frequency\": 1, \"value\": 653450}, \"399500\": {\"frequency\": 6, \"value\": 399500}, \"415885\": {\"frequency\": 1, \"value\": 415885}, \"759950\": {\"frequency\": 2, \"value\": 759950}, \"506000\": {\"frequency\": 8, \"value\": 506000}, \"459800\": {\"frequency\": 1, \"value\": 459800}, \"807100\": {\"frequency\": 1, \"value\": 807100}, \"612500\": {\"frequency\": 4, \"value\": 612500}, \"719000\": {\"frequency\": 8, \"value\": 719000}, \"1210000\": {\"frequency\": 6, \"value\": 1210000}, \"761000\": {\"frequency\": 1, \"value\": 761000}, \"415900\": {\"frequency\": 1, \"value\": 415900}, \"366750\": {\"frequency\": 1, \"value\": 366750}, \"838000\": {\"frequency\": 3, \"value\": 838000}, \"268450\": {\"frequency\": 1, \"value\": 268450}, \"491500\": {\"frequency\": 5, \"value\": 491500}, \"374950\": {\"frequency\": 11, \"value\": 374950}, \"1145000\": {\"frequency\": 3, \"value\": 1145000}, \"481450\": {\"frequency\": 1, \"value\": 481450}, \"227500\": {\"frequency\": 2, \"value\": 227500}, \"721500\": {\"frequency\": 1, \"value\": 721500}, \"383150\": {\"frequency\": 1, \"value\": 383150}, \"334000\": {\"frequency\": 12, \"value\": 334000}, \"306888\": {\"frequency\": 2, \"value\": 306888}, \"284850\": {\"frequency\": 1, \"value\": 284850}, \"440500\": {\"frequency\": 2, \"value\": 440500}, \"759990\": {\"frequency\": 1, \"value\": 759990}, \"547000\": {\"frequency\": 6, \"value\": 547000}, \"317625\": {\"frequency\": 1, \"value\": 317625}, \"157000\": {\"frequency\": 3, \"value\": 157000}, \"653500\": {\"frequency\": 1, \"value\": 653500}, \"760000\": {\"frequency\": 51, \"value\": 760000}, \"672800\": {\"frequency\": 1, \"value\": 672800}, \"866500\": {\"frequency\": 1, \"value\": 866500}, \"760005\": {\"frequency\": 1, \"value\": 760005}, \"202950\": {\"frequency\": 1, \"value\": 202950}, \"259900\": {\"frequency\": 3, \"value\": 259900}, \"503500\": {\"frequency\": 1, \"value\": 503500}, \"415950\": {\"frequency\": 1, \"value\": 415950}, \"213800\": {\"frequency\": 1, \"value\": 213800}, \"162000\": {\"frequency\": 3, \"value\": 162000}, \"1051000\": {\"frequency\": 2, \"value\": 1051000}, \"752000\": {\"frequency\": 4, \"value\": 752000}, \"678100\": {\"frequency\": 1, \"value\": 678100}, \"276693\": {\"frequency\": 1, \"value\": 276693}, \"375000\": {\"frequency\": 138, \"value\": 375000}, \"1640000\": {\"frequency\": 2, \"value\": 1640000}, \"481500\": {\"frequency\": 2, \"value\": 481500}, \"588000\": {\"frequency\": 13, \"value\": 588000}, \"284900\": {\"frequency\": 1, \"value\": 284900}, \"235750\": {\"frequency\": 1, \"value\": 235750}, \"1825000\": {\"frequency\": 1, \"value\": 1825000}, \"907500\": {\"frequency\": 2, \"value\": 907500}, \"278226\": {\"frequency\": 1, \"value\": 278226}, \"243950\": {\"frequency\": 1, \"value\": 243950}, \"1705000\": {\"frequency\": 2, \"value\": 1705000}, \"96500\": {\"frequency\": 1, \"value\": 96500}, \"1186039\": {\"frequency\": 1, \"value\": 1186039}, \"203000\": {\"frequency\": 11, \"value\": 203000}, \"161700\": {\"frequency\": 1, \"value\": 161700}, \"309500\": {\"frequency\": 2, \"value\": 309500}, \"699900\": {\"frequency\": 3, \"value\": 699900}, \"669950\": {\"frequency\": 3, \"value\": 669950}, \"416000\": {\"frequency\": 11, \"value\": 416000}, \"2288000\": {\"frequency\": 1, \"value\": 2288000}, \"639888\": {\"frequency\": 1, \"value\": 639888}, \"194820\": {\"frequency\": 1, \"value\": 194820}, \"629000\": {\"frequency\": 7, \"value\": 629000}, \"275500\": {\"frequency\": 3, \"value\": 275500}, \"325900\": {\"frequency\": 2, \"value\": 325900}, \"276750\": {\"frequency\": 1, \"value\": 276750}, \"2890000\": {\"frequency\": 1, \"value\": 2890000}, \"1335000\": {\"frequency\": 3, \"value\": 1335000}, \"538900\": {\"frequency\": 1, \"value\": 538900}, \"284950\": {\"frequency\": 2, \"value\": 284950}, \"1055000\": {\"frequency\": 1, \"value\": 1055000}, \"756100\": {\"frequency\": 1, \"value\": 756100}, \"497950\": {\"frequency\": 1, \"value\": 497950}, \"244000\": {\"frequency\": 12, \"value\": 244000}, \"350500\": {\"frequency\": 5, \"value\": 350500}, \"301350\": {\"frequency\": 1, \"value\": 301350}, \"457000\": {\"frequency\": 11, \"value\": 457000}, \"212700\": {\"frequency\": 1, \"value\": 212700}, \"1635000\": {\"frequency\": 1, \"value\": 1635000}, \"563500\": {\"frequency\": 5, \"value\": 563500}, \"882990\": {\"frequency\": 1, \"value\": 882990}, \"670000\": {\"frequency\": 34, \"value\": 670000}, \"2750000\": {\"frequency\": 3, \"value\": 2750000}, \"776500\": {\"frequency\": 1, \"value\": 776500}, \"317750\": {\"frequency\": 1, \"value\": 317750}, \"883000\": {\"frequency\": 4, \"value\": 883000}, \"283700\": {\"frequency\": 1, \"value\": 283700}, \"688100\": {\"frequency\": 1, \"value\": 688100}, \"637250\": {\"frequency\": 1, \"value\": 637250}, \"178500\": {\"frequency\": 5, \"value\": 178500}, \"285000\": {\"frequency\": 80, \"value\": 285000}, \"559500\": {\"frequency\": 2, \"value\": 559500}, \"391500\": {\"frequency\": 3, \"value\": 391500}, \"498000\": {\"frequency\": 10, \"value\": 498000}, \"858450\": {\"frequency\": 2, \"value\": 858450}, \"430000\": {\"frequency\": 91, \"value\": 430000}, \"194900\": {\"frequency\": 1, \"value\": 194900}, \"923990\": {\"frequency\": 1, \"value\": 923990}, \"1735000\": {\"frequency\": 4, \"value\": 1735000}, \"409316\": {\"frequency\": 1, \"value\": 409316}, \"235867\": {\"frequency\": 1, \"value\": 235867}, \"817500\": {\"frequency\": 3, \"value\": 817500}, \"924000\": {\"frequency\": 2, \"value\": 924000}, \"1690000\": {\"frequency\": 2, \"value\": 1690000}, \"465250\": {\"frequency\": 1, \"value\": 465250}, \"268643\": {\"frequency\": 1, \"value\": 268643}, \"416100\": {\"frequency\": 1, \"value\": 416100}, \"511718\": {\"frequency\": 1, \"value\": 511718}, \"653675\": {\"frequency\": 1, \"value\": 653675}, \"219500\": {\"frequency\": 2, \"value\": 219500}, \"579950\": {\"frequency\": 5, \"value\": 579950}, \"326000\": {\"frequency\": 11, \"value\": 326000}, \"424305\": {\"frequency\": 1, \"value\": 424305}, \"432500\": {\"frequency\": 12, \"value\": 432500}, \"334200\": {\"frequency\": 1, \"value\": 334200}, \"645500\": {\"frequency\": 3, \"value\": 645500}, \"1776000\": {\"frequency\": 1, \"value\": 1776000}, \"296000\": {\"frequency\": 7, \"value\": 296000}, \"253400\": {\"frequency\": 1, \"value\": 253400}, \"1620000\": {\"frequency\": 3, \"value\": 1620000}, \"965000\": {\"frequency\": 9, \"value\": 965000}, \"843500\": {\"frequency\": 2, \"value\": 843500}, \"675900\": {\"frequency\": 1, \"value\": 675900}, \"154000\": {\"frequency\": 2, \"value\": 154000}, \"2415000\": {\"frequency\": 1, \"value\": 2415000}, \"358803\": {\"frequency\": 1, \"value\": 358803}, \"825750\": {\"frequency\": 1, \"value\": 825750}, \"613200\": {\"frequency\": 1, \"value\": 613200}, \"367000\": {\"frequency\": 9, \"value\": 367000}, \"1168000\": {\"frequency\": 1, \"value\": 1168000}, \"476000\": {\"frequency\": 9, \"value\": 476000}, \"580000\": {\"frequency\": 75, \"value\": 580000}, \"716528\": {\"frequency\": 1, \"value\": 716528}, \"276900\": {\"frequency\": 3, \"value\": 276900}, \"469950\": {\"frequency\": 8, \"value\": 469950}, \"793000\": {\"frequency\": 1, \"value\": 793000}, \"489900\": {\"frequency\": 2, \"value\": 489900}, \"420200\": {\"frequency\": 1, \"value\": 420200}, \"194990\": {\"frequency\": 1, \"value\": 194990}, \"342450\": {\"frequency\": 1, \"value\": 342450}, \"1112500\": {\"frequency\": 1, \"value\": 1112500}, \"321950\": {\"frequency\": 1, \"value\": 321950}, \"653750\": {\"frequency\": 1, \"value\": 653750}, \"195000\": {\"frequency\": 32, \"value\": 195000}, \"760250\": {\"frequency\": 1, \"value\": 760250}, \"301500\": {\"frequency\": 2, \"value\": 301500}, \"937500\": {\"frequency\": 4, \"value\": 937500}, \"408000\": {\"frequency\": 14, \"value\": 408000}, \"1206688\": {\"frequency\": 1, \"value\": 1206688}, \"514500\": {\"frequency\": 1, \"value\": 514500}, \"335606\": {\"frequency\": 1, \"value\": 335606}, \"874950\": {\"frequency\": 1, \"value\": 874950}, \"621000\": {\"frequency\": 3, \"value\": 621000}, \"727500\": {\"frequency\": 2, \"value\": 727500}, \"268750\": {\"frequency\": 1, \"value\": 268750}, \"834000\": {\"frequency\": 2, \"value\": 834000}, \"1675000\": {\"frequency\": 4, \"value\": 1675000}, \"580050\": {\"frequency\": 1, \"value\": 580050}, \"326100\": {\"frequency\": 1, \"value\": 326100}, \"771150\": {\"frequency\": 1, \"value\": 771150}, \"533112\": {\"frequency\": 1, \"value\": 533112}, \"1047000\": {\"frequency\": 1, \"value\": 1047000}, \"686500\": {\"frequency\": 1, \"value\": 686500}, \"1563100\": {\"frequency\": 1, \"value\": 1563100}, \"489950\": {\"frequency\": 8, \"value\": 489950}, \"1260000\": {\"frequency\": 6, \"value\": 1260000}, \"1234000\": {\"frequency\": 1, \"value\": 1234000}, \"1156000\": {\"frequency\": 1, \"value\": 1156000}, \"342500\": {\"frequency\": 6, \"value\": 342500}, \"449000\": {\"frequency\": 18, \"value\": 449000}, \"757500\": {\"frequency\": 2, \"value\": 757500}, \"1014250\": {\"frequency\": 1, \"value\": 1014250}, \"907687\": {\"frequency\": 1, \"value\": 907687}, \"555500\": {\"frequency\": 1, \"value\": 555500}, \"365650\": {\"frequency\": 1, \"value\": 365650}, \"3168750\": {\"frequency\": 1, \"value\": 3168750}, \"285167\": {\"frequency\": 1, \"value\": 285167}, \"866800\": {\"frequency\": 1, \"value\": 866800}, \"281000\": {\"frequency\": 9, \"value\": 281000}, \"768500\": {\"frequency\": 1, \"value\": 768500}, \"1153000\": {\"frequency\": 1, \"value\": 1153000}, \"104950\": {\"frequency\": 1, \"value\": 104950}, \"1899000\": {\"frequency\": 1, \"value\": 1899000}, \"214100\": {\"frequency\": 1, \"value\": 214100}, \"571900\": {\"frequency\": 1, \"value\": 571900}, \"317950\": {\"frequency\": 1, \"value\": 317950}, \"888000\": {\"frequency\": 1, \"value\": 888000}, \"2400000\": {\"frequency\": 8, \"value\": 2400000}, \"3395000\": {\"frequency\": 1, \"value\": 3395000}, \"170500\": {\"frequency\": 2, \"value\": 170500}, \"489990\": {\"frequency\": 1, \"value\": 489990}, \"277000\": {\"frequency\": 9, \"value\": 277000}, \"182700\": {\"frequency\": 1, \"value\": 182700}, \"145600\": {\"frequency\": 1, \"value\": 145600}, \"2538000\": {\"frequency\": 1, \"value\": 2538000}, \"627800\": {\"frequency\": 1, \"value\": 627800}, \"596500\": {\"frequency\": 1, \"value\": 596500}, \"516200\": {\"frequency\": 1, \"value\": 516200}, \"399895\": {\"frequency\": 1, \"value\": 399895}, \"703000\": {\"frequency\": 1, \"value\": 703000}, \"1482500\": {\"frequency\": 1, \"value\": 1482500}, \"399900\": {\"frequency\": 4, \"value\": 399900}, \"416286\": {\"frequency\": 1, \"value\": 416286}, \"1939999\": {\"frequency\": 1, \"value\": 1939999}, \"506400\": {\"frequency\": 1, \"value\": 506400}, \"289200\": {\"frequency\": 1, \"value\": 289200}, \"703011\": {\"frequency\": 1, \"value\": 703011}, \"129888\": {\"frequency\": 1, \"value\": 129888}, \"1289990\": {\"frequency\": 1, \"value\": 1289990}, \"563750\": {\"frequency\": 1, \"value\": 563750}, \"580135\": {\"frequency\": 1, \"value\": 580135}, \"105000\": {\"frequency\": 2, \"value\": 105000}, \"529500\": {\"frequency\": 3, \"value\": 529500}, \"326188\": {\"frequency\": 1, \"value\": 326188}, \"555565\": {\"frequency\": 1, \"value\": 555565}, \"260656\": {\"frequency\": 1, \"value\": 260656}, \"577288\": {\"frequency\": 1, \"value\": 577288}, \"424500\": {\"frequency\": 2, \"value\": 424500}, \"784950\": {\"frequency\": 1, \"value\": 784950}, \"531000\": {\"frequency\": 5, \"value\": 531000}, \"637500\": {\"frequency\": 2, \"value\": 637500}, \"413450\": {\"frequency\": 1, \"value\": 413450}, \"997950\": {\"frequency\": 1, \"value\": 997950}, \"744000\": {\"frequency\": 5, \"value\": 744000}, \"1148000\": {\"frequency\": 1, \"value\": 1148000}, \"375500\": {\"frequency\": 2, \"value\": 375500}, \"186950\": {\"frequency\": 1, \"value\": 186950}, \"957000\": {\"frequency\": 3, \"value\": 957000}, \"700000\": {\"frequency\": 89, \"value\": 700000}, \"585888\": {\"frequency\": 1, \"value\": 585888}, \"399950\": {\"frequency\": 35, \"value\": 399950}, \"146000\": {\"frequency\": 2, \"value\": 146000}, \"621138\": {\"frequency\": 1, \"value\": 621138}, \"252500\": {\"frequency\": 10, \"value\": 252500}, \"1959000\": {\"frequency\": 1, \"value\": 1959000}, \"359000\": {\"frequency\": 22, \"value\": 359000}, \"705640\": {\"frequency\": 1, \"value\": 705640}, \"399963\": {\"frequency\": 1, \"value\": 399963}, \"465500\": {\"frequency\": 1, \"value\": 465500}, \"572000\": {\"frequency\": 10, \"value\": 572000}, \"266000\": {\"frequency\": 8, \"value\": 266000}, \"686000\": {\"frequency\": 3, \"value\": 686000}, \"1702500\": {\"frequency\": 1, \"value\": 1702500}, \"785000\": {\"frequency\": 27, \"value\": 785000}, \"403900\": {\"frequency\": 1, \"value\": 403900}, \"326250\": {\"frequency\": 1, \"value\": 326250}, \"891500\": {\"frequency\": 1, \"value\": 891500}, \"504600\": {\"frequency\": 1, \"value\": 504600}, \"998000\": {\"frequency\": 9, \"value\": 998000}, \"2385000\": {\"frequency\": 1, \"value\": 2385000}, \"2479000\": {\"frequency\": 1, \"value\": 2479000}, \"1104500\": {\"frequency\": 1, \"value\": 1104500}, \"252350\": {\"frequency\": 1, \"value\": 252350}, \"234000\": {\"frequency\": 19, \"value\": 234000}, \"187000\": {\"frequency\": 6, \"value\": 187000}, \"700180\": {\"frequency\": 1, \"value\": 700180}, \"383610\": {\"frequency\": 1, \"value\": 383610}, \"399995\": {\"frequency\": 1, \"value\": 399995}, \"293500\": {\"frequency\": 1, \"value\": 293500}, \"400000\": {\"frequency\": 145, \"value\": 400000}, \"612995\": {\"frequency\": 1, \"value\": 612995}, \"506500\": {\"frequency\": 1, \"value\": 506500}, \"1578000\": {\"frequency\": 1, \"value\": 1578000}, \"408200\": {\"frequency\": 1, \"value\": 408200}, \"309900\": {\"frequency\": 2, \"value\": 309900}, \"260750\": {\"frequency\": 1, \"value\": 260750}, \"826000\": {\"frequency\": 4, \"value\": 826000}, \"1346400\": {\"frequency\": 1, \"value\": 1346400}, \"277140\": {\"frequency\": 1, \"value\": 277140}, \"268950\": {\"frequency\": 1, \"value\": 268950}, \"1039000\": {\"frequency\": 2, \"value\": 1039000}, \"1040892\": {\"frequency\": 1, \"value\": 1040892}, \"3300000\": {\"frequency\": 4, \"value\": 3300000}, \"754800\": {\"frequency\": 1, \"value\": 754800}, \"334500\": {\"frequency\": 3, \"value\": 334500}, \"1465000\": {\"frequency\": 4, \"value\": 1465000}, \"137900\": {\"frequency\": 1, \"value\": 137900}, \"309933\": {\"frequency\": 1, \"value\": 309933}, \"1112750\": {\"frequency\": 1, \"value\": 1112750}, \"654000\": {\"frequency\": 6, \"value\": 654000}, \"162248\": {\"frequency\": 1, \"value\": 162248}, \"760500\": {\"frequency\": 2, \"value\": 760500}, \"656500\": {\"frequency\": 1, \"value\": 656500}, \"742500\": {\"frequency\": 3, \"value\": 742500}, \"309950\": {\"frequency\": 9, \"value\": 309950}, \"779380\": {\"frequency\": 1, \"value\": 779380}, \"1080000\": {\"frequency\": 9, \"value\": 1080000}, \"5300000\": {\"frequency\": 1, \"value\": 5300000}, \"162500\": {\"frequency\": 2, \"value\": 162500}, \"417400\": {\"frequency\": 1, \"value\": 417400}, \"624900\": {\"frequency\": 1, \"value\": 624900}, \"269000\": {\"frequency\": 19, \"value\": 269000}, \"829900\": {\"frequency\": 1, \"value\": 829900}, \"989900\": {\"frequency\": 1, \"value\": 989900}, \"1506000\": {\"frequency\": 1, \"value\": 1506000}, \"455800\": {\"frequency\": 1, \"value\": 455800}, \"572115\": {\"frequency\": 1, \"value\": 572115}, \"588500\": {\"frequency\": 1, \"value\": 588500}, \"575950\": {\"frequency\": 1, \"value\": 575950}, \"334550\": {\"frequency\": 1, \"value\": 334550}, \"271920\": {\"frequency\": 1, \"value\": 271920}, \"695000\": {\"frequency\": 35, \"value\": 695000}, \"593700\": {\"frequency\": 1, \"value\": 593700}, \"648360\": {\"frequency\": 1, \"value\": 648360}, \"801501\": {\"frequency\": 1, \"value\": 801501}, \"449250\": {\"frequency\": 1, \"value\": 449250}, \"599832\": {\"frequency\": 1, \"value\": 599832}, \"555750\": {\"frequency\": 1, \"value\": 555750}, \"251000\": {\"frequency\": 9, \"value\": 251000}, \"1227500\": {\"frequency\": 1, \"value\": 1227500}, \"563950\": {\"frequency\": 1, \"value\": 563950}, \"310000\": {\"frequency\": 101, \"value\": 310000}, \"188200\": {\"frequency\": 1, \"value\": 188200}, \"572800\": {\"frequency\": 1, \"value\": 572800}, \"416500\": {\"frequency\": 2, \"value\": 416500}, \"771000\": {\"frequency\": 3, \"value\": 771000}, \"694000\": {\"frequency\": 1, \"value\": 694000}, \"523000\": {\"frequency\": 7, \"value\": 523000}, \"302200\": {\"frequency\": 1, \"value\": 302200}, \"219900\": {\"frequency\": 5, \"value\": 219900}, \"241450\": {\"frequency\": 1, \"value\": 241450}, \"1378600\": {\"frequency\": 1, \"value\": 1378600}, \"1760000\": {\"frequency\": 1, \"value\": 1760000}, \"976000\": {\"frequency\": 1, \"value\": 976000}, \"432900\": {\"frequency\": 1, \"value\": 432900}, \"949000\": {\"frequency\": 3, \"value\": 949000}, \"499500\": {\"frequency\": 2, \"value\": 499500}, \"363990\": {\"frequency\": 1, \"value\": 363990}, \"498445\": {\"frequency\": 1, \"value\": 498445}, \"998160\": {\"frequency\": 1, \"value\": 998160}, \"244500\": {\"frequency\": 3, \"value\": 244500}, \"336600\": {\"frequency\": 1, \"value\": 336600}, \"604950\": {\"frequency\": 1, \"value\": 604950}, \"199129\": {\"frequency\": 1, \"value\": 199129}, \"1375000\": {\"frequency\": 6, \"value\": 1375000}, \"570500\": {\"frequency\": 1, \"value\": 570500}, \"580379\": {\"frequency\": 1, \"value\": 580379}, \"457500\": {\"frequency\": 6, \"value\": 457500}, \"564000\": {\"frequency\": 6, \"value\": 564000}, \"298800\": {\"frequency\": 1, \"value\": 298800}, \"277284\": {\"frequency\": 1, \"value\": 277284}, \"989990\": {\"frequency\": 1, \"value\": 989990}, \"777000\": {\"frequency\": 3, \"value\": 777000}, \"269100\": {\"frequency\": 1, \"value\": 269100}, \"219950\": {\"frequency\": 14, \"value\": 219950}, \"990000\": {\"frequency\": 11, \"value\": 990000}, \"2725000\": {\"frequency\": 1, \"value\": 2725000}, \"1096500\": {\"frequency\": 1, \"value\": 1096500}, \"179000\": {\"frequency\": 4, \"value\": 179000}, \"200500\": {\"frequency\": 2, \"value\": 200500}, \"1309500\": {\"frequency\": 2, \"value\": 1309500}, \"218250\": {\"frequency\": 2, \"value\": 218250}, \"425500\": {\"frequency\": 2, \"value\": 425500}, \"392000\": {\"frequency\": 14, \"value\": 392000}, \"236000\": {\"frequency\": 8, \"value\": 236000}, \"324747\": {\"frequency\": 1, \"value\": 324747}, \"498500\": {\"frequency\": 2, \"value\": 498500}, \"429592\": {\"frequency\": 1, \"value\": 429592}, \"1629000\": {\"frequency\": 1, \"value\": 1629000}, \"783500\": {\"frequency\": 1, \"value\": 783500}, \"605004\": {\"frequency\": 1, \"value\": 605004}, \"252750\": {\"frequency\": 1, \"value\": 252750}, \"818000\": {\"frequency\": 4, \"value\": 818000}, \"245560\": {\"frequency\": 1, \"value\": 245560}, \"465750\": {\"frequency\": 2, \"value\": 465750}, \"1031000\": {\"frequency\": 2, \"value\": 1031000}, \"1438888\": {\"frequency\": 1, \"value\": 1438888}, \"1137500\": {\"frequency\": 1, \"value\": 1137500}, \"220000\": {\"frequency\": 55, \"value\": 220000}, \"378000\": {\"frequency\": 16, \"value\": 378000}, \"326500\": {\"frequency\": 2, \"value\": 326500}, \"1436000\": {\"frequency\": 1, \"value\": 1436000}, \"637800\": {\"frequency\": 1, \"value\": 637800}, \"1437500\": {\"frequency\": 1, \"value\": 1437500}, \"539500\": {\"frequency\": 3, \"value\": 539500}, \"462600\": {\"frequency\": 2, \"value\": 462600}, \"1670000\": {\"frequency\": 1, \"value\": 1670000}, \"961000\": {\"frequency\": 1, \"value\": 961000}, \"187250\": {\"frequency\": 1, \"value\": 187250}, \"752500\": {\"frequency\": 3, \"value\": 752500}, \"261950\": {\"frequency\": 1, \"value\": 261950}, \"473975\": {\"frequency\": 1, \"value\": 473975}, \"859000\": {\"frequency\": 2, \"value\": 859000}, \"225800\": {\"frequency\": 1, \"value\": 225800}, \"146300\": {\"frequency\": 1, \"value\": 146300}, \"301950\": {\"frequency\": 1, \"value\": 301950}, \"1072000\": {\"frequency\": 1, \"value\": 1072000}, \"724800\": {\"frequency\": 1, \"value\": 724800}, \"1895000\": {\"frequency\": 1, \"value\": 1895000}, \"154500\": {\"frequency\": 1, \"value\": 154500}, \"514950\": {\"frequency\": 1, \"value\": 514950}, \"638000\": {\"frequency\": 6, \"value\": 638000}, \"261000\": {\"frequency\": 10, \"value\": 261000}, \"367500\": {\"frequency\": 11, \"value\": 367500}, \"850830\": {\"frequency\": 1, \"value\": 850830}, \"367400\": {\"frequency\": 1, \"value\": 367400}, \"474000\": {\"frequency\": 6, \"value\": 474000}, \"1615000\": {\"frequency\": 1, \"value\": 1615000}, \"580500\": {\"frequency\": 1, \"value\": 580500}, \"545800\": {\"frequency\": 1, \"value\": 545800}, \"687000\": {\"frequency\": 2, \"value\": 687000}, \"637850\": {\"frequency\": 1, \"value\": 637850}, \"383900\": {\"frequency\": 1, \"value\": 383900}, \"184900\": {\"frequency\": 2, \"value\": 184900}, \"900000\": {\"frequency\": 40, \"value\": 900000}, \"354800\": {\"frequency\": 1, \"value\": 354800}, \"187300\": {\"frequency\": 1, \"value\": 187300}, \"687015\": {\"frequency\": 1, \"value\": 687015}, \"89000\": {\"frequency\": 1, \"value\": 89000}, \"195500\": {\"frequency\": 1, \"value\": 195500}, \"760750\": {\"frequency\": 1, \"value\": 760750}, \"302000\": {\"frequency\": 17, \"value\": 302000}, \"733000\": {\"frequency\": 7, \"value\": 733000}, \"408500\": {\"frequency\": 1, \"value\": 408500}, \"515000\": {\"frequency\": 83, \"value\": 515000}, \"408506\": {\"frequency\": 1, \"value\": 408506}, \"621500\": {\"frequency\": 2, \"value\": 621500}, \"728000\": {\"frequency\": 4, \"value\": 728000}, \"804000\": {\"frequency\": 2, \"value\": 804000}, \"834500\": {\"frequency\": 1, \"value\": 834500}, \"605125\": {\"frequency\": 1, \"value\": 605125}, \"932808\": {\"frequency\": 1, \"value\": 932808}, \"392137\": {\"frequency\": 1, \"value\": 392137}, \"1047500\": {\"frequency\": 1, \"value\": 1047500}, \"130000\": {\"frequency\": 8, \"value\": 130000}, \"875000\": {\"frequency\": 39, \"value\": 875000}, \"285650\": {\"frequency\": 1, \"value\": 285650}, \"236500\": {\"frequency\": 1, \"value\": 236500}, \"343000\": {\"frequency\": 16, \"value\": 343000}, \"808100\": {\"frequency\": 1, \"value\": 808100}, \"383962\": {\"frequency\": 1, \"value\": 383962}, \"449500\": {\"frequency\": 8, \"value\": 449500}, \"809950\": {\"frequency\": 3, \"value\": 809950}, \"556000\": {\"frequency\": 9, \"value\": 556000}, \"946000\": {\"frequency\": 1, \"value\": 946000}, \"623000\": {\"frequency\": 6, \"value\": 623000}, \"174000\": {\"frequency\": 2, \"value\": 174000}, \"662500\": {\"frequency\": 3, \"value\": 662500}, \"769000\": {\"frequency\": 4, \"value\": 769000}, \"834538\": {\"frequency\": 1, \"value\": 834538}, \"302059\": {\"frequency\": 1, \"value\": 302059}, \"1511250\": {\"frequency\": 1, \"value\": 1511250}, \"515055\": {\"frequency\": 1, \"value\": 515055}, \"982000\": {\"frequency\": 2, \"value\": 982000}, \"914600\": {\"frequency\": 1, \"value\": 914600}, \"728050\": {\"frequency\": 1, \"value\": 728050}, \"620000\": {\"frequency\": 56, \"value\": 620000}, \"424950\": {\"frequency\": 8, \"value\": 424950}, \"400375\": {\"frequency\": 2, \"value\": 400375}, \"1195000\": {\"frequency\": 7, \"value\": 1195000}, \"847700\": {\"frequency\": 1, \"value\": 847700}, \"1149000\": {\"frequency\": 2, \"value\": 1149000}, \"277500\": {\"frequency\": 8, \"value\": 277500}, \"384000\": {\"frequency\": 7, \"value\": 384000}, \"1600000\": {\"frequency\": 18, \"value\": 1600000}, \"334850\": {\"frequency\": 1, \"value\": 334850}, \"490500\": {\"frequency\": 1, \"value\": 490500}, \"597000\": {\"frequency\": 5, \"value\": 597000}, \"2147500\": {\"frequency\": 1, \"value\": 2147500}, \"499431\": {\"frequency\": 1, \"value\": 499431}, \"5110800\": {\"frequency\": 1, \"value\": 5110800}, \"749400\": {\"frequency\": 1, \"value\": 749400}, \"302100\": {\"frequency\": 1, \"value\": 302100}, \"498800\": {\"frequency\": 1, \"value\": 498800}, \"1063000\": {\"frequency\": 1, \"value\": 1063000}, \"105500\": {\"frequency\": 1, \"value\": 105500}, \"465950\": {\"frequency\": 1, \"value\": 465950}, \"212000\": {\"frequency\": 18, \"value\": 212000}, \"206000\": {\"frequency\": 13, \"value\": 206000}, \"318500\": {\"frequency\": 2, \"value\": 318500}, \"433190\": {\"frequency\": 1, \"value\": 433190}, \"425000\": {\"frequency\": 150, \"value\": 425000}, \"651100\": {\"frequency\": 1, \"value\": 651100}, \"531500\": {\"frequency\": 1, \"value\": 531500}, \"464050\": {\"frequency\": 1, \"value\": 464050}, \"1240000\": {\"frequency\": 8, \"value\": 1240000}, \"433200\": {\"frequency\": 1, \"value\": 433200}, \"379400\": {\"frequency\": 1, \"value\": 379400}, \"277554\": {\"frequency\": 1, \"value\": 277554}, \"334900\": {\"frequency\": 2, \"value\": 334900}, \"776000\": {\"frequency\": 2, \"value\": 776000}, \"1875000\": {\"frequency\": 4, \"value\": 1875000}, \"552625\": {\"frequency\": 1, \"value\": 552625}, \"957500\": {\"frequency\": 1, \"value\": 957500}, \"219200\": {\"frequency\": 1, \"value\": 219200}, \"499160\": {\"frequency\": 1, \"value\": 499160}, \"506950\": {\"frequency\": 1, \"value\": 506950}, \"253000\": {\"frequency\": 15, \"value\": 253000}, \"359500\": {\"frequency\": 5, \"value\": 359500}, \"719950\": {\"frequency\": 2, \"value\": 719950}, \"466000\": {\"frequency\": 5, \"value\": 466000}, \"931000\": {\"frequency\": 1, \"value\": 931000}, \"572500\": {\"frequency\": 5, \"value\": 572500}, \"679000\": {\"frequency\": 8, \"value\": 679000}, \"785500\": {\"frequency\": 1, \"value\": 785500}, \"462608\": {\"frequency\": 1, \"value\": 462608}, \"711777\": {\"frequency\": 1, \"value\": 711777}, \"153000\": {\"frequency\": 4, \"value\": 153000}, \"998500\": {\"frequency\": 2, \"value\": 998500}, \"334950\": {\"frequency\": 8, \"value\": 334950}, \"465425\": {\"frequency\": 1, \"value\": 465425}, \"81000\": {\"frequency\": 1, \"value\": 81000}, \"6885000\": {\"frequency\": 1, \"value\": 6885000}, \"187500\": {\"frequency\": 2, \"value\": 187500}, \"294000\": {\"frequency\": 17, \"value\": 294000}, \"356200\": {\"frequency\": 1, \"value\": 356200}, \"1272500\": {\"frequency\": 1, \"value\": 1272500}, \"195700\": {\"frequency\": 1, \"value\": 195700}, \"507000\": {\"frequency\": 11, \"value\": 507000}, \"309780\": {\"frequency\": 1, \"value\": 309780}, \"294010\": {\"frequency\": 1, \"value\": 294010}, \"1637500\": {\"frequency\": 1, \"value\": 1637500}, \"351358\": {\"frequency\": 1, \"value\": 351358}, \"720000\": {\"frequency\": 38, \"value\": 720000}, \"427200\": {\"frequency\": 1, \"value\": 427200}, \"309600\": {\"frequency\": 1, \"value\": 309600}, \"164808\": {\"frequency\": 1, \"value\": 164808}, \"162950\": {\"frequency\": 1, \"value\": 162950}, \"933000\": {\"frequency\": 1, \"value\": 933000}, \"334990\": {\"frequency\": 1, \"value\": 334990}, \"680200\": {\"frequency\": 1, \"value\": 680200}, \"122000\": {\"frequency\": 4, \"value\": 122000}, \"1727000\": {\"frequency\": 1, \"value\": 1727000}, \"228500\": {\"frequency\": 1, \"value\": 228500}, \"334998\": {\"frequency\": 1, \"value\": 334998}, \"334999\": {\"frequency\": 1, \"value\": 334999}, \"335000\": {\"frequency\": 98, \"value\": 335000}, \"636100\": {\"frequency\": 1, \"value\": 636100}, \"332220\": {\"frequency\": 1, \"value\": 332220}, \"441500\": {\"frequency\": 4, \"value\": 441500}, \"548000\": {\"frequency\": 8, \"value\": 548000}, \"367777\": {\"frequency\": 1, \"value\": 367777}, \"244900\": {\"frequency\": 2, \"value\": 244900}, \"1965221\": {\"frequency\": 1, \"value\": 1965221}, \"593777\": {\"frequency\": 1, \"value\": 593777}, \"1785000\": {\"frequency\": 1, \"value\": 1785000}, \"1321500\": {\"frequency\": 1, \"value\": 1321500}, \"1488000\": {\"frequency\": 2, \"value\": 1488000}, \"662700\": {\"frequency\": 1, \"value\": 662700}, \"253101\": {\"frequency\": 1, \"value\": 253101}, \"1998000\": {\"frequency\": 1, \"value\": 1998000}, \"893880\": {\"frequency\": 1, \"value\": 893880}, \"163000\": {\"frequency\": 2, \"value\": 163000}, \"778100\": {\"frequency\": 1, \"value\": 778100}, \"1430800\": {\"frequency\": 1, \"value\": 1430800}, \"269500\": {\"frequency\": 7, \"value\": 269500}, \"629950\": {\"frequency\": 3, \"value\": 629950}, \"314500\": {\"frequency\": 4, \"value\": 314500}, \"1400000\": {\"frequency\": 23, \"value\": 1400000}, \"4500000\": {\"frequency\": 1, \"value\": 4500000}, \"523460\": {\"frequency\": 1, \"value\": 523460}, \"638150\": {\"frequency\": 1, \"value\": 638150}, \"589000\": {\"frequency\": 18, \"value\": 589000}, \"302282\": {\"frequency\": 1, \"value\": 302282}, \"3278000\": {\"frequency\": 1, \"value\": 3278000}, \"695500\": {\"frequency\": 1, \"value\": 695500}, \"384205\": {\"frequency\": 1, \"value\": 384205}, \"2850000\": {\"frequency\": 1, \"value\": 2850000}, \"266200\": {\"frequency\": 1, \"value\": 266200}, \"548050\": {\"frequency\": 1, \"value\": 548050}, \"244950\": {\"frequency\": 1, \"value\": 244950}, \"762400\": {\"frequency\": 1, \"value\": 762400}, \"1015000\": {\"frequency\": 9, \"value\": 1015000}, \"302300\": {\"frequency\": 1, \"value\": 302300}, \"204000\": {\"frequency\": 6, \"value\": 204000}, \"1570000\": {\"frequency\": 3, \"value\": 1570000}, \"564450\": {\"frequency\": 1, \"value\": 564450}, \"670950\": {\"frequency\": 1, \"value\": 670950}, \"236775\": {\"frequency\": 1, \"value\": 236775}, \"417000\": {\"frequency\": 16, \"value\": 417000}, \"572650\": {\"frequency\": 1, \"value\": 572650}, \"752875\": {\"frequency\": 1, \"value\": 752875}, \"318700\": {\"frequency\": 1, \"value\": 318700}, \"2532000\": {\"frequency\": 1, \"value\": 2532000}, \"731688\": {\"frequency\": 1, \"value\": 731688}, \"1476000\": {\"frequency\": 1, \"value\": 1476000}, \"736500\": {\"frequency\": 2, \"value\": 736500}, \"129000\": {\"frequency\": 3, \"value\": 129000}, \"843000\": {\"frequency\": 1, \"value\": 843000}, \"433000\": {\"frequency\": 10, \"value\": 433000}, \"343888\": {\"frequency\": 1, \"value\": 343888}, \"539900\": {\"frequency\": 3, \"value\": 539900}, \"285950\": {\"frequency\": 2, \"value\": 285950}, \"176000\": {\"frequency\": 4, \"value\": 176000}, \"392450\": {\"frequency\": 1, \"value\": 392450}, \"126000\": {\"frequency\": 1, \"value\": 126000}, \"245000\": {\"frequency\": 89, \"value\": 245000}, \"556300\": {\"frequency\": 1, \"value\": 556300}, \"304400\": {\"frequency\": 1, \"value\": 304400}, \"458000\": {\"frequency\": 13, \"value\": 458000}, \"759000\": {\"frequency\": 7, \"value\": 759000}, \"327555\": {\"frequency\": 1, \"value\": 327555}, \"564500\": {\"frequency\": 2, \"value\": 564500}, \"671000\": {\"frequency\": 2, \"value\": 671000}, \"794500\": {\"frequency\": 1, \"value\": 794500}, \"703770\": {\"frequency\": 1, \"value\": 703770}, \"367899\": {\"frequency\": 1, \"value\": 367899}, \"318000\": {\"frequency\": 9, \"value\": 318000}, \"760369\": {\"frequency\": 1, \"value\": 760369}, \"720168\": {\"frequency\": 1, \"value\": 720168}, \"638250\": {\"frequency\": 1, \"value\": 638250}, \"179500\": {\"frequency\": 2, \"value\": 179500}, \"539950\": {\"frequency\": 11, \"value\": 539950}, \"250600\": {\"frequency\": 1, \"value\": 250600}, \"1310000\": {\"frequency\": 3, \"value\": 1310000}, \"1925000\": {\"frequency\": 3, \"value\": 1925000}, \"392500\": {\"frequency\": 10, \"value\": 392500}, \"499000\": {\"frequency\": 33, \"value\": 499000}, \"605500\": {\"frequency\": 1, \"value\": 605500}, \"1490000\": {\"frequency\": 3, \"value\": 1490000}, \"710800\": {\"frequency\": 1, \"value\": 710800}, \"818500\": {\"frequency\": 1, \"value\": 818500}, \"310597\": {\"frequency\": 1, \"value\": 310597}, \"154950\": {\"frequency\": 1, \"value\": 154950}, \"925000\": {\"frequency\": 35, \"value\": 925000}, \"290700\": {\"frequency\": 1, \"value\": 290700}, \"1236300\": {\"frequency\": 1, \"value\": 1236300}, \"326989\": {\"frequency\": 1, \"value\": 326989}, \"597326\": {\"frequency\": 1, \"value\": 597326}, \"114000\": {\"frequency\": 1, \"value\": 114000}, \"1555000\": {\"frequency\": 2, \"value\": 1555000}, \"326995\": {\"frequency\": 1, \"value\": 326995}, \"220500\": {\"frequency\": 1, \"value\": 220500}, \"433495\": {\"frequency\": 1, \"value\": 433495}, \"327000\": {\"frequency\": 14, \"value\": 327000}, \"433500\": {\"frequency\": 3, \"value\": 433500}, \"540000\": {\"frequency\": 78, \"value\": 540000}, \"2650000\": {\"frequency\": 1, \"value\": 2650000}, \"359782\": {\"frequency\": 1, \"value\": 359782}, \"753000\": {\"frequency\": 5, \"value\": 753000}, \"535100\": {\"frequency\": 1, \"value\": 535100}, \"1297000\": {\"frequency\": 1, \"value\": 1297000}, \"449900\": {\"frequency\": 2, \"value\": 449900}, \"310950\": {\"frequency\": 1, \"value\": 310950}, \"966000\": {\"frequency\": 1, \"value\": 966000}, \"263400\": {\"frequency\": 1, \"value\": 263400}, \"507250\": {\"frequency\": 2, \"value\": 507250}, \"1072500\": {\"frequency\": 1, \"value\": 1072500}, \"1185001\": {\"frequency\": 1, \"value\": 1185001}, \"155000\": {\"frequency\": 8, \"value\": 155000}, \"1088889\": {\"frequency\": 1, \"value\": 1088889}, \"310650\": {\"frequency\": 1, \"value\": 310650}, \"261500\": {\"frequency\": 4, \"value\": 261500}, \"540400\": {\"frequency\": 1, \"value\": 540400}, \"367999\": {\"frequency\": 1, \"value\": 367999}, \"368000\": {\"frequency\": 16, \"value\": 368000}, \"2280000\": {\"frequency\": 1, \"value\": 2280000}, \"474500\": {\"frequency\": 1, \"value\": 474500}, \"875909\": {\"frequency\": 1, \"value\": 875909}, \"834950\": {\"frequency\": 2, \"value\": 834950}, \"581000\": {\"frequency\": 6, \"value\": 581000}, \"677100\": {\"frequency\": 1, \"value\": 677100}, \"687500\": {\"frequency\": 6, \"value\": 687500}, \"384400\": {\"frequency\": 1, \"value\": 384400}, \"857326\": {\"frequency\": 1, \"value\": 857326}, \"441750\": {\"frequency\": 1, \"value\": 441750}, \"3345000\": {\"frequency\": 1, \"value\": 3345000}, \"597400\": {\"frequency\": 1, \"value\": 597400}, \"1362500\": {\"frequency\": 1, \"value\": 1362500}, \"499100\": {\"frequency\": 1, \"value\": 499100}, \"449950\": {\"frequency\": 17, \"value\": 449950}, \"302495\": {\"frequency\": 1, \"value\": 302495}, \"196000\": {\"frequency\": 7, \"value\": 196000}, \"1910000\": {\"frequency\": 1, \"value\": 1910000}, \"302500\": {\"frequency\": 3, \"value\": 302500}, \"318888\": {\"frequency\": 1, \"value\": 318888}, \"204700\": {\"frequency\": 1, \"value\": 204700}, \"997000\": {\"frequency\": 1, \"value\": 997000}, \"99000\": {\"frequency\": 1, \"value\": 99000}, \"515500\": {\"frequency\": 2, \"value\": 515500}, \"622000\": {\"frequency\": 6, \"value\": 622000}, \"649800\": {\"frequency\": 1, \"value\": 649800}, \"163250\": {\"frequency\": 1, \"value\": 163250}, \"384435\": {\"frequency\": 1, \"value\": 384435}, \"252700\": {\"frequency\": 1, \"value\": 252700}, \"835000\": {\"frequency\": 24, \"value\": 835000}, \"941500\": {\"frequency\": 1, \"value\": 941500}, \"277950\": {\"frequency\": 2, \"value\": 277950}, \"228800\": {\"frequency\": 1, \"value\": 228800}, \"1028000\": {\"frequency\": 1, \"value\": 1028000}, \"799990\": {\"frequency\": 3, \"value\": 799990}, \"449990\": {\"frequency\": 1, \"value\": 449990}, \"376000\": {\"frequency\": 9, \"value\": 376000}, \"283200\": {\"frequency\": 2, \"value\": 283200}, \"343500\": {\"frequency\": 3, \"value\": 343500}, \"294350\": {\"frequency\": 1, \"value\": 294350}, \"449999\": {\"frequency\": 2, \"value\": 449999}, \"5570000\": {\"frequency\": 1, \"value\": 5570000}, \"279800\": {\"frequency\": 1, \"value\": 279800}, \"358990\": {\"frequency\": 1, \"value\": 358990}, \"261590\": {\"frequency\": 1, \"value\": 261590}, \"700500\": {\"frequency\": 1, \"value\": 700500}, \"663000\": {\"frequency\": 5, \"value\": 663000}, \"266490\": {\"frequency\": 1, \"value\": 266490}, \"204250\": {\"frequency\": 1, \"value\": 204250}, \"359900\": {\"frequency\": 4, \"value\": 359900}, \"1900000\": {\"frequency\": 10, \"value\": 1900000}, \"1170000\": {\"frequency\": 3, \"value\": 1170000}, \"417250\": {\"frequency\": 1, \"value\": 417250}, \"777700\": {\"frequency\": 1, \"value\": 777700}, \"675750\": {\"frequency\": 1, \"value\": 675750}, \"1089000\": {\"frequency\": 1, \"value\": 1089000}, \"220650\": {\"frequency\": 1, \"value\": 220650}, \"171500\": {\"frequency\": 1, \"value\": 171500}, \"278000\": {\"frequency\": 16, \"value\": 278000}, \"384500\": {\"frequency\": 2, \"value\": 384500}, \"1515000\": {\"frequency\": 1, \"value\": 1515000}, \"597500\": {\"frequency\": 4, \"value\": 597500}, \"908800\": {\"frequency\": 1, \"value\": 908800}, \"1312000\": {\"frequency\": 1, \"value\": 1312000}, \"482000\": {\"frequency\": 14, \"value\": 482000}, \"712198\": {\"frequency\": 1, \"value\": 712198}, \"917000\": {\"frequency\": 1, \"value\": 917000}, \"622200\": {\"frequency\": 1, \"value\": 622200}, \"318989\": {\"frequency\": 1, \"value\": 318989}, \"359950\": {\"frequency\": 19, \"value\": 359950}, \"1130000\": {\"frequency\": 6, \"value\": 1130000}, \"154200\": {\"frequency\": 1, \"value\": 154200}, \"212500\": {\"frequency\": 3, \"value\": 212500}, \"1780000\": {\"frequency\": 2, \"value\": 1780000}, \"933399\": {\"frequency\": 1, \"value\": 933399}, \"319000\": {\"frequency\": 21, \"value\": 319000}, \"394500\": {\"frequency\": 1, \"value\": 394500}, \"884250\": {\"frequency\": 1, \"value\": 884250}, \"835100\": {\"frequency\": 1, \"value\": 835100}, \"785950\": {\"frequency\": 1, \"value\": 785950}, \"532000\": {\"frequency\": 9, \"value\": 532000}, \"1454000\": {\"frequency\": 1, \"value\": 1454000}, \"293467\": {\"frequency\": 1, \"value\": 293467}, \"409124\": {\"frequency\": 1, \"value\": 409124}, \"754950\": {\"frequency\": 1, \"value\": 754950}, \"745000\": {\"frequency\": 20, \"value\": 745000}, \"449400\": {\"frequency\": 1, \"value\": 449400}, \"78000\": {\"frequency\": 1, \"value\": 78000}, \"237100\": {\"frequency\": 1, \"value\": 237100}, \"678940\": {\"frequency\": 1, \"value\": 678940}, \"958000\": {\"frequency\": 1, \"value\": 958000}, \"501000\": {\"frequency\": 8, \"value\": 501000}, \"294450\": {\"frequency\": 1, \"value\": 294450}, \"400950\": {\"frequency\": 2, \"value\": 400950}, \"147000\": {\"frequency\": 2, \"value\": 147000}, \"2320000\": {\"frequency\": 1, \"value\": 2320000}, \"253500\": {\"frequency\": 4, \"value\": 253500}, \"619100\": {\"frequency\": 1, \"value\": 619100}, \"359999\": {\"frequency\": 2, \"value\": 359999}, \"564800\": {\"frequency\": 1, \"value\": 564800}, \"4668000\": {\"frequency\": 1, \"value\": 4668000}, \"671300\": {\"frequency\": 1, \"value\": 671300}, \"573000\": {\"frequency\": 1, \"value\": 573000}, \"1017100\": {\"frequency\": 1, \"value\": 1017100}, \"269900\": {\"frequency\": 5, \"value\": 269900}, \"286285\": {\"frequency\": 1, \"value\": 286285}, \"1810000\": {\"frequency\": 3, \"value\": 1810000}, \"438200\": {\"frequency\": 1, \"value\": 438200}, \"278100\": {\"frequency\": 1, \"value\": 278100}, \"455950\": {\"frequency\": 1, \"value\": 455950}, \"228950\": {\"frequency\": 3, \"value\": 228950}, \"999000\": {\"frequency\": 6, \"value\": 999000}, \"678500\": {\"frequency\": 3, \"value\": 678500}, \"286300\": {\"frequency\": 2, \"value\": 286300}, \"392800\": {\"frequency\": 2, \"value\": 392800}, \"202000\": {\"frequency\": 8, \"value\": 202000}, \"589410\": {\"frequency\": 1, \"value\": 589410}, \"286308\": {\"frequency\": 1, \"value\": 286308}, \"654950\": {\"frequency\": 1, \"value\": 654950}, \"401000\": {\"frequency\": 12, \"value\": 401000}, \"534640\": {\"frequency\": 1, \"value\": 534640}, \"507500\": {\"frequency\": 2, \"value\": 507500}, \"714000\": {\"frequency\": 2, \"value\": 714000}, \"614000\": {\"frequency\": 4, \"value\": 614000}, \"1862000\": {\"frequency\": 1, \"value\": 1862000}, \"720500\": {\"frequency\": 1, \"value\": 720500}, \"320600\": {\"frequency\": 1, \"value\": 320600}, \"425590\": {\"frequency\": 1, \"value\": 425590}, \"949880\": {\"frequency\": 1, \"value\": 949880}, \"368250\": {\"frequency\": 1, \"value\": 368250}, \"269950\": {\"frequency\": 20, \"value\": 269950}, \"1040000\": {\"frequency\": 3, \"value\": 1040000}, \"1880000\": {\"frequency\": 3, \"value\": 1880000}, \"422800\": {\"frequency\": 1, \"value\": 422800}, \"1410000\": {\"frequency\": 2, \"value\": 1410000}, \"646000\": {\"frequency\": 4, \"value\": 646000}, \"524225\": {\"frequency\": 1, \"value\": 524225}, \"229000\": {\"frequency\": 16, \"value\": 229000}, \"589450\": {\"frequency\": 1, \"value\": 589450}, \"335500\": {\"frequency\": 3, \"value\": 335500}, \"241400\": {\"frequency\": 1, \"value\": 241400}, \"491150\": {\"frequency\": 1, \"value\": 491150}, \"442000\": {\"frequency\": 12, \"value\": 442000}, \"415000\": {\"frequency\": 111, \"value\": 415000}, \"548500\": {\"frequency\": 2, \"value\": 548500}, \"227950\": {\"frequency\": 2, \"value\": 227950}, \"908950\": {\"frequency\": 1, \"value\": 908950}, \"1679000\": {\"frequency\": 1, \"value\": 1679000}, \"450500\": {\"frequency\": 2, \"value\": 450500}, \"598200\": {\"frequency\": 1, \"value\": 598200}, \"482975\": {\"frequency\": 1, \"value\": 482975}, \"458400\": {\"frequency\": 1, \"value\": 458400}, \"1510000\": {\"frequency\": 1, \"value\": 1510000}, \"552100\": {\"frequency\": 1, \"value\": 552100}, \"212644\": {\"frequency\": 1, \"value\": 212644}, \"739888\": {\"frequency\": 1, \"value\": 739888}, \"1081000\": {\"frequency\": 2, \"value\": 1081000}, \"955000\": {\"frequency\": 4, \"value\": 955000}, \"294570\": {\"frequency\": 1, \"value\": 294570}, \"1187500\": {\"frequency\": 2, \"value\": 1187500}, \"523950\": {\"frequency\": 1, \"value\": 523950}, \"270000\": {\"frequency\": 90, \"value\": 270000}, \"729032\": {\"frequency\": 1, \"value\": 729032}, \"376500\": {\"frequency\": 1, \"value\": 376500}, \"399888\": {\"frequency\": 2, \"value\": 399888}, \"483000\": {\"frequency\": 6, \"value\": 483000}, \"413800\": {\"frequency\": 1, \"value\": 413800}, \"229050\": {\"frequency\": 1, \"value\": 229050}, \"179900\": {\"frequency\": 3, \"value\": 179900}, \"949950\": {\"frequency\": 2, \"value\": 949950}, \"696000\": {\"frequency\": 4, \"value\": 696000}, \"1140000\": {\"frequency\": 4, \"value\": 1140000}, \"769995\": {\"frequency\": 2, \"value\": 769995}, \"802500\": {\"frequency\": 2, \"value\": 802500}, \"399990\": {\"frequency\": 1, \"value\": 399990}, \"909000\": {\"frequency\": 1, \"value\": 909000}, \"532170\": {\"frequency\": 1, \"value\": 532170}, \"1398000\": {\"frequency\": 2, \"value\": 1398000}, \"724500\": {\"frequency\": 1, \"value\": 724500}, \"1211000\": {\"frequency\": 1, \"value\": 1211000}, \"846000\": {\"frequency\": 1, \"value\": 846000}, \"340768\": {\"frequency\": 1, \"value\": 340768}, \"818900\": {\"frequency\": 1, \"value\": 818900}, \"564950\": {\"frequency\": 1, \"value\": 564950}, \"311000\": {\"frequency\": 14, \"value\": 311000}, \"734500\": {\"frequency\": 1, \"value\": 734500}, \"417500\": {\"frequency\": 5, \"value\": 417500}, \"515805\": {\"frequency\": 1, \"value\": 515805}, \"524000\": {\"frequency\": 10, \"value\": 524000}, \"360400\": {\"frequency\": 1, \"value\": 360400}, \"491234\": {\"frequency\": 1, \"value\": 491234}, \"630500\": {\"frequency\": 2, \"value\": 630500}, \"949990\": {\"frequency\": 1, \"value\": 949990}, \"899900\": {\"frequency\": 1, \"value\": 899900}, \"737000\": {\"frequency\": 2, \"value\": 737000}, \"395900\": {\"frequency\": 1, \"value\": 395900}, \"638700\": {\"frequency\": 1, \"value\": 638700}, \"802541\": {\"frequency\": 1, \"value\": 802541}, \"179950\": {\"frequency\": 6, \"value\": 179950}, \"950000\": {\"frequency\": 47, \"value\": 950000}, \"841000\": {\"frequency\": 1, \"value\": 841000}, \"597750\": {\"frequency\": 1, \"value\": 597750}, \"139000\": {\"frequency\": 3, \"value\": 139000}, \"1408762\": {\"frequency\": 1, \"value\": 1408762}, \"859900\": {\"frequency\": 1, \"value\": 859900}, \"473600\": {\"frequency\": 1, \"value\": 473600}, \"351999\": {\"frequency\": 1, \"value\": 351999}, \"352000\": {\"frequency\": 17, \"value\": 352000}, \"458500\": {\"frequency\": 4, \"value\": 458500}, \"491000\": {\"frequency\": 5, \"value\": 491000}, \"565000\": {\"frequency\": 70, \"value\": 565000}, \"312620\": {\"frequency\": 1, \"value\": 312620}, \"204555\": {\"frequency\": 1, \"value\": 204555}, \"671500\": {\"frequency\": 3, \"value\": 671500}, \"3850000\": {\"frequency\": 1, \"value\": 3850000}, \"1495000\": {\"frequency\": 2, \"value\": 1495000}, \"474900\": {\"frequency\": 2, \"value\": 474900}, \"171800\": {\"frequency\": 1, \"value\": 171800}, \"474905\": {\"frequency\": 1, \"value\": 474905}, \"652000\": {\"frequency\": 4, \"value\": 652000}, \"319450\": {\"frequency\": 1, \"value\": 319450}, \"180000\": {\"frequency\": 27, \"value\": 180000}, \"286800\": {\"frequency\": 1, \"value\": 286800}, \"194000\": {\"frequency\": 8, \"value\": 194000}, \"305240\": {\"frequency\": 1, \"value\": 305240}, \"286500\": {\"frequency\": 1, \"value\": 286500}, \"393000\": {\"frequency\": 10, \"value\": 393000}, \"332900\": {\"frequency\": 1, \"value\": 332900}, \"704300\": {\"frequency\": 1, \"value\": 704300}, \"859950\": {\"frequency\": 1, \"value\": 859950}, \"606000\": {\"frequency\": 6, \"value\": 606000}, \"613000\": {\"frequency\": 7, \"value\": 613000}, \"712500\": {\"frequency\": 4, \"value\": 712500}, \"253750\": {\"frequency\": 1, \"value\": 253750}, \"392400\": {\"frequency\": 1, \"value\": 392400}, \"819000\": {\"frequency\": 5, \"value\": 819000}, \"925500\": {\"frequency\": 1, \"value\": 925500}, \"466750\": {\"frequency\": 1, \"value\": 466750}, \"684000\": {\"frequency\": 2, \"value\": 684000}, \"322968\": {\"frequency\": 1, \"value\": 322968}, \"474950\": {\"frequency\": 5, \"value\": 474950}, \"1245000\": {\"frequency\": 3, \"value\": 1245000}, \"514700\": {\"frequency\": 1, \"value\": 514700}, \"754999\": {\"frequency\": 1, \"value\": 754999}, \"327500\": {\"frequency\": 8, \"value\": 327500}, \"434000\": {\"frequency\": 4, \"value\": 434000}, \"652600\": {\"frequency\": 1, \"value\": 652600}, \"253779\": {\"frequency\": 1, \"value\": 253779}, \"540500\": {\"frequency\": 2, \"value\": 540500}, \"859990\": {\"frequency\": 1, \"value\": 859990}, \"196440\": {\"frequency\": 1, \"value\": 196440}, \"483300\": {\"frequency\": 1, \"value\": 483300}, \"808250\": {\"frequency\": 1, \"value\": 808250}, \"89950\": {\"frequency\": 1, \"value\": 89950}, \"860000\": {\"frequency\": 25, \"value\": 860000}, \"1850000\": {\"frequency\": 6, \"value\": 1850000}, \"827235\": {\"frequency\": 1, \"value\": 827235}, \"728935\": {\"frequency\": 1, \"value\": 728935}, \"769900\": {\"frequency\": 1, \"value\": 769900}, \"262000\": {\"frequency\": 12, \"value\": 262000}, \"1820000\": {\"frequency\": 1, \"value\": 1820000}, \"473000\": {\"frequency\": 11, \"value\": 473000}, \"368500\": {\"frequency\": 4, \"value\": 368500}, \"475000\": {\"frequency\": 120, \"value\": 475000}, \"191000\": {\"frequency\": 5, \"value\": 191000}, \"291600\": {\"frequency\": 1, \"value\": 291600}, \"688000\": {\"frequency\": 6, \"value\": 688000}, \"251200\": {\"frequency\": 1, \"value\": 251200}, \"932800\": {\"frequency\": 1, \"value\": 932800}, \"384900\": {\"frequency\": 1, \"value\": 384900}, \"245500\": {\"frequency\": 2, \"value\": 245500}, \"335750\": {\"frequency\": 1, \"value\": 335750}, \"901000\": {\"frequency\": 2, \"value\": 901000}, \"561600\": {\"frequency\": 1, \"value\": 561600}, \"442250\": {\"frequency\": 1, \"value\": 442250}, \"538250\": {\"frequency\": 1, \"value\": 538250}, \"614285\": {\"frequency\": 1, \"value\": 614285}, \"90000\": {\"frequency\": 5, \"value\": 90000}, \"322200\": {\"frequency\": 1, \"value\": 322200}, \"196500\": {\"frequency\": 2, \"value\": 196500}, \"303000\": {\"frequency\": 13, \"value\": 303000}, \"562500\": {\"frequency\": 6, \"value\": 562500}, \"409500\": {\"frequency\": 2, \"value\": 409500}, \"769950\": {\"frequency\": 1, \"value\": 769950}, \"516000\": {\"frequency\": 4, \"value\": 516000}, \"614306\": {\"frequency\": 1, \"value\": 614306}, \"622500\": {\"frequency\": 5, \"value\": 622500}, \"615750\": {\"frequency\": 1, \"value\": 615750}, \"729000\": {\"frequency\": 9, \"value\": 729000}, \"655275\": {\"frequency\": 1, \"value\": 655275}, \"1146800\": {\"frequency\": 1, \"value\": 1146800}, \"578888\": {\"frequency\": 1, \"value\": 578888}, \"554000\": {\"frequency\": 13, \"value\": 554000}, \"384950\": {\"frequency\": 3, \"value\": 384950}, \"1155000\": {\"frequency\": 3, \"value\": 1155000}, \"286651\": {\"frequency\": 1, \"value\": 286651}, \"237500\": {\"frequency\": 4, \"value\": 237500}, \"237502\": {\"frequency\": 1, \"value\": 237502}, \"548800\": {\"frequency\": 1, \"value\": 548800}, \"228000\": {\"frequency\": 6, \"value\": 228000}, \"414900\": {\"frequency\": 1, \"value\": 414900}, \"245700\": {\"frequency\": 1, \"value\": 245700}, \"606150\": {\"frequency\": 1, \"value\": 606150}, \"719521\": {\"frequency\": 1, \"value\": 719521}, \"557000\": {\"frequency\": 6, \"value\": 557000}, \"386380\": {\"frequency\": 1, \"value\": 386380}, \"407185\": {\"frequency\": 1, \"value\": 407185}, \"663500\": {\"frequency\": 1, \"value\": 663500}, \"907000\": {\"frequency\": 2, \"value\": 907000}, \"204750\": {\"frequency\": 1, \"value\": 204750}, \"770000\": {\"frequency\": 32, \"value\": 770000}, \"253905\": {\"frequency\": 1, \"value\": 253905}, \"188000\": {\"frequency\": 4, \"value\": 188000}, \"163800\": {\"frequency\": 1, \"value\": 163800}, \"524250\": {\"frequency\": 1, \"value\": 524250}, \"679900\": {\"frequency\": 1, \"value\": 679900}, \"172000\": {\"frequency\": 3, \"value\": 172000}, \"574800\": {\"frequency\": 1, \"value\": 574800}, \"278500\": {\"frequency\": 4, \"value\": 278500}, \"604700\": {\"frequency\": 1, \"value\": 604700}, \"385000\": {\"frequency\": 86, \"value\": 385000}, \"2453500\": {\"frequency\": 1, \"value\": 2453500}, \"286700\": {\"frequency\": 1, \"value\": 286700}, \"3640900\": {\"frequency\": 1, \"value\": 3640900}, \"598000\": {\"frequency\": 4, \"value\": 598000}, \"441000\": {\"frequency\": 10, \"value\": 441000}, \"294900\": {\"frequency\": 2, \"value\": 294900}, \"1835000\": {\"frequency\": 1, \"value\": 1835000}, \"599380\": {\"frequency\": 1, \"value\": 599380}, \"917500\": {\"frequency\": 1, \"value\": 917500}, \"743000\": {\"frequency\": 2, \"value\": 743000}}, \"mean\": 540088.1419053345}, \"zipcode\": {\"complete\": true, \"numeric\": false, \"num_unique\": 70, \"num_undefined\": 0, \"progress\": 1.0, \"frequent_items\": {\"98019\": {\"frequency\": 190, \"value\": \"98019\"}, \"98039\": {\"frequency\": 50, \"value\": \"98039\"}, \"98038\": {\"frequency\": 590, \"value\": \"98038\"}, \"98118\": {\"frequency\": 508, \"value\": \"98118\"}, \"98119\": {\"frequency\": 184, \"value\": \"98119\"}, \"98116\": {\"frequency\": 330, \"value\": \"98116\"}, \"98117\": {\"frequency\": 553, \"value\": \"98117\"}, \"98011\": {\"frequency\": 195, \"value\": \"98011\"}, \"98115\": {\"frequency\": 583, \"value\": \"98115\"}, \"98112\": {\"frequency\": 269, \"value\": \"98112\"}, \"98030\": {\"frequency\": 256, \"value\": \"98030\"}, \"98033\": {\"frequency\": 432, \"value\": \"98033\"}, \"98032\": {\"frequency\": 125, \"value\": \"98032\"}, \"98092\": {\"frequency\": 351, \"value\": \"98092\"}, \"98058\": {\"frequency\": 455, \"value\": \"98058\"}, \"98003\": {\"frequency\": 280, \"value\": \"98003\"}, \"98198\": {\"frequency\": 280, \"value\": \"98198\"}, \"98199\": {\"frequency\": 317, \"value\": \"98199\"}, \"98077\": {\"frequency\": 198, \"value\": \"98077\"}, \"98004\": {\"frequency\": 317, \"value\": \"98004\"}, \"98005\": {\"frequency\": 168, \"value\": \"98005\"}, \"98006\": {\"frequency\": 498, \"value\": \"98006\"}, \"98007\": {\"frequency\": 141, \"value\": \"98007\"}, \"98001\": {\"frequency\": 362, \"value\": \"98001\"}, \"98002\": {\"frequency\": 199, \"value\": \"98002\"}, \"98065\": {\"frequency\": 310, \"value\": \"98065\"}, \"98040\": {\"frequency\": 282, \"value\": \"98040\"}, \"98166\": {\"frequency\": 254, \"value\": \"98166\"}, \"98042\": {\"frequency\": 548, \"value\": \"98042\"}, \"98008\": {\"frequency\": 283, \"value\": \"98008\"}, \"98045\": {\"frequency\": 221, \"value\": \"98045\"}, \"98144\": {\"frequency\": 343, \"value\": \"98144\"}, \"98027\": {\"frequency\": 412, \"value\": \"98027\"}, \"98010\": {\"frequency\": 100, \"value\": \"98010\"}, \"98109\": {\"frequency\": 109, \"value\": \"98109\"}, \"98108\": {\"frequency\": 186, \"value\": \"98108\"}, \"98028\": {\"frequency\": 283, \"value\": \"98028\"}, \"98029\": {\"frequency\": 321, \"value\": \"98029\"}, \"98105\": {\"frequency\": 229, \"value\": \"98105\"}, \"98122\": {\"frequency\": 290, \"value\": \"98122\"}, \"98024\": {\"frequency\": 81, \"value\": \"98024\"}, \"98146\": {\"frequency\": 288, \"value\": \"98146\"}, \"98022\": {\"frequency\": 234, \"value\": \"98022\"}, \"98126\": {\"frequency\": 354, \"value\": \"98126\"}, \"98103\": {\"frequency\": 602, \"value\": \"98103\"}, \"98023\": {\"frequency\": 499, \"value\": \"98023\"}, \"98125\": {\"frequency\": 410, \"value\": \"98125\"}, \"98148\": {\"frequency\": 57, \"value\": \"98148\"}, \"98031\": {\"frequency\": 274, \"value\": \"98031\"}, \"98102\": {\"frequency\": 105, \"value\": \"98102\"}, \"98188\": {\"frequency\": 136, \"value\": \"98188\"}, \"98034\": {\"frequency\": 545, \"value\": \"98034\"}, \"98106\": {\"frequency\": 335, \"value\": \"98106\"}, \"98014\": {\"frequency\": 124, \"value\": \"98014\"}, \"98107\": {\"frequency\": 266, \"value\": \"98107\"}, \"98155\": {\"frequency\": 446, \"value\": \"98155\"}, \"98052\": {\"frequency\": 574, \"value\": \"98052\"}, \"98178\": {\"frequency\": 262, \"value\": \"98178\"}, \"98070\": {\"frequency\": 118, \"value\": \"98070\"}, \"98136\": {\"frequency\": 263, \"value\": \"98136\"}, \"98072\": {\"frequency\": 273, \"value\": \"98072\"}, \"98075\": {\"frequency\": 359, \"value\": \"98075\"}, \"98074\": {\"frequency\": 441, \"value\": \"98074\"}, \"98059\": {\"frequency\": 468, \"value\": \"98059\"}, \"98133\": {\"frequency\": 494, \"value\": \"98133\"}, \"98056\": {\"frequency\": 406, \"value\": \"98056\"}, \"98055\": {\"frequency\": 268, \"value\": \"98055\"}, \"98053\": {\"frequency\": 405, \"value\": \"98053\"}, \"98168\": {\"frequency\": 269, \"value\": \"98168\"}, \"98177\": {\"frequency\": 255, \"value\": \"98177\"}}, \"size\": 21613}}, \"selected_variable\": {\"name\": [\"<SFrame>\"], \"descriptives\": {\"rows\": 21613, \"columns\": 2}, \"view_component\": \"Summary\", \"view_file\": \"sframe\", \"view_params\": {\"y\": null, \"x\": null, \"columns\": [\"zipcode\", \"price\"], \"view\": null}, \"view_components\": [\"Summary\", \"Table\", \"Bar Chart\", \"BoxWhisker Plot\", \"Line Chart\", \"Scatter Plot\", \"Heat Map\", \"Plots\"], \"type\": \"SFrame\", \"columns\": [{\"dtype\": \"str\", \"name\": \"zipcode\"}, {\"dtype\": \"int\", \"name\": \"price\"}], \"column_identifiers\": [\"price\", \"zipcode\"]}, \"columns\": [{\"dtype\": \"str\", \"name\": \"zipcode\"}, {\"dtype\": \"int\", \"name\": \"price\"}]}, e);\n",
       "                });\n",
       "            })();\n",
       "        "
      ]
     },
     "metadata": {},
     "output_type": "display_data"
    }
   ],
   "source": [
    "sales[zip_houses].show()"
   ]
  },
  {
   "cell_type": "code",
   "execution_count": 47,
   "metadata": {
    "collapsed": true
   },
   "outputs": [],
   "source": [
    "houses = sales[sales['zipcode']=='98039']"
   ]
  },
  {
   "cell_type": "code",
   "execution_count": 48,
   "metadata": {
    "collapsed": false
   },
   "outputs": [
    {
     "name": "stdout",
     "output_type": "stream",
     "text": [
      "2160606.6\n"
     ]
    }
   ],
   "source": [
    "print houses['price'].mean()"
   ]
  },
  {
   "cell_type": "markdown",
   "metadata": {},
   "source": [
    "# 216.09779 average price for 98004 zipcode"
   ]
  },
  {
   "cell_type": "code",
   "execution_count": 11,
   "metadata": {
    "collapsed": true
   },
   "outputs": [],
   "source": [
    "h2000sqft = sales[ (sales['sqft_living'] > 2000)  & (sales['sqft_living'] <= 4000)]"
   ]
  },
  {
   "cell_type": "code",
   "execution_count": 12,
   "metadata": {
    "collapsed": false,
    "scrolled": true
   },
   "outputs": [
    {
     "data": {
      "text/html": [
       "<div style=\"max-height:1000px;max-width:1500px;overflow:auto;\"><table frame=\"box\" rules=\"cols\">\n",
       "    <tr>\n",
       "        <th style=\"padding-left: 1em; padding-right: 1em; text-align: center\">id</th>\n",
       "        <th style=\"padding-left: 1em; padding-right: 1em; text-align: center\">date</th>\n",
       "        <th style=\"padding-left: 1em; padding-right: 1em; text-align: center\">price</th>\n",
       "        <th style=\"padding-left: 1em; padding-right: 1em; text-align: center\">bedrooms</th>\n",
       "        <th style=\"padding-left: 1em; padding-right: 1em; text-align: center\">bathrooms</th>\n",
       "        <th style=\"padding-left: 1em; padding-right: 1em; text-align: center\">sqft_living</th>\n",
       "        <th style=\"padding-left: 1em; padding-right: 1em; text-align: center\">sqft_lot</th>\n",
       "        <th style=\"padding-left: 1em; padding-right: 1em; text-align: center\">floors</th>\n",
       "        <th style=\"padding-left: 1em; padding-right: 1em; text-align: center\">waterfront</th>\n",
       "    </tr>\n",
       "    <tr>\n",
       "        <td style=\"padding-left: 1em; padding-right: 1em; text-align: center; vertical-align: top\">6414100192</td>\n",
       "        <td style=\"padding-left: 1em; padding-right: 1em; text-align: center; vertical-align: top\">2014-12-09 00:00:00+00:00</td>\n",
       "        <td style=\"padding-left: 1em; padding-right: 1em; text-align: center; vertical-align: top\">538000</td>\n",
       "        <td style=\"padding-left: 1em; padding-right: 1em; text-align: center; vertical-align: top\">3</td>\n",
       "        <td style=\"padding-left: 1em; padding-right: 1em; text-align: center; vertical-align: top\">2.25</td>\n",
       "        <td style=\"padding-left: 1em; padding-right: 1em; text-align: center; vertical-align: top\">2570</td>\n",
       "        <td style=\"padding-left: 1em; padding-right: 1em; text-align: center; vertical-align: top\">7242</td>\n",
       "        <td style=\"padding-left: 1em; padding-right: 1em; text-align: center; vertical-align: top\">2</td>\n",
       "        <td style=\"padding-left: 1em; padding-right: 1em; text-align: center; vertical-align: top\">0</td>\n",
       "    </tr>\n",
       "    <tr>\n",
       "        <td style=\"padding-left: 1em; padding-right: 1em; text-align: center; vertical-align: top\">1736800520</td>\n",
       "        <td style=\"padding-left: 1em; padding-right: 1em; text-align: center; vertical-align: top\">2015-04-03 00:00:00+00:00</td>\n",
       "        <td style=\"padding-left: 1em; padding-right: 1em; text-align: center; vertical-align: top\">662500</td>\n",
       "        <td style=\"padding-left: 1em; padding-right: 1em; text-align: center; vertical-align: top\">3</td>\n",
       "        <td style=\"padding-left: 1em; padding-right: 1em; text-align: center; vertical-align: top\">2.5</td>\n",
       "        <td style=\"padding-left: 1em; padding-right: 1em; text-align: center; vertical-align: top\">3560</td>\n",
       "        <td style=\"padding-left: 1em; padding-right: 1em; text-align: center; vertical-align: top\">9796</td>\n",
       "        <td style=\"padding-left: 1em; padding-right: 1em; text-align: center; vertical-align: top\">1</td>\n",
       "        <td style=\"padding-left: 1em; padding-right: 1em; text-align: center; vertical-align: top\">0</td>\n",
       "    </tr>\n",
       "    <tr>\n",
       "        <td style=\"padding-left: 1em; padding-right: 1em; text-align: center; vertical-align: top\">9297300055</td>\n",
       "        <td style=\"padding-left: 1em; padding-right: 1em; text-align: center; vertical-align: top\">2015-01-24 00:00:00+00:00</td>\n",
       "        <td style=\"padding-left: 1em; padding-right: 1em; text-align: center; vertical-align: top\">650000</td>\n",
       "        <td style=\"padding-left: 1em; padding-right: 1em; text-align: center; vertical-align: top\">4</td>\n",
       "        <td style=\"padding-left: 1em; padding-right: 1em; text-align: center; vertical-align: top\">3</td>\n",
       "        <td style=\"padding-left: 1em; padding-right: 1em; text-align: center; vertical-align: top\">2950</td>\n",
       "        <td style=\"padding-left: 1em; padding-right: 1em; text-align: center; vertical-align: top\">5000</td>\n",
       "        <td style=\"padding-left: 1em; padding-right: 1em; text-align: center; vertical-align: top\">2</td>\n",
       "        <td style=\"padding-left: 1em; padding-right: 1em; text-align: center; vertical-align: top\">0</td>\n",
       "    </tr>\n",
       "    <tr>\n",
       "        <td style=\"padding-left: 1em; padding-right: 1em; text-align: center; vertical-align: top\">2524049179</td>\n",
       "        <td style=\"padding-left: 1em; padding-right: 1em; text-align: center; vertical-align: top\">2014-08-26 00:00:00+00:00</td>\n",
       "        <td style=\"padding-left: 1em; padding-right: 1em; text-align: center; vertical-align: top\">2000000</td>\n",
       "        <td style=\"padding-left: 1em; padding-right: 1em; text-align: center; vertical-align: top\">3</td>\n",
       "        <td style=\"padding-left: 1em; padding-right: 1em; text-align: center; vertical-align: top\">2.75</td>\n",
       "        <td style=\"padding-left: 1em; padding-right: 1em; text-align: center; vertical-align: top\">3050</td>\n",
       "        <td style=\"padding-left: 1em; padding-right: 1em; text-align: center; vertical-align: top\">44867</td>\n",
       "        <td style=\"padding-left: 1em; padding-right: 1em; text-align: center; vertical-align: top\">1</td>\n",
       "        <td style=\"padding-left: 1em; padding-right: 1em; text-align: center; vertical-align: top\">0</td>\n",
       "    </tr>\n",
       "    <tr>\n",
       "        <td style=\"padding-left: 1em; padding-right: 1em; text-align: center; vertical-align: top\">7137970340</td>\n",
       "        <td style=\"padding-left: 1em; padding-right: 1em; text-align: center; vertical-align: top\">2014-07-03 00:00:00+00:00</td>\n",
       "        <td style=\"padding-left: 1em; padding-right: 1em; text-align: center; vertical-align: top\">285000</td>\n",
       "        <td style=\"padding-left: 1em; padding-right: 1em; text-align: center; vertical-align: top\">5</td>\n",
       "        <td style=\"padding-left: 1em; padding-right: 1em; text-align: center; vertical-align: top\">2.5</td>\n",
       "        <td style=\"padding-left: 1em; padding-right: 1em; text-align: center; vertical-align: top\">2270</td>\n",
       "        <td style=\"padding-left: 1em; padding-right: 1em; text-align: center; vertical-align: top\">6300</td>\n",
       "        <td style=\"padding-left: 1em; padding-right: 1em; text-align: center; vertical-align: top\">2</td>\n",
       "        <td style=\"padding-left: 1em; padding-right: 1em; text-align: center; vertical-align: top\">0</td>\n",
       "    </tr>\n",
       "    <tr>\n",
       "        <td style=\"padding-left: 1em; padding-right: 1em; text-align: center; vertical-align: top\">3814700200</td>\n",
       "        <td style=\"padding-left: 1em; padding-right: 1em; text-align: center; vertical-align: top\">2014-11-20 00:00:00+00:00</td>\n",
       "        <td style=\"padding-left: 1em; padding-right: 1em; text-align: center; vertical-align: top\">329000</td>\n",
       "        <td style=\"padding-left: 1em; padding-right: 1em; text-align: center; vertical-align: top\">3</td>\n",
       "        <td style=\"padding-left: 1em; padding-right: 1em; text-align: center; vertical-align: top\">2.25</td>\n",
       "        <td style=\"padding-left: 1em; padding-right: 1em; text-align: center; vertical-align: top\">2450</td>\n",
       "        <td style=\"padding-left: 1em; padding-right: 1em; text-align: center; vertical-align: top\">6500</td>\n",
       "        <td style=\"padding-left: 1em; padding-right: 1em; text-align: center; vertical-align: top\">2</td>\n",
       "        <td style=\"padding-left: 1em; padding-right: 1em; text-align: center; vertical-align: top\">0</td>\n",
       "    </tr>\n",
       "    <tr>\n",
       "        <td style=\"padding-left: 1em; padding-right: 1em; text-align: center; vertical-align: top\">1794500383</td>\n",
       "        <td style=\"padding-left: 1em; padding-right: 1em; text-align: center; vertical-align: top\">2014-06-26 00:00:00+00:00</td>\n",
       "        <td style=\"padding-left: 1em; padding-right: 1em; text-align: center; vertical-align: top\">937000</td>\n",
       "        <td style=\"padding-left: 1em; padding-right: 1em; text-align: center; vertical-align: top\">3</td>\n",
       "        <td style=\"padding-left: 1em; padding-right: 1em; text-align: center; vertical-align: top\">1.75</td>\n",
       "        <td style=\"padding-left: 1em; padding-right: 1em; text-align: center; vertical-align: top\">2450</td>\n",
       "        <td style=\"padding-left: 1em; padding-right: 1em; text-align: center; vertical-align: top\">2691</td>\n",
       "        <td style=\"padding-left: 1em; padding-right: 1em; text-align: center; vertical-align: top\">2</td>\n",
       "        <td style=\"padding-left: 1em; padding-right: 1em; text-align: center; vertical-align: top\">0</td>\n",
       "    </tr>\n",
       "    <tr>\n",
       "        <td style=\"padding-left: 1em; padding-right: 1em; text-align: center; vertical-align: top\">1873100390</td>\n",
       "        <td style=\"padding-left: 1em; padding-right: 1em; text-align: center; vertical-align: top\">2015-03-02 00:00:00+00:00</td>\n",
       "        <td style=\"padding-left: 1em; padding-right: 1em; text-align: center; vertical-align: top\">719000</td>\n",
       "        <td style=\"padding-left: 1em; padding-right: 1em; text-align: center; vertical-align: top\">4</td>\n",
       "        <td style=\"padding-left: 1em; padding-right: 1em; text-align: center; vertical-align: top\">2.5</td>\n",
       "        <td style=\"padding-left: 1em; padding-right: 1em; text-align: center; vertical-align: top\">2570</td>\n",
       "        <td style=\"padding-left: 1em; padding-right: 1em; text-align: center; vertical-align: top\">7173</td>\n",
       "        <td style=\"padding-left: 1em; padding-right: 1em; text-align: center; vertical-align: top\">2</td>\n",
       "        <td style=\"padding-left: 1em; padding-right: 1em; text-align: center; vertical-align: top\">0</td>\n",
       "    </tr>\n",
       "    <tr>\n",
       "        <td style=\"padding-left: 1em; padding-right: 1em; text-align: center; vertical-align: top\">8562750320</td>\n",
       "        <td style=\"padding-left: 1em; padding-right: 1em; text-align: center; vertical-align: top\">2014-11-10 00:00:00+00:00</td>\n",
       "        <td style=\"padding-left: 1em; padding-right: 1em; text-align: center; vertical-align: top\">580500</td>\n",
       "        <td style=\"padding-left: 1em; padding-right: 1em; text-align: center; vertical-align: top\">3</td>\n",
       "        <td style=\"padding-left: 1em; padding-right: 1em; text-align: center; vertical-align: top\">2.5</td>\n",
       "        <td style=\"padding-left: 1em; padding-right: 1em; text-align: center; vertical-align: top\">2320</td>\n",
       "        <td style=\"padding-left: 1em; padding-right: 1em; text-align: center; vertical-align: top\">3980</td>\n",
       "        <td style=\"padding-left: 1em; padding-right: 1em; text-align: center; vertical-align: top\">2</td>\n",
       "        <td style=\"padding-left: 1em; padding-right: 1em; text-align: center; vertical-align: top\">0</td>\n",
       "    </tr>\n",
       "    <tr>\n",
       "        <td style=\"padding-left: 1em; padding-right: 1em; text-align: center; vertical-align: top\">0461000390</td>\n",
       "        <td style=\"padding-left: 1em; padding-right: 1em; text-align: center; vertical-align: top\">2014-06-24 00:00:00+00:00</td>\n",
       "        <td style=\"padding-left: 1em; padding-right: 1em; text-align: center; vertical-align: top\">687500</td>\n",
       "        <td style=\"padding-left: 1em; padding-right: 1em; text-align: center; vertical-align: top\">4</td>\n",
       "        <td style=\"padding-left: 1em; padding-right: 1em; text-align: center; vertical-align: top\">1.75</td>\n",
       "        <td style=\"padding-left: 1em; padding-right: 1em; text-align: center; vertical-align: top\">2330</td>\n",
       "        <td style=\"padding-left: 1em; padding-right: 1em; text-align: center; vertical-align: top\">5000</td>\n",
       "        <td style=\"padding-left: 1em; padding-right: 1em; text-align: center; vertical-align: top\">1.5</td>\n",
       "        <td style=\"padding-left: 1em; padding-right: 1em; text-align: center; vertical-align: top\">0</td>\n",
       "    </tr>\n",
       "</table>\n",
       "<table frame=\"box\" rules=\"cols\">\n",
       "    <tr>\n",
       "        <th style=\"padding-left: 1em; padding-right: 1em; text-align: center\">view</th>\n",
       "        <th style=\"padding-left: 1em; padding-right: 1em; text-align: center\">condition</th>\n",
       "        <th style=\"padding-left: 1em; padding-right: 1em; text-align: center\">grade</th>\n",
       "        <th style=\"padding-left: 1em; padding-right: 1em; text-align: center\">sqft_above</th>\n",
       "        <th style=\"padding-left: 1em; padding-right: 1em; text-align: center\">sqft_basement</th>\n",
       "        <th style=\"padding-left: 1em; padding-right: 1em; text-align: center\">yr_built</th>\n",
       "        <th style=\"padding-left: 1em; padding-right: 1em; text-align: center\">yr_renovated</th>\n",
       "        <th style=\"padding-left: 1em; padding-right: 1em; text-align: center\">zipcode</th>\n",
       "        <th style=\"padding-left: 1em; padding-right: 1em; text-align: center\">lat</th>\n",
       "    </tr>\n",
       "    <tr>\n",
       "        <td style=\"padding-left: 1em; padding-right: 1em; text-align: center; vertical-align: top\">0</td>\n",
       "        <td style=\"padding-left: 1em; padding-right: 1em; text-align: center; vertical-align: top\">3</td>\n",
       "        <td style=\"padding-left: 1em; padding-right: 1em; text-align: center; vertical-align: top\">7</td>\n",
       "        <td style=\"padding-left: 1em; padding-right: 1em; text-align: center; vertical-align: top\">2170</td>\n",
       "        <td style=\"padding-left: 1em; padding-right: 1em; text-align: center; vertical-align: top\">400</td>\n",
       "        <td style=\"padding-left: 1em; padding-right: 1em; text-align: center; vertical-align: top\">1951</td>\n",
       "        <td style=\"padding-left: 1em; padding-right: 1em; text-align: center; vertical-align: top\">1991</td>\n",
       "        <td style=\"padding-left: 1em; padding-right: 1em; text-align: center; vertical-align: top\">98125</td>\n",
       "        <td style=\"padding-left: 1em; padding-right: 1em; text-align: center; vertical-align: top\">47.72102274</td>\n",
       "    </tr>\n",
       "    <tr>\n",
       "        <td style=\"padding-left: 1em; padding-right: 1em; text-align: center; vertical-align: top\">0</td>\n",
       "        <td style=\"padding-left: 1em; padding-right: 1em; text-align: center; vertical-align: top\">3</td>\n",
       "        <td style=\"padding-left: 1em; padding-right: 1em; text-align: center; vertical-align: top\">8</td>\n",
       "        <td style=\"padding-left: 1em; padding-right: 1em; text-align: center; vertical-align: top\">1860</td>\n",
       "        <td style=\"padding-left: 1em; padding-right: 1em; text-align: center; vertical-align: top\">1700</td>\n",
       "        <td style=\"padding-left: 1em; padding-right: 1em; text-align: center; vertical-align: top\">1965</td>\n",
       "        <td style=\"padding-left: 1em; padding-right: 1em; text-align: center; vertical-align: top\">0</td>\n",
       "        <td style=\"padding-left: 1em; padding-right: 1em; text-align: center; vertical-align: top\">98007</td>\n",
       "        <td style=\"padding-left: 1em; padding-right: 1em; text-align: center; vertical-align: top\">47.60065993</td>\n",
       "    </tr>\n",
       "    <tr>\n",
       "        <td style=\"padding-left: 1em; padding-right: 1em; text-align: center; vertical-align: top\">3</td>\n",
       "        <td style=\"padding-left: 1em; padding-right: 1em; text-align: center; vertical-align: top\">3</td>\n",
       "        <td style=\"padding-left: 1em; padding-right: 1em; text-align: center; vertical-align: top\">9</td>\n",
       "        <td style=\"padding-left: 1em; padding-right: 1em; text-align: center; vertical-align: top\">1980</td>\n",
       "        <td style=\"padding-left: 1em; padding-right: 1em; text-align: center; vertical-align: top\">970</td>\n",
       "        <td style=\"padding-left: 1em; padding-right: 1em; text-align: center; vertical-align: top\">1979</td>\n",
       "        <td style=\"padding-left: 1em; padding-right: 1em; text-align: center; vertical-align: top\">0</td>\n",
       "        <td style=\"padding-left: 1em; padding-right: 1em; text-align: center; vertical-align: top\">98126</td>\n",
       "        <td style=\"padding-left: 1em; padding-right: 1em; text-align: center; vertical-align: top\">47.57136955</td>\n",
       "    </tr>\n",
       "    <tr>\n",
       "        <td style=\"padding-left: 1em; padding-right: 1em; text-align: center; vertical-align: top\">4</td>\n",
       "        <td style=\"padding-left: 1em; padding-right: 1em; text-align: center; vertical-align: top\">3</td>\n",
       "        <td style=\"padding-left: 1em; padding-right: 1em; text-align: center; vertical-align: top\">9</td>\n",
       "        <td style=\"padding-left: 1em; padding-right: 1em; text-align: center; vertical-align: top\">2330</td>\n",
       "        <td style=\"padding-left: 1em; padding-right: 1em; text-align: center; vertical-align: top\">720</td>\n",
       "        <td style=\"padding-left: 1em; padding-right: 1em; text-align: center; vertical-align: top\">1968</td>\n",
       "        <td style=\"padding-left: 1em; padding-right: 1em; text-align: center; vertical-align: top\">0</td>\n",
       "        <td style=\"padding-left: 1em; padding-right: 1em; text-align: center; vertical-align: top\">98040</td>\n",
       "        <td style=\"padding-left: 1em; padding-right: 1em; text-align: center; vertical-align: top\">47.53164379</td>\n",
       "    </tr>\n",
       "    <tr>\n",
       "        <td style=\"padding-left: 1em; padding-right: 1em; text-align: center; vertical-align: top\">0</td>\n",
       "        <td style=\"padding-left: 1em; padding-right: 1em; text-align: center; vertical-align: top\">3</td>\n",
       "        <td style=\"padding-left: 1em; padding-right: 1em; text-align: center; vertical-align: top\">8</td>\n",
       "        <td style=\"padding-left: 1em; padding-right: 1em; text-align: center; vertical-align: top\">2270</td>\n",
       "        <td style=\"padding-left: 1em; padding-right: 1em; text-align: center; vertical-align: top\">0</td>\n",
       "        <td style=\"padding-left: 1em; padding-right: 1em; text-align: center; vertical-align: top\">1995</td>\n",
       "        <td style=\"padding-left: 1em; padding-right: 1em; text-align: center; vertical-align: top\">0</td>\n",
       "        <td style=\"padding-left: 1em; padding-right: 1em; text-align: center; vertical-align: top\">98092</td>\n",
       "        <td style=\"padding-left: 1em; padding-right: 1em; text-align: center; vertical-align: top\">47.32658071</td>\n",
       "    </tr>\n",
       "    <tr>\n",
       "        <td style=\"padding-left: 1em; padding-right: 1em; text-align: center; vertical-align: top\">0</td>\n",
       "        <td style=\"padding-left: 1em; padding-right: 1em; text-align: center; vertical-align: top\">4</td>\n",
       "        <td style=\"padding-left: 1em; padding-right: 1em; text-align: center; vertical-align: top\">8</td>\n",
       "        <td style=\"padding-left: 1em; padding-right: 1em; text-align: center; vertical-align: top\">2450</td>\n",
       "        <td style=\"padding-left: 1em; padding-right: 1em; text-align: center; vertical-align: top\">0</td>\n",
       "        <td style=\"padding-left: 1em; padding-right: 1em; text-align: center; vertical-align: top\">1985</td>\n",
       "        <td style=\"padding-left: 1em; padding-right: 1em; text-align: center; vertical-align: top\">0</td>\n",
       "        <td style=\"padding-left: 1em; padding-right: 1em; text-align: center; vertical-align: top\">98030</td>\n",
       "        <td style=\"padding-left: 1em; padding-right: 1em; text-align: center; vertical-align: top\">47.37386303</td>\n",
       "    </tr>\n",
       "    <tr>\n",
       "        <td style=\"padding-left: 1em; padding-right: 1em; text-align: center; vertical-align: top\">0</td>\n",
       "        <td style=\"padding-left: 1em; padding-right: 1em; text-align: center; vertical-align: top\">3</td>\n",
       "        <td style=\"padding-left: 1em; padding-right: 1em; text-align: center; vertical-align: top\">8</td>\n",
       "        <td style=\"padding-left: 1em; padding-right: 1em; text-align: center; vertical-align: top\">1750</td>\n",
       "        <td style=\"padding-left: 1em; padding-right: 1em; text-align: center; vertical-align: top\">700</td>\n",
       "        <td style=\"padding-left: 1em; padding-right: 1em; text-align: center; vertical-align: top\">1915</td>\n",
       "        <td style=\"padding-left: 1em; padding-right: 1em; text-align: center; vertical-align: top\">0</td>\n",
       "        <td style=\"padding-left: 1em; padding-right: 1em; text-align: center; vertical-align: top\">98119</td>\n",
       "        <td style=\"padding-left: 1em; padding-right: 1em; text-align: center; vertical-align: top\">47.63855772</td>\n",
       "    </tr>\n",
       "    <tr>\n",
       "        <td style=\"padding-left: 1em; padding-right: 1em; text-align: center; vertical-align: top\">0</td>\n",
       "        <td style=\"padding-left: 1em; padding-right: 1em; text-align: center; vertical-align: top\">3</td>\n",
       "        <td style=\"padding-left: 1em; padding-right: 1em; text-align: center; vertical-align: top\">8</td>\n",
       "        <td style=\"padding-left: 1em; padding-right: 1em; text-align: center; vertical-align: top\">2570</td>\n",
       "        <td style=\"padding-left: 1em; padding-right: 1em; text-align: center; vertical-align: top\">0</td>\n",
       "        <td style=\"padding-left: 1em; padding-right: 1em; text-align: center; vertical-align: top\">2005</td>\n",
       "        <td style=\"padding-left: 1em; padding-right: 1em; text-align: center; vertical-align: top\">0</td>\n",
       "        <td style=\"padding-left: 1em; padding-right: 1em; text-align: center; vertical-align: top\">98052</td>\n",
       "        <td style=\"padding-left: 1em; padding-right: 1em; text-align: center; vertical-align: top\">47.70732168</td>\n",
       "    </tr>\n",
       "    <tr>\n",
       "        <td style=\"padding-left: 1em; padding-right: 1em; text-align: center; vertical-align: top\">0</td>\n",
       "        <td style=\"padding-left: 1em; padding-right: 1em; text-align: center; vertical-align: top\">3</td>\n",
       "        <td style=\"padding-left: 1em; padding-right: 1em; text-align: center; vertical-align: top\">8</td>\n",
       "        <td style=\"padding-left: 1em; padding-right: 1em; text-align: center; vertical-align: top\">2320</td>\n",
       "        <td style=\"padding-left: 1em; padding-right: 1em; text-align: center; vertical-align: top\">0</td>\n",
       "        <td style=\"padding-left: 1em; padding-right: 1em; text-align: center; vertical-align: top\">2003</td>\n",
       "        <td style=\"padding-left: 1em; padding-right: 1em; text-align: center; vertical-align: top\">0</td>\n",
       "        <td style=\"padding-left: 1em; padding-right: 1em; text-align: center; vertical-align: top\">98027</td>\n",
       "        <td style=\"padding-left: 1em; padding-right: 1em; text-align: center; vertical-align: top\">47.5391103</td>\n",
       "    </tr>\n",
       "    <tr>\n",
       "        <td style=\"padding-left: 1em; padding-right: 1em; text-align: center; vertical-align: top\">0</td>\n",
       "        <td style=\"padding-left: 1em; padding-right: 1em; text-align: center; vertical-align: top\">4</td>\n",
       "        <td style=\"padding-left: 1em; padding-right: 1em; text-align: center; vertical-align: top\">7</td>\n",
       "        <td style=\"padding-left: 1em; padding-right: 1em; text-align: center; vertical-align: top\">1510</td>\n",
       "        <td style=\"padding-left: 1em; padding-right: 1em; text-align: center; vertical-align: top\">820</td>\n",
       "        <td style=\"padding-left: 1em; padding-right: 1em; text-align: center; vertical-align: top\">1929</td>\n",
       "        <td style=\"padding-left: 1em; padding-right: 1em; text-align: center; vertical-align: top\">0</td>\n",
       "        <td style=\"padding-left: 1em; padding-right: 1em; text-align: center; vertical-align: top\">98117</td>\n",
       "        <td style=\"padding-left: 1em; padding-right: 1em; text-align: center; vertical-align: top\">47.68228235</td>\n",
       "    </tr>\n",
       "</table>\n",
       "<table frame=\"box\" rules=\"cols\">\n",
       "    <tr>\n",
       "        <th style=\"padding-left: 1em; padding-right: 1em; text-align: center\">long</th>\n",
       "        <th style=\"padding-left: 1em; padding-right: 1em; text-align: center\">sqft_living15</th>\n",
       "        <th style=\"padding-left: 1em; padding-right: 1em; text-align: center\">sqft_lot15</th>\n",
       "    </tr>\n",
       "    <tr>\n",
       "        <td style=\"padding-left: 1em; padding-right: 1em; text-align: center; vertical-align: top\">-122.3188624</td>\n",
       "        <td style=\"padding-left: 1em; padding-right: 1em; text-align: center; vertical-align: top\">1690.0</td>\n",
       "        <td style=\"padding-left: 1em; padding-right: 1em; text-align: center; vertical-align: top\">7639.0</td>\n",
       "    </tr>\n",
       "    <tr>\n",
       "        <td style=\"padding-left: 1em; padding-right: 1em; text-align: center; vertical-align: top\">-122.14529566</td>\n",
       "        <td style=\"padding-left: 1em; padding-right: 1em; text-align: center; vertical-align: top\">2210.0</td>\n",
       "        <td style=\"padding-left: 1em; padding-right: 1em; text-align: center; vertical-align: top\">8925.0</td>\n",
       "    </tr>\n",
       "    <tr>\n",
       "        <td style=\"padding-left: 1em; padding-right: 1em; text-align: center; vertical-align: top\">-122.37541218</td>\n",
       "        <td style=\"padding-left: 1em; padding-right: 1em; text-align: center; vertical-align: top\">2140.0</td>\n",
       "        <td style=\"padding-left: 1em; padding-right: 1em; text-align: center; vertical-align: top\">4000.0</td>\n",
       "    </tr>\n",
       "    <tr>\n",
       "        <td style=\"padding-left: 1em; padding-right: 1em; text-align: center; vertical-align: top\">-122.23345881</td>\n",
       "        <td style=\"padding-left: 1em; padding-right: 1em; text-align: center; vertical-align: top\">4110.0</td>\n",
       "        <td style=\"padding-left: 1em; padding-right: 1em; text-align: center; vertical-align: top\">20336.0</td>\n",
       "    </tr>\n",
       "    <tr>\n",
       "        <td style=\"padding-left: 1em; padding-right: 1em; text-align: center; vertical-align: top\">-122.16892624</td>\n",
       "        <td style=\"padding-left: 1em; padding-right: 1em; text-align: center; vertical-align: top\">2240.0</td>\n",
       "        <td style=\"padding-left: 1em; padding-right: 1em; text-align: center; vertical-align: top\">7005.0</td>\n",
       "    </tr>\n",
       "    <tr>\n",
       "        <td style=\"padding-left: 1em; padding-right: 1em; text-align: center; vertical-align: top\">-122.17228981</td>\n",
       "        <td style=\"padding-left: 1em; padding-right: 1em; text-align: center; vertical-align: top\">2200.0</td>\n",
       "        <td style=\"padding-left: 1em; padding-right: 1em; text-align: center; vertical-align: top\">6865.0</td>\n",
       "    </tr>\n",
       "    <tr>\n",
       "        <td style=\"padding-left: 1em; padding-right: 1em; text-align: center; vertical-align: top\">-122.35985573</td>\n",
       "        <td style=\"padding-left: 1em; padding-right: 1em; text-align: center; vertical-align: top\">1760.0</td>\n",
       "        <td style=\"padding-left: 1em; padding-right: 1em; text-align: center; vertical-align: top\">3573.0</td>\n",
       "    </tr>\n",
       "    <tr>\n",
       "        <td style=\"padding-left: 1em; padding-right: 1em; text-align: center; vertical-align: top\">-122.11029785</td>\n",
       "        <td style=\"padding-left: 1em; padding-right: 1em; text-align: center; vertical-align: top\">2630.0</td>\n",
       "        <td style=\"padding-left: 1em; padding-right: 1em; text-align: center; vertical-align: top\">6026.0</td>\n",
       "    </tr>\n",
       "    <tr>\n",
       "        <td style=\"padding-left: 1em; padding-right: 1em; text-align: center; vertical-align: top\">-122.06971484</td>\n",
       "        <td style=\"padding-left: 1em; padding-right: 1em; text-align: center; vertical-align: top\">2580.0</td>\n",
       "        <td style=\"padding-left: 1em; padding-right: 1em; text-align: center; vertical-align: top\">3980.0</td>\n",
       "    </tr>\n",
       "    <tr>\n",
       "        <td style=\"padding-left: 1em; padding-right: 1em; text-align: center; vertical-align: top\">-122.36760203</td>\n",
       "        <td style=\"padding-left: 1em; padding-right: 1em; text-align: center; vertical-align: top\">1460.0</td>\n",
       "        <td style=\"padding-left: 1em; padding-right: 1em; text-align: center; vertical-align: top\">5000.0</td>\n",
       "    </tr>\n",
       "</table>\n",
       "[? rows x 21 columns]<br/>Note: Only the head of the SFrame is printed. This SFrame is lazily evaluated.<br/>You can use sf.materialize() to force materialization.\n",
       "</div>"
      ],
      "text/plain": [
       "Columns:\n",
       "\tid\tstr\n",
       "\tdate\tdatetime\n",
       "\tprice\tint\n",
       "\tbedrooms\tstr\n",
       "\tbathrooms\tstr\n",
       "\tsqft_living\tint\n",
       "\tsqft_lot\tint\n",
       "\tfloors\tstr\n",
       "\twaterfront\tint\n",
       "\tview\tint\n",
       "\tcondition\tint\n",
       "\tgrade\tint\n",
       "\tsqft_above\tint\n",
       "\tsqft_basement\tint\n",
       "\tyr_built\tint\n",
       "\tyr_renovated\tint\n",
       "\tzipcode\tstr\n",
       "\tlat\tfloat\n",
       "\tlong\tfloat\n",
       "\tsqft_living15\tfloat\n",
       "\tsqft_lot15\tfloat\n",
       "\n",
       "Rows: Unknown\n",
       "\n",
       "Data:\n",
       "+------------+---------------------------+---------+----------+-----------+-------------+\n",
       "|     id     |            date           |  price  | bedrooms | bathrooms | sqft_living |\n",
       "+------------+---------------------------+---------+----------+-----------+-------------+\n",
       "| 6414100192 | 2014-12-09 00:00:00+00:00 |  538000 |    3     |    2.25   |     2570    |\n",
       "| 1736800520 | 2015-04-03 00:00:00+00:00 |  662500 |    3     |    2.5    |     3560    |\n",
       "| 9297300055 | 2015-01-24 00:00:00+00:00 |  650000 |    4     |     3     |     2950    |\n",
       "| 2524049179 | 2014-08-26 00:00:00+00:00 | 2000000 |    3     |    2.75   |     3050    |\n",
       "| 7137970340 | 2014-07-03 00:00:00+00:00 |  285000 |    5     |    2.5    |     2270    |\n",
       "| 3814700200 | 2014-11-20 00:00:00+00:00 |  329000 |    3     |    2.25   |     2450    |\n",
       "| 1794500383 | 2014-06-26 00:00:00+00:00 |  937000 |    3     |    1.75   |     2450    |\n",
       "| 1873100390 | 2015-03-02 00:00:00+00:00 |  719000 |    4     |    2.5    |     2570    |\n",
       "| 8562750320 | 2014-11-10 00:00:00+00:00 |  580500 |    3     |    2.5    |     2320    |\n",
       "| 0461000390 | 2014-06-24 00:00:00+00:00 |  687500 |    4     |    1.75   |     2330    |\n",
       "+------------+---------------------------+---------+----------+-----------+-------------+\n",
       "+----------+--------+------------+------+-----------+-------+------------+---------------+\n",
       "| sqft_lot | floors | waterfront | view | condition | grade | sqft_above | sqft_basement |\n",
       "+----------+--------+------------+------+-----------+-------+------------+---------------+\n",
       "|   7242   |   2    |     0      |  0   |     3     |   7   |    2170    |      400      |\n",
       "|   9796   |   1    |     0      |  0   |     3     |   8   |    1860    |      1700     |\n",
       "|   5000   |   2    |     0      |  3   |     3     |   9   |    1980    |      970      |\n",
       "|  44867   |   1    |     0      |  4   |     3     |   9   |    2330    |      720      |\n",
       "|   6300   |   2    |     0      |  0   |     3     |   8   |    2270    |       0       |\n",
       "|   6500   |   2    |     0      |  0   |     4     |   8   |    2450    |       0       |\n",
       "|   2691   |   2    |     0      |  0   |     3     |   8   |    1750    |      700      |\n",
       "|   7173   |   2    |     0      |  0   |     3     |   8   |    2570    |       0       |\n",
       "|   3980   |   2    |     0      |  0   |     3     |   8   |    2320    |       0       |\n",
       "|   5000   |  1.5   |     0      |  0   |     4     |   7   |    1510    |      820      |\n",
       "+----------+--------+------------+------+-----------+-------+------------+---------------+\n",
       "+----------+--------------+---------+-------------+---------------+---------------+-----+\n",
       "| yr_built | yr_renovated | zipcode |     lat     |      long     | sqft_living15 | ... |\n",
       "+----------+--------------+---------+-------------+---------------+---------------+-----+\n",
       "|   1951   |     1991     |  98125  | 47.72102274 |  -122.3188624 |     1690.0    | ... |\n",
       "|   1965   |      0       |  98007  | 47.60065993 | -122.14529566 |     2210.0    | ... |\n",
       "|   1979   |      0       |  98126  | 47.57136955 | -122.37541218 |     2140.0    | ... |\n",
       "|   1968   |      0       |  98040  | 47.53164379 | -122.23345881 |     4110.0    | ... |\n",
       "|   1995   |      0       |  98092  | 47.32658071 | -122.16892624 |     2240.0    | ... |\n",
       "|   1985   |      0       |  98030  | 47.37386303 | -122.17228981 |     2200.0    | ... |\n",
       "|   1915   |      0       |  98119  | 47.63855772 | -122.35985573 |     1760.0    | ... |\n",
       "|   2005   |      0       |  98052  | 47.70732168 | -122.11029785 |     2630.0    | ... |\n",
       "|   2003   |      0       |  98027  |  47.5391103 | -122.06971484 |     2580.0    | ... |\n",
       "|   1929   |      0       |  98117  | 47.68228235 | -122.36760203 |     1460.0    | ... |\n",
       "+----------+--------------+---------+-------------+---------------+---------------+-----+\n",
       "[? rows x 21 columns]\n",
       "Note: Only the head of the SFrame is printed. This SFrame is lazily evaluated.\n",
       "You can use sf.materialize() to force materialization."
      ]
     },
     "execution_count": 12,
     "metadata": {},
     "output_type": "execute_result"
    }
   ],
   "source": [
    "h2000sqft"
   ]
  },
  {
   "cell_type": "code",
   "execution_count": 19,
   "metadata": {
    "collapsed": true
   },
   "outputs": [],
   "source": [
    "def rat(a,b):\n",
    "    a = float(a)\n",
    "    b = float(b)\n",
    "    if b == 0:\n",
    "        return a\n",
    "    return rat(b, a % b) "
   ]
  },
  {
   "cell_type": "code",
   "execution_count": 22,
   "metadata": {
    "collapsed": false
   },
   "outputs": [],
   "source": [
    "res_ration = rat(sales.num_rows(), h2000sqft.num_rows())"
   ]
  },
  {
   "cell_type": "code",
   "execution_count": 23,
   "metadata": {
    "collapsed": false
   },
   "outputs": [
    {
     "data": {
      "text/plain": [
       "1.0"
      ]
     },
     "execution_count": 23,
     "metadata": {},
     "output_type": "execute_result"
    }
   ],
   "source": [
    "res_ration"
   ]
  },
  {
   "cell_type": "code",
   "execution_count": 24,
   "metadata": {
    "collapsed": false
   },
   "outputs": [
    {
     "name": "stdout",
     "output_type": "stream",
     "text": [
      "21613\n"
     ]
    }
   ],
   "source": [
    "print sales.num_rows()"
   ]
  },
  {
   "cell_type": "code",
   "execution_count": 25,
   "metadata": {
    "collapsed": false
   },
   "outputs": [
    {
     "name": "stdout",
     "output_type": "stream",
     "text": [
      "9118\n"
     ]
    }
   ],
   "source": [
    "print h2000sqft.num_rows()"
   ]
  },
  {
   "cell_type": "code",
   "execution_count": 27,
   "metadata": {
    "collapsed": false
   },
   "outputs": [
    {
     "name": "stdout",
     "output_type": "stream",
     "text": [
      "2.3703663084\n"
     ]
    }
   ],
   "source": [
    "print float(sales.num_rows()) / float(h2000sqft.num_rows())"
   ]
  },
  {
   "cell_type": "markdown",
   "metadata": {},
   "source": [
    "# fraction is 2.3703663084"
   ]
  },
  {
   "cell_type": "code",
   "execution_count": 38,
   "metadata": {
    "collapsed": true
   },
   "outputs": [],
   "source": [
    "mf = ['bedrooms', \n",
    "      'bathrooms',\n",
    "      'sqft_living', \n",
    "      'sqft_lot', \n",
    "      'floors', \n",
    "      'zipcode',\n",
    "      'condition', # condition of house\t\t\t\t\n",
    "      'grade', # measure of quality of construction\t\t\t\t\n",
    "      'waterfront', # waterfront property\t\t\t\t\n",
    "      'view', # type of view\t\t\t\t\n",
    "      'sqft_above', # square feet above ground\t\t\t\t\n",
    "      'sqft_basement', # square feet in basement\t\t\t\t\n",
    "      'yr_built', # the year built\t\t\t\t\n",
    "      'yr_renovated', # the year renovated\t\t\t\t\n",
    "      'lat', 'long', # the lat-long of the parcel\t\t\t\t\n",
    "      'sqft_living15', # average sq.ft. of 15 nearest neighbors \t\t\t\t\n",
    "      'sqft_lot15' # average lot size of 15 nearest neighbors \n",
    "     ]"
   ]
  },
  {
   "cell_type": "code",
   "execution_count": 39,
   "metadata": {
    "collapsed": false
   },
   "outputs": [
    {
     "data": {
      "text/plain": [
       "['bedrooms',\n",
       " 'bathrooms',\n",
       " 'sqft_living',\n",
       " 'sqft_lot',\n",
       " 'floors',\n",
       " 'zipcode',\n",
       " 'condition',\n",
       " 'grade',\n",
       " 'waterfront',\n",
       " 'view',\n",
       " 'sqft_above',\n",
       " 'sqft_basement',\n",
       " 'yr_built',\n",
       " 'yr_renovated',\n",
       " 'lat',\n",
       " 'long',\n",
       " 'sqft_living15',\n",
       " 'sqft_lot15']"
      ]
     },
     "execution_count": 39,
     "metadata": {},
     "output_type": "execute_result"
    }
   ],
   "source": [
    "mf"
   ]
  },
  {
   "cell_type": "code",
   "execution_count": 36,
   "metadata": {
    "collapsed": false
   },
   "outputs": [],
   "source": [
    "train_data, test_data = sales.random_split(.8, seed=0)"
   ]
  },
  {
   "cell_type": "code",
   "execution_count": 40,
   "metadata": {
    "collapsed": false
   },
   "outputs": [
    {
     "data": {
      "text/html": [
       "<pre>Linear regression:</pre>"
      ],
      "text/plain": [
       "Linear regression:"
      ]
     },
     "metadata": {},
     "output_type": "display_data"
    },
    {
     "data": {
      "text/html": [
       "<pre>--------------------------------------------------------</pre>"
      ],
      "text/plain": [
       "--------------------------------------------------------"
      ]
     },
     "metadata": {},
     "output_type": "display_data"
    },
    {
     "data": {
      "text/html": [
       "<pre>Number of examples          : 17384</pre>"
      ],
      "text/plain": [
       "Number of examples          : 17384"
      ]
     },
     "metadata": {},
     "output_type": "display_data"
    },
    {
     "data": {
      "text/html": [
       "<pre>Number of features          : 18</pre>"
      ],
      "text/plain": [
       "Number of features          : 18"
      ]
     },
     "metadata": {},
     "output_type": "display_data"
    },
    {
     "data": {
      "text/html": [
       "<pre>Number of unpacked features : 18</pre>"
      ],
      "text/plain": [
       "Number of unpacked features : 18"
      ]
     },
     "metadata": {},
     "output_type": "display_data"
    },
    {
     "data": {
      "text/html": [
       "<pre>Number of coefficients    : 127</pre>"
      ],
      "text/plain": [
       "Number of coefficients    : 127"
      ]
     },
     "metadata": {},
     "output_type": "display_data"
    },
    {
     "data": {
      "text/html": [
       "<pre>Starting Newton Method</pre>"
      ],
      "text/plain": [
       "Starting Newton Method"
      ]
     },
     "metadata": {},
     "output_type": "display_data"
    },
    {
     "data": {
      "text/html": [
       "<pre>--------------------------------------------------------</pre>"
      ],
      "text/plain": [
       "--------------------------------------------------------"
      ]
     },
     "metadata": {},
     "output_type": "display_data"
    },
    {
     "data": {
      "text/html": [
       "<pre>+-----------+----------+--------------+--------------------+---------------+</pre>"
      ],
      "text/plain": [
       "+-----------+----------+--------------+--------------------+---------------+"
      ]
     },
     "metadata": {},
     "output_type": "display_data"
    },
    {
     "data": {
      "text/html": [
       "<pre>| Iteration | Passes   | Elapsed Time | Training-max_error | Training-rmse |</pre>"
      ],
      "text/plain": [
       "| Iteration | Passes   | Elapsed Time | Training-max_error | Training-rmse |"
      ]
     },
     "metadata": {},
     "output_type": "display_data"
    },
    {
     "data": {
      "text/html": [
       "<pre>+-----------+----------+--------------+--------------------+---------------+</pre>"
      ],
      "text/plain": [
       "+-----------+----------+--------------+--------------------+---------------+"
      ]
     },
     "metadata": {},
     "output_type": "display_data"
    },
    {
     "data": {
      "text/html": [
       "<pre>| 1         | 2        | 1.079504     | 3469012.450686     | 154580.940736 |</pre>"
      ],
      "text/plain": [
       "| 1         | 2        | 1.079504     | 3469012.450686     | 154580.940736 |"
      ]
     },
     "metadata": {},
     "output_type": "display_data"
    },
    {
     "data": {
      "text/html": [
       "<pre>+-----------+----------+--------------+--------------------+---------------+</pre>"
      ],
      "text/plain": [
       "+-----------+----------+--------------+--------------------+---------------+"
      ]
     },
     "metadata": {},
     "output_type": "display_data"
    },
    {
     "data": {
      "text/html": [
       "<pre>SUCCESS: Optimal solution found.</pre>"
      ],
      "text/plain": [
       "SUCCESS: Optimal solution found."
      ]
     },
     "metadata": {},
     "output_type": "display_data"
    },
    {
     "data": {
      "text/html": [
       "<pre></pre>"
      ],
      "text/plain": []
     },
     "metadata": {},
     "output_type": "display_data"
    }
   ],
   "source": [
    "super_model=gl.linear_regression.create(train_data,target='price',features=mf, validation_set=None)"
   ]
  },
  {
   "cell_type": "code",
   "execution_count": 41,
   "metadata": {
    "collapsed": true
   },
   "outputs": [],
   "source": [
    "my_features = ['bedrooms', 'bathrooms', 'sqft_living', 'sqft_lot', 'floors', 'zipcode']"
   ]
  },
  {
   "cell_type": "code",
   "execution_count": 42,
   "metadata": {
    "collapsed": false
   },
   "outputs": [
    {
     "data": {
      "text/html": [
       "<pre>Linear regression:</pre>"
      ],
      "text/plain": [
       "Linear regression:"
      ]
     },
     "metadata": {},
     "output_type": "display_data"
    },
    {
     "data": {
      "text/html": [
       "<pre>--------------------------------------------------------</pre>"
      ],
      "text/plain": [
       "--------------------------------------------------------"
      ]
     },
     "metadata": {},
     "output_type": "display_data"
    },
    {
     "data": {
      "text/html": [
       "<pre>Number of examples          : 17384</pre>"
      ],
      "text/plain": [
       "Number of examples          : 17384"
      ]
     },
     "metadata": {},
     "output_type": "display_data"
    },
    {
     "data": {
      "text/html": [
       "<pre>Number of features          : 6</pre>"
      ],
      "text/plain": [
       "Number of features          : 6"
      ]
     },
     "metadata": {},
     "output_type": "display_data"
    },
    {
     "data": {
      "text/html": [
       "<pre>Number of unpacked features : 6</pre>"
      ],
      "text/plain": [
       "Number of unpacked features : 6"
      ]
     },
     "metadata": {},
     "output_type": "display_data"
    },
    {
     "data": {
      "text/html": [
       "<pre>Number of coefficients    : 115</pre>"
      ],
      "text/plain": [
       "Number of coefficients    : 115"
      ]
     },
     "metadata": {},
     "output_type": "display_data"
    },
    {
     "data": {
      "text/html": [
       "<pre>Starting Newton Method</pre>"
      ],
      "text/plain": [
       "Starting Newton Method"
      ]
     },
     "metadata": {},
     "output_type": "display_data"
    },
    {
     "data": {
      "text/html": [
       "<pre>--------------------------------------------------------</pre>"
      ],
      "text/plain": [
       "--------------------------------------------------------"
      ]
     },
     "metadata": {},
     "output_type": "display_data"
    },
    {
     "data": {
      "text/html": [
       "<pre>+-----------+----------+--------------+--------------------+---------------+</pre>"
      ],
      "text/plain": [
       "+-----------+----------+--------------+--------------------+---------------+"
      ]
     },
     "metadata": {},
     "output_type": "display_data"
    },
    {
     "data": {
      "text/html": [
       "<pre>| Iteration | Passes   | Elapsed Time | Training-max_error | Training-rmse |</pre>"
      ],
      "text/plain": [
       "| Iteration | Passes   | Elapsed Time | Training-max_error | Training-rmse |"
      ]
     },
     "metadata": {},
     "output_type": "display_data"
    },
    {
     "data": {
      "text/html": [
       "<pre>+-----------+----------+--------------+--------------------+---------------+</pre>"
      ],
      "text/plain": [
       "+-----------+----------+--------------+--------------------+---------------+"
      ]
     },
     "metadata": {},
     "output_type": "display_data"
    },
    {
     "data": {
      "text/html": [
       "<pre>| 1         | 2        | 0.071082     | 3763208.270523     | 181908.848367 |</pre>"
      ],
      "text/plain": [
       "| 1         | 2        | 0.071082     | 3763208.270523     | 181908.848367 |"
      ]
     },
     "metadata": {},
     "output_type": "display_data"
    },
    {
     "data": {
      "text/html": [
       "<pre>+-----------+----------+--------------+--------------------+---------------+</pre>"
      ],
      "text/plain": [
       "+-----------+----------+--------------+--------------------+---------------+"
      ]
     },
     "metadata": {},
     "output_type": "display_data"
    },
    {
     "data": {
      "text/html": [
       "<pre>SUCCESS: Optimal solution found.</pre>"
      ],
      "text/plain": [
       "SUCCESS: Optimal solution found."
      ]
     },
     "metadata": {},
     "output_type": "display_data"
    },
    {
     "data": {
      "text/html": [
       "<pre></pre>"
      ],
      "text/plain": []
     },
     "metadata": {},
     "output_type": "display_data"
    }
   ],
   "source": [
    "simple_model=gl.linear_regression.create(train_data,target='price',features=my_features, validation_set=None)"
   ]
  },
  {
   "cell_type": "code",
   "execution_count": 43,
   "metadata": {
    "collapsed": false
   },
   "outputs": [
    {
     "name": "stdout",
     "output_type": "stream",
     "text": [
      "{'max_error': 3486584.509381705, 'rmse': 179542.4333126903}\n"
     ]
    }
   ],
   "source": [
    "print simple_model.evaluate(test_data)"
   ]
  },
  {
   "cell_type": "code",
   "execution_count": 44,
   "metadata": {
    "collapsed": false
   },
   "outputs": [
    {
     "name": "stdout",
     "output_type": "stream",
     "text": [
      "{'max_error': 3556849.413858208, 'rmse': 156831.1168021901}\n"
     ]
    }
   ],
   "source": [
    "print super_model.evaluate(test_data)"
   ]
  },
  {
   "cell_type": "code",
   "execution_count": 45,
   "metadata": {
    "collapsed": false
   },
   "outputs": [
    {
     "data": {
      "text/plain": [
       "22711.316510500183"
      ]
     },
     "execution_count": 45,
     "metadata": {},
     "output_type": "execute_result"
    }
   ],
   "source": [
    "179542.4333126903 - 156831.1168021901"
   ]
  },
  {
   "cell_type": "markdown",
   "metadata": {},
   "source": [
    "# dif RMSE :: 22711.316510500183"
   ]
  },
  {
   "cell_type": "code",
   "execution_count": null,
   "metadata": {
    "collapsed": true
   },
   "outputs": [],
   "source": []
  }
 ],
 "metadata": {
  "kernelspec": {
   "display_name": "Python 2",
   "language": "python",
   "name": "python2"
  },
  "language_info": {
   "codemirror_mode": {
    "name": "ipython",
    "version": 2
   },
   "file_extension": ".py",
   "mimetype": "text/x-python",
   "name": "python",
   "nbconvert_exporter": "python",
   "pygments_lexer": "ipython2",
   "version": "2.7.13"
  }
 },
 "nbformat": 4,
 "nbformat_minor": 0
}
